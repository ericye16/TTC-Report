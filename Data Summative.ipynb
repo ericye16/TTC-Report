{
 "metadata": {
  "name": "",
  "signature": "sha256:491c3cc561a46162d50c82853f12fa3437f7e196b1d4f62b5422e00355e605c6"
 },
 "nbformat": 3,
 "nbformat_minor": 0,
 "worksheets": [
  {
   "cells": [
    {
     "cell_type": "heading",
     "level": 1,
     "metadata": {},
     "source": [
      "Analyzing Data on Toronto's Public Transportation System"
     ]
    },
    {
     "cell_type": "markdown",
     "metadata": {},
     "source": [
      "This is a project by [Eric Ye](https://ericye16.com/). (c) 2014, All Rights Reserved until further notice."
     ]
    },
    {
     "cell_type": "markdown",
     "metadata": {},
     "source": [
      "How does cloud cover, precipitation, temperature, date of week, time of day, bus routes, bus route direction, route ridership, number of stops, number of trips per six weeks and geographic area affect the punctuality as determined by average time between scheduled arrival at stops and actual arrival at stops, and speed of buses and streetcars in the Toronto Transit Commission in Spring-Summer 2014?"
     ]
    },
    {
     "cell_type": "markdown",
     "metadata": {},
     "source": [
      "A nice thing about living in Toronto is that the TTC (Toronto Transit Commission) offers data on their bus and streetcar schedules, stops, and routes to the general public. They offer it both in static, six-week-block form in [Google Transit Feed Specification format](https://developers.google.com/transit/gtfs/) [here](http://www1.toronto.ca/wps/portal/contentonly?vgnextoid=96f236899e02b210VgnVCM1000003dd60f89RCRD&vgnextchannel=1a66e03bb8d1e310VgnVCM10000071d60f89RCRD), as well as real-time data from their Next Vehicle Arrival System [here](http://www1.toronto.ca/wps/portal/contentonly?vgnextoid=4427790e6f21d210VgnVCM1000003dd60f89RCRD&vgnextchannel=1a66e03bb8d1e310VgnVCM10000071d60f89RCRD).\n",
      "\n",
      "Combining the two, a good deal of data could be collected and analyzed."
     ]
    },
    {
     "cell_type": "heading",
     "level": 2,
     "metadata": {},
     "source": [
      "Routes and Trips"
     ]
    },
    {
     "cell_type": "markdown",
     "metadata": {},
     "source": [
      "The first thing that I wanted to do was to see which routes have more trips, which would give us a rough estimate of which routes are most busy. Of course, this has a few issues (some routes with more trips may simply be shorter in length) but it's a good start. We don't need `Stops` yet, technically, but it's nice to get our class definitions out of the way."
     ]
    },
    {
     "cell_type": "markdown",
     "metadata": {},
     "source": [
      "Let's get our imports out of the way, and define what routes, trips, and stops are."
     ]
    },
    {
     "cell_type": "code",
     "collapsed": false,
     "input": [
      "%matplotlib inline\n",
      "import csv, math\n",
      "import pandas as pd\n",
      "import numpy as np\n",
      "import matplotlib.pyplot as plt\n",
      "from classes import Route, Trip, Stop # just classes to store the data"
     ],
     "language": "python",
     "metadata": {},
     "outputs": [],
     "prompt_number": 2
    },
    {
     "cell_type": "markdown",
     "metadata": {},
     "source": [
      "Download the data from [here](http://www1.toronto.ca/wps/portal/contentonly?vgnextoid=96f236899e02b210VgnVCM1000003dd60f89RCRD&vgnextchannel=1a66e03bb8d1e310VgnVCM10000071d60f89RCRD), extract, and place the files in a folder called \"schedules\". In it, you should see the files:\n",
      "\n",
      "    $ ls schedules/\n",
      "    agency.txt    routes.txt  stops.txt       trips.txt\n",
      "    calendar.txt  shapes.txt  stop_times.txt\n",
      "\n",
      "We don't use all of these files, but it's good to have them nonetheless."
     ]
    },
    {
     "cell_type": "markdown",
     "metadata": {},
     "source": [
      "Let's start by opening and parsing the `routes.txt` file. This should give us a list of all the routes in the TTC, which we can use for later analysis."
     ]
    },
    {
     "cell_type": "code",
     "collapsed": false,
     "input": [
      "routes_list = {}\n",
      "with open('schedules/routes.txt') as routes_file: \n",
      "    routes_csv = csv.reader(routes_file)\n",
      "    next(routes_csv)  # skip header\n",
      "    for route in routes_csv:\n",
      "        route_id =int(route[0])\n",
      "        route_short_name = route[2]\n",
      "        route_long_name = route[3]\n",
      "        route_type = int(route[5])\n",
      "        routes_list[route_id] = Route(route_id, route_short_name,\n",
      "                                      route_long_name, route_type)"
     ],
     "language": "python",
     "metadata": {},
     "outputs": [],
     "prompt_number": 2
    },
    {
     "cell_type": "markdown",
     "metadata": {},
     "source": [
      "Next the `trips.txt` file. This'll tell us what trips each route has. For each trip we find, we'll attach it to a list associated with the route it belongs to.\n",
      "\n",
      "A trip is one vehicle departing from its home station at one point specific point in time. "
     ]
    },
    {
     "cell_type": "code",
     "collapsed": false,
     "input": [
      "with open('schedules/trips.txt') as trips_file:\n",
      "    trips_csv = csv.reader(trips_file)\n",
      "    next(trips_file)\n",
      "    for trip in trips_csv:\n",
      "        route_id = int(trip[0])\n",
      "        service_id =int(trip[1])\n",
      "        trip_id = int(trip[2])\n",
      "        trip_headsign = trip[3]\n",
      "        route = routes_list[route_id]\n",
      "        route.trips[trip_id] = Trip(trip_id, service_id, trip_headsign)"
     ],
     "language": "python",
     "metadata": {},
     "outputs": [],
     "prompt_number": 3
    },
    {
     "cell_type": "markdown",
     "metadata": {},
     "source": [
      "Now let's go ahead and analyze the data we have. We'll start by putting together tuples of routes and the number of trips they have, then plotting them to see their frequencies. In other words, we'll count the number of trips each route has."
     ]
    },
    {
     "cell_type": "code",
     "collapsed": false,
     "input": [
      "## Distribution of trips vs routes\n",
      "trips_freq = []\n",
      "for route in routes_list.values():\n",
      "    trips_freq.append((route.route_short_name, len(route.trips)))\n",
      "trips_series = pd.Series([x[1] for x in trips_freq])\n",
      "print(trips_series.describe())"
     ],
     "language": "python",
     "metadata": {},
     "outputs": [
      {
       "output_type": "stream",
       "stream": "stdout",
       "text": [
        "count     182.000000\n",
        "mean      689.664835\n",
        "std       622.333137\n",
        "min        13.000000\n",
        "25%       275.750000\n",
        "50%       554.000000\n",
        "75%       945.000000\n",
        "max      4696.000000\n",
        "dtype: float64\n"
       ]
      }
     ],
     "prompt_number": 4
    },
    {
     "cell_type": "markdown",
     "metadata": {},
     "source": [
      "From this data, we see that there is a total of 182 routes, the mean route has ~690 trips, the route with the fewest trips has 13 trips, the route with the most trips has 4696 trips and the median route has 554 trips, all over a six week period.\n",
      "\n",
      "That's pretty interesting, but still doesn't give us very much. Let's add in the definition of Pearson's Index, interquartile range, range, and find out whether we have any outliers, according to the formulae we learned in class."
     ]
    },
    {
     "cell_type": "code",
     "collapsed": false,
     "input": [
      "def pearsons_index(series):\n",
      "    return 3 * (series.mean() - series.median()) / series.std()\n",
      "def data_range(series):\n",
      "    return series.quantile(1) - series.quantile(0)\n",
      "def interquartile_range(series):\n",
      "    return series.quantile(.75) - series.quantile(.25)\n",
      "def outlier_range(series):\n",
      "    iqr = interquartile_range(series)\n",
      "    return (series.quantile(.25) - 1.5 * iqr, series.quantile(.75) + 1.5 * iqr)"
     ],
     "language": "python",
     "metadata": {},
     "outputs": [],
     "prompt_number": 29
    },
    {
     "cell_type": "code",
     "collapsed": false,
     "input": [
      "print(\"Pearson's: %s\" % pearsons_index(trips_series))\n",
      "print(\"Range: %s\" % data_range(trips_series))\n",
      "print(\"IQR: %s\" % interquartile_range(trips_series))\n",
      "print(\"Outliers lie outside: (%s,%s)\" % outlier_range(trips_series))"
     ],
     "language": "python",
     "metadata": {},
     "outputs": [
      {
       "output_type": "stream",
       "stream": "stdout",
       "text": [
        "Pearson's: 0.653981736266\n",
        "Range: 4683\n",
        "IQR: 669.25\n",
        "Outliers lie outside: (-728.125,1948.875)\n"
       ]
      }
     ],
     "prompt_number": 6
    },
    {
     "cell_type": "markdown",
     "metadata": {},
     "source": [
      "According to the Pearson's Index, it would appear that the distribution of trips over routes is right-skewed, but not very much. Let's see the plot to make sure."
     ]
    },
    {
     "cell_type": "code",
     "collapsed": false,
     "input": [
      "fig, ax = plt.subplots(1,1)\n",
      "n, bins, patches = ax.hist([x[1] for x in trips_freq], bins=25,\n",
      "                            align='mid', range=(0, 5000))\n",
      "plt.xlabel('Number of Trips')\n",
      "plt.ylabel('Number of Routes')\n",
      "plt.title('Distribution of trips over routes')\n",
      "plt.xticks(rotation=70)\n",
      "ax.set_xticks(bins[:-1])\n",
      "plt.xticks(bins[:-1],['%.1f' % (x-0.5) for x in bins[:-1]])\n",
      "plt.subplots_adjust(bottom=0.2)"
     ],
     "language": "python",
     "metadata": {},
     "outputs": [
      {
       "metadata": {},
       "output_type": "display_data",
       "png": "[encoded data removed]",
       "text": [
        "<matplotlib.figure.Figure at 0x7f063f3d45c0>"
       ]
      }
     ],
     "prompt_number": 36
    },
    {
     "cell_type": "markdown",
     "metadata": {},
     "source": [
      "There appears to be a few outliers, and it also appears to be obviously skewed. Let's remove these outliers."
     ]
    },
    {
     "cell_type": "code",
     "collapsed": false,
     "input": [
      "outlier_r = outlier_range(trips_series)\n",
      "outliers = filter(lambda x: x[1] < outlier_r[0] or x[1] > outlier_r[1], trips_freq)\n",
      "print(list(outliers))"
     ],
     "language": "python",
     "metadata": {},
     "outputs": [
      {
       "output_type": "stream",
       "stream": "stdout",
       "text": [
        "[('29', 2224), ('32', 2011), ('501', 2705), ('504', 2025), ('509', 2059), ('510', 4696), ('52', 2043), ('BLR', 2181), ('YUS', 2267)]\n"
       ]
      }
     ],
     "prompt_number": 8
    },
    {
     "cell_type": "markdown",
     "metadata": {},
     "source": [
      "Of the outlier routes, two are subways, four are streetcars and three are buses. Let's see what effect removing these outliers from our data has."
     ]
    },
    {
     "cell_type": "code",
     "collapsed": false,
     "input": [
      "trips_series = pd.Series([x[1] for x in trips_freq if x[1] >= outlier_r[0] and x[1] <= outlier_r[1]])\n",
      "print(trips_series.describe())\n",
      "print(\"Pearson's: %s\" % pearsons_index(trips_series))\n",
      "print(\"IQR: %s\" % interquartile_range(trips_series))"
     ],
     "language": "python",
     "metadata": {},
     "outputs": [
      {
       "output_type": "stream",
       "stream": "stdout",
       "text": [
        "count     173.000000\n",
        "mean      597.156069\n",
        "std       445.952944\n",
        "min        13.000000\n",
        "25%       261.000000\n",
        "50%       525.000000\n",
        "75%       881.000000\n",
        "max      1814.000000\n",
        "dtype: float64\n",
        "Pearson's: 0.485405940789\n",
        "IQR: 620\n"
       ]
      }
     ],
     "prompt_number": 9
    },
    {
     "cell_type": "markdown",
     "metadata": {},
     "source": [
      "As expected, Pearson's index and the IQR decreased as well when we removed the outliers. Let's check the plot:"
     ]
    },
    {
     "cell_type": "code",
     "collapsed": false,
     "input": [
      "fig, ax = plt.subplots(1,1)\n",
      "n, bins, patches = ax.hist(trips_series, bins=25,\n",
      "                            align='mid', range=(0, 2000))\n",
      "plt.xlabel('Number of Trips')\n",
      "plt.ylabel('Number of Routes')\n",
      "plt.title('Distribution of trips over routes')\n",
      "plt.xticks(rotation=70)\n",
      "plt.xticks(bins[:-1],['%.1f' % (x-0.5) for x in bins[:-1]])\n",
      "plt.subplots_adjust(bottom=0.2)"
     ],
     "language": "python",
     "metadata": {},
     "outputs": [
      {
       "metadata": {},
       "output_type": "display_data",
       "png": "[encoded data removed]",
       "text": [
        "<matplotlib.figure.Figure at 0x7f063cfd2d30>"
       ]
      }
     ],
     "prompt_number": 35
    },
    {
     "cell_type": "markdown",
     "metadata": {},
     "source": [
      "Despite the large mode on the left of the histogram, the Pearson's Index indicates that the data is not as skewed as it seems. As well, since only 9 of the 182 routes are outliers, the data can be considered non-skewed. For us, this means that while routes vary by up up to 1801 trips over six weeks, most routes are fairly close to the median of 554 trips over a six week period."
     ]
    },
    {
     "cell_type": "heading",
     "level": 2,
     "metadata": {},
     "source": [
      "Types of Vehicles"
     ]
    },
    {
     "cell_type": "markdown",
     "metadata": {},
     "source": [
      "The data also tells us what type of vehicles each route has. For the TTC, this means either streetcar, subway or bus."
     ]
    },
    {
     "cell_type": "code",
     "collapsed": false,
     "input": [
      "# from https://developers.google.com/transit/gtfs/reference#routes_fields\n",
      "TYPE_SUBWAY = 1\n",
      "TYPE_STREETCAR = 0\n",
      "TYPE_BUS = 3\n",
      "\n",
      "buses = 0\n",
      "subways = 0\n",
      "streetcars = 0\n",
      "for route in routes_list.values():\n",
      "    if route.route_type == TYPE_SUBWAY:\n",
      "        subways += 1\n",
      "    elif route.route_type == TYPE_STREETCAR:\n",
      "        streetcars += 1\n",
      "    elif route.route_type == TYPE_BUS:\n",
      "        buses += 1\n",
      "print(\"Bus routes: %s\" % buses)\n",
      "print(\"Subway routes: %s\" % subways)\n",
      "print(\"Streetcar routes: %s\" % streetcars)"
     ],
     "language": "python",
     "metadata": {},
     "outputs": [
      {
       "output_type": "stream",
       "stream": "stdout",
       "text": [
        "Bus routes: 166\n",
        "Subway routes: 4\n",
        "Streetcar routes: 12\n"
       ]
      }
     ],
     "prompt_number": 11
    },
    {
     "cell_type": "markdown",
     "metadata": {},
     "source": [
      "This would be most useful as a pie chart."
     ]
    },
    {
     "cell_type": "code",
     "collapsed": false,
     "input": [
      "plt.figure(figsize = (6,6))\n",
      "p = plt.pie((buses, streetcars, subways), labels=(\"Bus Routes\", \"Streetcar Routes\", \"Subway Routes\"),\n",
      "    startangle=90, autopct=\"%1.1f%%\")\n",
      "t = plt.title(\"Vehicles in the TTC by Number of Routes\")"
     ],
     "language": "python",
     "metadata": {},
     "outputs": [
      {
       "metadata": {},
       "output_type": "display_data",
       "png": "[encoded data removed]",
       "text": [
        "<matplotlib.figure.Figure at 0x7f063f31b898>"
       ]
      }
     ],
     "prompt_number": 12
    },
    {
     "cell_type": "markdown",
     "metadata": {},
     "source": [
      "It would also be useful to look at the vehicles by trips."
     ]
    },
    {
     "cell_type": "code",
     "collapsed": false,
     "input": [
      "subways_trips = 0\n",
      "buses_trips = 0\n",
      "streetcars_trips = 0\n",
      "\n",
      "trips_map = dict(trips_freq)\n",
      "for route in routes_list:\n",
      "    route_type = routes_list[route].route_type\n",
      "    route_name = routes_list[route].route_short_name\n",
      "    if route_type == TYPE_SUBWAY:\n",
      "        subways_trips += trips_map[route_name]\n",
      "    elif route_type == TYPE_BUS:\n",
      "        buses_trips += trips_map[route_name]\n",
      "    elif route_type == TYPE_STREETCAR:\n",
      "        streetcars_trips += trips_map[route_name]\n",
      "print(\"Bus trips: %s\" % buses_trips)\n",
      "print(\"Subway trips: %s\" % subways_trips)\n",
      "print(\"Streetcar trips: %s\" % streetcars_trips)\n",
      "plt.figure(figsize=(6,6))\n",
      "p = plt.pie((buses_trips, streetcars_trips, subways_trips), labels=(\"Bus Trips\", \"Streetcar Trips\",\n",
      "                                                                    \"Subway Trips\"),\n",
      "            startangle=90, autopct=\"%1.1f%%\")\n",
      "t = plt.title(\"Vehicles in the TTC by number of trips\")"
     ],
     "language": "python",
     "metadata": {},
     "outputs": [
      {
       "output_type": "stream",
       "stream": "stdout",
       "text": [
        "Bus trips: 101427\n",
        "Subway trips: 7586\n",
        "Streetcar trips: 16506\n"
       ]
      },
      {
       "metadata": {},
       "output_type": "display_data",
       "png": "[encoded data removed]",
       "text": [
        "<matplotlib.figure.Figure at 0x7f063f30f5c0>"
       ]
      }
     ],
     "prompt_number": 13
    },
    {
     "cell_type": "markdown",
     "metadata": {},
     "source": [
      "Evidently, the order remains, but buses retain a smaller majority and both subways and streetcars take a higher portion of the pie.\n",
      "\n",
      "Next, we can see which vehicles average more trips per route. This is best done in a bar chart:"
     ]
    },
    {
     "cell_type": "code",
     "collapsed": false,
     "input": [
      "streetcar_trip_route = streetcars_trips / streetcars\n",
      "buses_trip_route = buses_trips / buses\n",
      "subway_trip_route = subways_trips / subways\n",
      "print(\"Streetcars: %s trips per route\" % streetcar_trip_route)\n",
      "print(\"Buses: %s trips per route\" % buses_trip_route)\n",
      "print(\"Subways: %s trips per route\" % subway_trip_route)\n",
      "index = np.arange(3)\n",
      "bar_width = .35\n",
      "rect_buses = plt.bar(index, (buses_trip_route, streetcar_trip_route, subway_trip_route), bar_width)\n",
      "plt.xlabel(\"Vehicle Type\")\n",
      "plt.ylabel(\"Average Trips per Route\")\n",
      "plt.title(\"Average Trips per Route by Vehicle Type\")\n",
      "ticks = plt.xticks(index + bar_width / 2, (\"Buses\", \"Streetcars\", \"Subways\"))"
     ],
     "language": "python",
     "metadata": {},
     "outputs": [
      {
       "output_type": "stream",
       "stream": "stdout",
       "text": [
        "Streetcars: 1375.5 trips per route\n",
        "Buses: 611.0060240963855 trips per route\n",
        "Subways: 1896.5 trips per route\n"
       ]
      },
      {
       "metadata": {},
       "output_type": "display_data",
       "png": "[encoded data removed]",
       "text": [
        "<matplotlib.figure.Figure at 0x7f063f42b470>"
       ]
      }
     ],
     "prompt_number": 14
    },
    {
     "cell_type": "markdown",
     "metadata": {},
     "source": [
      "Clearly, subways run the most trips per route, followed by streetcars, followed by buses. This is a loose indication of how busy each type of vehicle is in the TTC. This makes sense, since subways are worked pretty much continuously over the day, and buses are 'resting' the most over a day."
     ]
    },
    {
     "cell_type": "heading",
     "level": 2,
     "metadata": {},
     "source": [
      "Geographic Distribution of Bus Stops"
     ]
    },
    {
     "cell_type": "markdown",
     "metadata": {},
     "source": [
      "The TTC has over 10,000 stop locations. Where are they? We can find out by plotting a scatter plot and using longitude and latitude as the two axes."
     ]
    },
    {
     "cell_type": "code",
     "collapsed": false,
     "input": [
      "stops_list = {}\n",
      "\n",
      "with open('schedules/stops.txt') as stops_file:\n",
      "    stops_csv = csv.reader(stops_file)\n",
      "    next(stops_file)\n",
      "    for stop in stops_csv:\n",
      "        stop_id = int(stop[0])\n",
      "        stop_name = stop[2]\n",
      "        stop_lat = float(stop[4])\n",
      "        stop_lon = float(stop[5])\n",
      "        stops_list[stop_id] = Stop(stop_id, stop_name, stop_lat, stop_lon)\n",
      "\n",
      "lats = [x.stop_lat for x in stops_list.values()]\n",
      "longs = [x.stop_lon for x in stops_list.values()]\n",
      "plt.figure(figsize=(8,6))\n",
      "plt.scatter(longs, lats, marker='.', c='b')\n",
      "plt.xlabel('Longitude')\n",
      "plt.ylabel('Latitude')\n",
      "t = plt.title('Geographic Distribution of All Stops')"
     ],
     "language": "python",
     "metadata": {},
     "outputs": [
      {
       "metadata": {},
       "output_type": "display_data",
       "png": "[encoded data removed]",
       "text": [
        "<matplotlib.figure.Figure at 0x7f063efbdef0>"
       ]
      }
     ],
     "prompt_number": 15
    },
    {
     "cell_type": "markdown",
     "metadata": {},
     "source": [
      "It's interesting how obvious the slant of Toronto's streets from GPS grid is. When we say we're going north on a street, we're likely going slightly to the west as well. There's also an obvious gap of stops along the Don River, which we can follow as it travels to (from?) Lake Ontario.\n",
      "\n",
      "Let's take the mean and median of these points to approximate the geographic centre of Toronto."
     ]
    },
    {
     "cell_type": "code",
     "collapsed": false,
     "input": [
      "longs_pd = pd.Series(longs)\n",
      "lats_pd = pd.Series(lats)\n",
      "fig, ax = plt.subplots(1,1)\n",
      "n, bins, patches = ax.hist(longs_pd, align='mid', bins=25)\n",
      "plt.xlabel('Longitude')\n",
      "plt.ylabel('Number of stops')\n",
      "plt.title('Longitude of Stops')\n",
      "plt.xticks(rotation=70)\n",
      "plt.xticks(bins[:-1],['%.3f' % (x-0.5) for x in bins[:-1]])\n",
      "plt.subplots_adjust(bottom=0.2)\n",
      "print(\"Longitudes: \", longs_pd.describe())"
     ],
     "language": "python",
     "metadata": {},
     "outputs": [
      {
       "output_type": "stream",
       "stream": "stdout",
       "text": [
        "Longitudes:  count    10738.000000\n",
        "mean       -79.399878\n",
        "std          0.110536\n",
        "min        -79.650347\n",
        "25%        -79.489651\n",
        "50%        -79.400623\n",
        "75%        -79.313075\n",
        "max        -79.123046\n",
        "dtype: float64\n"
       ]
      },
      {
       "metadata": {},
       "output_type": "display_data",
       "png": "[encoded data removed]",
       "text": [
        "<matplotlib.figure.Figure at 0x7f063ee31e80>"
       ]
      }
     ],
     "prompt_number": 41
    },
    {
     "cell_type": "code",
     "collapsed": false,
     "input": [
      "fig, ax = plt.subplots(1,1)\n",
      "n, bins, patches = ax.hist(lats_pd, align='mid', bins=25)\n",
      "plt.xlabel('Latitude')\n",
      "plt.ylabel('Number of stops')\n",
      "plt.title('Latitude of Stops')\n",
      "plt.xticks(rotation=70)\n",
      "plt.xticks(bins[:-1],['%.3f' % (x-0.5) for x in bins[:-1]])\n",
      "plt.subplots_adjust(bottom=0.2)\n",
      "print(\"Latitudes: \", lats_pd.describe())"
     ],
     "language": "python",
     "metadata": {},
     "outputs": [
      {
       "output_type": "stream",
       "stream": "stdout",
       "text": [
        "Latitudes:  count    10738.000000\n",
        "mean        43.725382\n",
        "std          0.060305\n",
        "min         43.591810\n",
        "25%         43.677031\n",
        "50%         43.721847\n",
        "75%         43.771064\n",
        "max         43.914362\n",
        "dtype: float64\n"
       ]
      },
      {
       "metadata": {},
       "output_type": "display_data",
       "png": "[encoded data removed]",
       "text": [
        "<matplotlib.figure.Figure at 0x7f063cea3860>"
       ]
      }
     ],
     "prompt_number": 42
    },
    {
     "cell_type": "markdown",
     "metadata": {},
     "source": [
      "Interestingly, the standard deviation of the longitudes is significantly larger than the standard deviation of the latitudes. This indicates that Toronto is a city that is wider on the east-west axes than the north-south axes. Both are roughly mound-shaped and symmetric, however.\n",
      "\n",
      "For us, this means that as long as you don't live in the fringes of Toronto, such as very far north or very far east/west, there is an adquate supply of bus stops."
     ]
    },
    {
     "cell_type": "heading",
     "level": 2,
     "metadata": {},
     "source": [
      "Live Vehicle Location Data"
     ]
    },
    {
     "cell_type": "markdown",
     "metadata": {},
     "source": [
      "Thanks to NVAS, we can keep track of each bus or streetcar (but not subway) by simply querying a server. The service requires a route per request, so in order to collect data for the entire TTC, 178 requests (one \"meta-request\") had to be made. The data was saved into a Python pickle file. \n",
      "\n",
      "The 178 requests took approximately 44 seconds and was run every two minutes for three weeks. Currently, there are a total of 10,126 pickle files, each containing the complete information of a meta-request.\n",
      "\n",
      "The script to request the data and save it to a file is found in `busLocations.py`. For the sake of the filesystem, I've written a script to import this data into [MongoDB](http://www.mongodb.org/), which can be found in `busLocationsMongo.py`.\n",
      "\n",
      "Each data point in the database consists of:\n",
      "* a timestamp (in milliseconds since January 1st, 1970)\n",
      "* a latitude\n",
      "* a longitude\n",
      "* a direction tag (like northbound)\n",
      "* a vehicle ID (like 7945)\n",
      "* a heading (in compass degrees)\n",
      "* a route (like '25')\n",
      "\n",
      "Let's count how many we have, and look at one specific data point."
     ]
    },
    {
     "cell_type": "code",
     "collapsed": false,
     "input": [
      "import pymongo\n",
      "from pymongo import MongoClient, ASCENDING, DESCENDING\n",
      "\n",
      "client = MongoClient()\n",
      "db = client.datasummative # my name for the database\n",
      "collection = db.vehicles # the vehicles collection in the database\n",
      "print(\"Number of points: %s\" % collection.count())\n",
      "print(\"An arbitrarily selected point: %s\" % collection.find_one())"
     ],
     "language": "python",
     "metadata": {},
     "outputs": [
      {
       "output_type": "stream",
       "stream": "stdout",
       "text": [
        "Number of points: 9420806\n",
        "An arbitrarily selected point: {'dirTag': '191_1_191', 'routeTag': '191', '_id': ObjectId('536bedf4920c0e21c26c2e79'), 'heading': 71, 'timestamp': 1398694091674, 'vId': 7945, 'long': -79.595016, 'lat': 43.735985}\n"
       ]
      }
     ],
     "prompt_number": 63
    },
    {
     "cell_type": "markdown",
     "metadata": {},
     "source": [
      "Wow! Over 9.42 million data points! There's a tremendous amount we could do with this data. Let's start by aggregating the headings of the vehicles. It's hard to say that heading is a discrete variable, but in this case we'll treat it as one since there are only 360 possible options. Fortunately, MongoDB's aggregate function makes this easy."
     ]
    },
    {
     "cell_type": "code",
     "collapsed": false,
     "input": [
      "headings = collection.aggregate([{\"$group\":{ '_id': '$heading',\n",
      "                                'count': {'$sum': 1}}},\n",
      "                      {\"$match\": {'_id': {'$gte': 0}}}])\n",
      "headings = headings['result']"
     ],
     "language": "python",
     "metadata": {},
     "outputs": [],
     "prompt_number": 17
    },
    {
     "cell_type": "markdown",
     "metadata": {},
     "source": [
      "Let's plot this on a polar bar chart, which is the obvious way to visualize this."
     ]
    },
    {
     "cell_type": "code",
     "collapsed": false,
     "input": [
      "theta = []\n",
      "r = []\n",
      "for heading in sorted(headings, key=lambda x: x['_id']):\n",
      "    theta.append(heading['_id'] * np.pi / 180)\n",
      "    r.append(heading['count'])\n",
      "\n",
      "ax = plt.subplot(111, polar=True)\n",
      "ax.plot(theta, r)\n",
      "ax.grid(True)\n",
      "\n",
      "ax.set_theta_direction(-1)\n",
      "ax.set_theta_zero_location('N')\n",
      "plt.title(\"Headings of TTC vehicles.\")\n",
      "print(\"Maximum: %s\"% max(r))\n",
      "print(\"Values on two sides of maximum:\",r[r.index(max(r)) -1 ], r[r.index(max(r)) + 1])\n",
      "print(\"Angle of maximum (radians): \", theta[r.index(max(r))])\n",
      "print(\"Total count: \", sum(r))"
     ],
     "language": "python",
     "metadata": {},
     "outputs": [
      {
       "output_type": "stream",
       "stream": "stdout",
       "text": [
        "Maximum: 830814\n",
        "Values on two sides of maximum: 3654 6356\n",
        "Angle of maximum (radians):  3.7699111843077517\n",
        "Total count:  8635317\n"
       ]
      },
      {
       "metadata": {},
       "output_type": "display_data",
       "png": "[encoded data removed]",
       "text": [
        "<matplotlib.figure.Figure at 0x7f063f2ebfd0>"
       ]
      }
     ],
     "prompt_number": 43
    },
    {
     "cell_type": "markdown",
     "metadata": {},
     "source": [
      "The strange spike at 216 degrees can probably be attributed to instrumentation error, since it was three orders of magnitude larger than the values at 215 and 217 degrees. Let's remove it from our dataset and try again."
     ]
    },
    {
     "cell_type": "code",
     "collapsed": false,
     "input": [
      "spike_idx = r.index(max(r))\n",
      "del r[spike_idx]\n",
      "del theta[spike_idx]\n",
      "\n",
      "ax = plt.subplot(111, polar=True)\n",
      "ax.plot(theta, r)\n",
      "ax.grid(True)\n",
      "\n",
      "ax.set_theta_direction(-1)\n",
      "ax.set_theta_zero_location('N')\n",
      "ti = plt.title(\"Headings of TTC vehicles.\")"
     ],
     "language": "python",
     "metadata": {},
     "outputs": [
      {
       "metadata": {},
       "output_type": "display_data",
       "png": "[encoded data removed]",
       "text": [
        "<matplotlib.figure.Figure at 0x7f063f3bab38>"
       ]
      }
     ],
     "prompt_number": 44
    },
    {
     "cell_type": "markdown",
     "metadata": {},
     "source": [
      "As expected, there are spikes heading north, east, south and west but very very little in between. The slight offset is likely due to Toronto's streets having an inclination, as seen in the geographic scatter plot of the buses. Another thing that's interesting, but also expected, is that the graph is mostly symmetrical -- vehicles spend the same amount of time heading east as they do west, and heading north as they do south. This also means that on average, vehicles travel at the same speed heading east and west, and north and south.\n",
      "\n",
      "One item of note is that the east and west spikes are much larger than the north and south spikes. This indicates, like we saw earlier with the larger standard deviation in longitude, that Toronto's east-west axis is longer than Toronto's north-south axis.\n",
      "\n",
      "Let's load it into Pandas for easier analysis."
     ]
    },
    {
     "cell_type": "code",
     "collapsed": false,
     "input": [
      "headings_dataframe = pd.DataFrame(data={\"heading\":[x * 180 / np.pi for x in theta],\n",
      "                                        \"count\": r})\n",
      "print(headings_dataframe[:10])"
     ],
     "language": "python",
     "metadata": {},
     "outputs": [
      {
       "output_type": "stream",
       "stream": "stdout",
       "text": [
        "   count  heading\n",
        "0   8722        0\n",
        "1   6229        1\n",
        "2   5606        2\n",
        "3   7725        3\n",
        "4  10014        4\n",
        "5   5448        5\n",
        "6   8428        6\n",
        "7   7050        7\n",
        "8   4323        8\n",
        "9   4621        9\n",
        "\n",
        "[10 rows x 2 columns]\n"
       ]
      }
     ],
     "prompt_number": 20
    },
    {
     "cell_type": "markdown",
     "metadata": {},
     "source": [
      "Obviously, there are more rows in this data but I truncated it for brevity. To find the mean, median and mode, we will have to implement those methods ourselves."
     ]
    },
    {
     "cell_type": "code",
     "collapsed": false,
     "input": [
      "total_headings = headings_dataframe['count'].sum()\n",
      "\n",
      "# median\n",
      "median_idx = total_headings // 2\n",
      "current_idx = 0\n",
      "for heading in range(len(headings_dataframe)):\n",
      "    current_idx += headings_dataframe.iloc[heading]['count']\n",
      "    if current_idx >= median_idx:\n",
      "        median = headings_dataframe.iloc[heading]['heading']\n",
      "        break\n",
      "\n",
      "# mean\n",
      "s = 0\n",
      "for heading in range(len(headings_dataframe)):\n",
      "    s += headings_dataframe.iloc[heading]['count'] * headings_dataframe.iloc[heading]['heading']\n",
      "mean = s / total_headings\n",
      "\n",
      "# standard deviation\n",
      "s = 0\n",
      "for heading in headings_dataframe.iterrows():\n",
      "    n = heading[1]['count']\n",
      "    h = heading[1]['heading']\n",
      "    s += n * (h - mean) ** 2\n",
      "stdev = math.sqrt((1/total_headings) * s)\n",
      "\n",
      "# mode\n",
      "modes = []\n",
      "max_heading = max(headings_dataframe['count'])\n",
      "modes = [x[1]['heading'] for x in headings_dataframe.iterrows() if x[1]['count'] == max_heading]\n",
      "\n",
      "print(\"Mean: %.3f\"% mean)\n",
      "print(\"Standard deviation: %.3f\" % stdev)\n",
      "print(\"Median: %.0f\"% median)\n",
      "print(\"Modes: %.0f\" % modes[0])"
     ],
     "language": "python",
     "metadata": {},
     "outputs": [
      {
       "output_type": "stream",
       "stream": "stdout",
       "text": [
        "Mean: 197.525\n",
        "Standard deviation: 102.488\n",
        "Median: 179\n",
        "Modes: 253\n"
       ]
      }
     ],
     "prompt_number": 58
    },
    {
     "cell_type": "markdown",
     "metadata": {},
     "source": [
      "As expected, the mean and median are around 180 degrees, since the entire circle encompasses 360 degrees and the points are equally spaced out. The mode is 253 degrees, which could be expected since it is the west spike. The east spike is likely the second-most-popular option. The standard deviation here is not particularly useful."
     ]
    },
    {
     "cell_type": "heading",
     "level": 3,
     "metadata": {},
     "source": [
      "Time Distribution"
     ]
    },
    {
     "cell_type": "markdown",
     "metadata": {},
     "source": [
      "We can look at the distribution of the number of active vehicles over time in a time series plot. For clarity, only one of the three weeks' data is shown."
     ]
    },
    {
     "cell_type": "code",
     "collapsed": false,
     "input": [
      "import pickle\n",
      "from matplotlib.dates import HourLocator, DateFormatter, DayLocator\n",
      "from datetime import datetime\n",
      "from pytz import timezone\n",
      "import pytz\n",
      "tz = timezone('America/Toronto')"
     ],
     "language": "python",
     "metadata": {},
     "outputs": [],
     "prompt_number": 61
    },
    {
     "cell_type": "code",
     "collapsed": false,
     "input": [
      "with open('time_dist.pickle', 'rb') as time_dist_pickle:\n",
      "    time_dist = pickle.load(time_dist_pickle)[1:]\n",
      "    times, dist = zip(*time_dist)\n",
      "    date_times = [datetime.fromtimestamp(x,tz=tz) for x in times]\n",
      "fig, axes = plt.subplots()\n",
      "fig.set_size_inches(8,6)\n",
      "days = DayLocator()\n",
      "hours = HourLocator(interval=8)\n",
      "formatter = DateFormatter('%b %d')\n",
      "axes.plot_date(date_times,dist, 'b.')\n",
      "axes.xaxis.set_major_locator(days)\n",
      "axes.xaxis.set_minor_locator(hours)\n",
      "axes.xaxis.set_major_formatter(formatter)\n",
      "axes.set_xlabel('Date and Time')\n",
      "axes.set_ylabel('Number of vehicles on duty')\n",
      "axes.set_title('Number of TTC vehicles on duty from April 27th to May 4th')\n",
      "plt.show()"
     ],
     "language": "python",
     "metadata": {},
     "outputs": [
      {
       "metadata": {},
       "output_type": "display_data",
       "png": "[encoded data removed]",
       "text": [
        "<matplotlib.figure.Figure at 0x7f8d4263d2e8>"
       ]
      }
     ],
     "prompt_number": 3
    },
    {
     "cell_type": "markdown",
     "metadata": {},
     "source": [
      "Note that the lables indicate the start of the day, so the data here starts the morning of Monday, April 28th and ends shortly after Monday, May 5th. Also note that the small gaps on April 30th can be attributed to a server error.\n",
      "\n",
      "Even without looking at the exact times, there are many more buses and streetcars on the road during rush hour on weekdays than there are on weekends, and much more than there are at night. Weekdays follow a bimodal distribution, whereas weekends follow a modal distribution. Also, there are consistently more vehicles active during morning rush hour than evening rush hour on weekdays.\n",
      "\n",
      "At the peak of Saturday service, there are only as just as many vehicles as there are during the least busy hours of weekdays. There are even fewer active vehicles during peak hours on Sundays."
     ]
    },
    {
     "cell_type": "heading",
     "level": 3,
     "metadata": {},
     "source": [
      "Comparing with Velocity"
     ]
    },
    {
     "cell_type": "markdown",
     "metadata": {},
     "source": [
      "In `velocity.py`, there's code that reads from the MongoDB database and creates velocity vectors given a difference in GPS coordinates and time. We'll use this data in this next part."
     ]
    },
    {
     "cell_type": "code",
     "collapsed": false,
     "input": [
      "#velocity_collection = db.velocity\n",
      "#velocities = []\n",
      "#for idx, velocity_point in enumerate(velocity_collection.find(sort=[('timestamp_orig', ASCENDING)])):\n",
      "#    if idx % 1000 == 0:\n",
      "#        print(idx, end='\\r')\n",
      "#    timestamp = velocity_point['timestamp_orig']\n",
      "#    v = math.sqrt(velocity_point['vx'] ** 2 + velocity_point['vy'] ** 2)\n",
      "#    velocities.append((timestamp, v))"
     ],
     "language": "python",
     "metadata": {},
     "outputs": [
      {
       "output_type": "stream",
       "stream": "stdout",
       "text": [
        "0\r",
        "1000"
       ]
      },
      {
       "output_type": "stream",
       "stream": "stdout",
       "text": [
        "\r",
        "2000\r",
        "3000\r",
        "4000\r",
        "5000\r",
        "6000\r",
        "7000\r",
        "8000\r",
        "9000"
       ]
      },
      {
       "output_type": "stream",
       "stream": "stdout",
       "text": [
        "\r",
        "10000\r",
        "11000\r",
        "12000\r",
        "13000\r",
        "14000\r",
        "15000\r",
        "16000\r",
        "17000"
       ]
      },
      {
       "output_type": "stream",
       "stream": "stdout",
       "text": [
        "\r",
        "18000\r",
        "19000\r",
        "20000\r",
        "21000\r",
        "22000\r",
        "23000\r",
        "24000\r",
        "25000"
       ]
      },
      {
       "output_type": "stream",
       "stream": "stdout",
       "text": [
        "\r",
        "26000\r",
        "27000\r",
        "28000\r",
        "29000\r",
        "30000\r",
        "31000\r",
        "32000\r",
        "33000"
       ]
      },
      {
       "output_type": "stream",
       "stream": "stdout",
       "text": [
        "\r",
        "34000\r",
        "35000\r",
        "36000\r",
        "37000\r",
        "38000\r",
        "39000\r",
        "40000\r",
        "41000"
       ]
      },
      {
       "output_type": "stream",
       "stream": "stdout",
       "text": [
        "\r",
        "42000\r",
        "43000\r",
        "44000\r",
        "45000\r",
        "46000\r",
        "47000\r",
        "48000\r",
        "49000"
       ]
      },
      {
       "output_type": "stream",
       "stream": "stdout",
       "text": [
        "\r",
        "50000"
       ]
      },
      {
       "output_type": "stream",
       "stream": "stdout",
       "text": [
        "\r",
        "51000\r",
        "52000\r",
        "53000\r",
        "54000\r",
        "55000\r",
        "56000\r",
        "57000\r",
        "58000"
       ]
      },
      {
       "output_type": "stream",
       "stream": "stdout",
       "text": [
        "\r",
        "59000\r",
        "60000\r",
        "61000\r",
        "62000\r",
        "63000\r",
        "64000\r",
        "65000\r",
        "66000"
       ]
      },
      {
       "output_type": "stream",
       "stream": "stdout",
       "text": [
        "\r",
        "67000\r",
        "68000\r",
        "69000\r",
        "70000\r",
        "71000\r",
        "72000\r",
        "73000\r",
        "74000"
       ]
      },
      {
       "output_type": "stream",
       "stream": "stdout",
       "text": [
        "\r",
        "75000"
       ]
      },
      {
       "output_type": "stream",
       "stream": "stdout",
       "text": [
        "\r",
        "76000\r",
        "77000\r",
        "78000\r",
        "79000\r",
        "80000\r",
        "81000\r",
        "82000\r",
        "83000"
       ]
      },
      {
       "output_type": "stream",
       "stream": "stdout",
       "text": [
        "\r",
        "84000\r",
        "85000\r",
        "86000\r",
        "87000\r",
        "88000\r",
        "89000\r",
        "90000\r",
        "91000"
       ]
      },
      {
       "output_type": "stream",
       "stream": "stdout",
       "text": [
        "\r",
        "92000\r",
        "93000\r",
        "94000\r",
        "95000\r",
        "96000\r",
        "97000\r",
        "98000\r",
        "99000"
       ]
      },
      {
       "output_type": "stream",
       "stream": "stdout",
       "text": [
        "\r",
        "100000\r",
        "101000\r",
        "102000\r",
        "103000\r",
        "104000\r",
        "105000\r",
        "106000\r",
        "107000"
       ]
      },
      {
       "output_type": "stream",
       "stream": "stdout",
       "text": [
        "\r",
        "108000\r",
        "109000\r",
        "110000\r",
        "111000\r",
        "112000\r",
        "113000\r",
        "114000\r",
        "115000"
       ]
      },
      {
       "output_type": "stream",
       "stream": "stdout",
       "text": [
        "\r",
        "116000\r",
        "117000\r",
        "118000\r",
        "119000\r",
        "120000\r",
        "121000\r",
        "122000\r",
        "123000"
       ]
      },
      {
       "output_type": "stream",
       "stream": "stdout",
       "text": [
        "\r",
        "124000"
       ]
      },
      {
       "output_type": "stream",
       "stream": "stdout",
       "text": [
        "\r",
        "125000\r",
        "126000\r",
        "127000\r",
        "128000\r",
        "129000\r",
        "130000\r",
        "131000\r",
        "132000"
       ]
      },
      {
       "output_type": "stream",
       "stream": "stdout",
       "text": [
        "\r",
        "133000\r",
        "134000\r",
        "135000\r",
        "136000\r",
        "137000\r",
        "138000\r",
        "139000\r",
        "140000"
       ]
      },
      {
       "output_type": "stream",
       "stream": "stdout",
       "text": [
        "\r",
        "141000\r",
        "142000\r",
        "143000\r",
        "144000\r",
        "145000\r",
        "146000\r",
        "147000\r",
        "148000"
       ]
      },
      {
       "output_type": "stream",
       "stream": "stdout",
       "text": [
        "\r",
        "149000"
       ]
      },
      {
       "output_type": "stream",
       "stream": "stdout",
       "text": [
        "\r",
        "150000\r",
        "151000\r",
        "152000\r",
        "153000\r",
        "154000\r",
        "155000\r",
        "156000\r",
        "157000"
       ]
      },
      {
       "output_type": "stream",
       "stream": "stdout",
       "text": [
        "\r",
        "158000\r",
        "159000\r",
        "160000\r",
        "161000\r",
        "162000\r",
        "163000\r",
        "164000\r",
        "165000"
       ]
      },
      {
       "output_type": "stream",
       "stream": "stdout",
       "text": [
        "\r",
        "166000\r",
        "167000\r",
        "168000\r",
        "169000\r",
        "170000\r",
        "171000\r",
        "172000\r",
        "173000"
       ]
      },
      {
       "output_type": "stream",
       "stream": "stdout",
       "text": [
        "\r",
        "174000\r",
        "175000\r",
        "176000\r",
        "177000\r",
        "178000\r",
        "179000\r",
        "180000"
       ]
      },
      {
       "output_type": "stream",
       "stream": "stdout",
       "text": [
        "\r",
        "181000\r",
        "182000\r",
        "183000\r",
        "184000\r",
        "185000\r",
        "186000\r",
        "187000\r",
        "188000"
       ]
      },
      {
       "output_type": "stream",
       "stream": "stdout",
       "text": [
        "\r",
        "189000\r",
        "190000\r",
        "191000\r",
        "192000\r",
        "193000\r",
        "194000\r",
        "195000\r",
        "196000"
       ]
      },
      {
       "output_type": "stream",
       "stream": "stdout",
       "text": [
        "\r",
        "197000\r",
        "198000"
       ]
      },
      {
       "output_type": "stream",
       "stream": "stdout",
       "text": [
        "\r",
        "199000\r",
        "200000\r",
        "201000\r",
        "202000\r",
        "203000\r",
        "204000\r",
        "205000\r",
        "206000"
       ]
      },
      {
       "output_type": "stream",
       "stream": "stdout",
       "text": [
        "\r",
        "207000\r",
        "208000\r",
        "209000\r",
        "210000\r",
        "211000\r",
        "212000\r",
        "213000\r",
        "214000"
       ]
      },
      {
       "output_type": "stream",
       "stream": "stdout",
       "text": [
        "\r",
        "215000\r",
        "216000\r",
        "217000\r",
        "218000\r",
        "219000\r",
        "220000\r",
        "221000\r",
        "222000"
       ]
      },
      {
       "output_type": "stream",
       "stream": "stdout",
       "text": [
        "\r",
        "223000\r",
        "224000\r",
        "225000\r",
        "226000\r",
        "227000\r",
        "228000\r",
        "229000\r",
        "230000"
       ]
      },
      {
       "output_type": "stream",
       "stream": "stdout",
       "text": [
        "\r",
        "231000\r",
        "232000\r",
        "233000\r",
        "234000\r",
        "235000\r",
        "236000\r",
        "237000\r",
        "238000"
       ]
      },
      {
       "output_type": "stream",
       "stream": "stdout",
       "text": [
        "\r",
        "239000\r",
        "240000\r",
        "241000\r",
        "242000\r",
        "243000\r",
        "244000\r",
        "245000\r",
        "246000"
       ]
      },
      {
       "output_type": "stream",
       "stream": "stdout",
       "text": [
        "\r",
        "247000"
       ]
      },
      {
       "output_type": "stream",
       "stream": "stdout",
       "text": [
        "\r",
        "248000\r",
        "249000\r",
        "250000\r",
        "251000\r",
        "252000\r",
        "253000\r",
        "254000\r",
        "255000"
       ]
      },
      {
       "output_type": "stream",
       "stream": "stdout",
       "text": [
        "\r",
        "256000\r",
        "257000\r",
        "258000\r",
        "259000\r",
        "260000\r",
        "261000\r",
        "262000\r",
        "263000"
       ]
      },
      {
       "output_type": "stream",
       "stream": "stdout",
       "text": [
        "\r",
        "264000\r",
        "265000\r",
        "266000\r",
        "267000\r",
        "268000\r",
        "269000\r",
        "270000\r",
        "271000"
       ]
      },
      {
       "output_type": "stream",
       "stream": "stdout",
       "text": [
        "\r",
        "272000\r",
        "273000\r",
        "274000\r",
        "275000\r",
        "276000\r",
        "277000\r",
        "278000\r",
        "279000"
       ]
      },
      {
       "output_type": "stream",
       "stream": "stdout",
       "text": [
        "\r",
        "280000\r",
        "281000\r",
        "282000\r",
        "283000\r",
        "284000\r",
        "285000\r",
        "286000\r",
        "287000"
       ]
      },
      {
       "output_type": "stream",
       "stream": "stdout",
       "text": [
        "\r",
        "288000\r",
        "289000\r",
        "290000\r",
        "291000\r",
        "292000\r",
        "293000\r",
        "294000\r",
        "295000"
       ]
      },
      {
       "output_type": "stream",
       "stream": "stdout",
       "text": [
        "\r",
        "296000"
       ]
      },
      {
       "output_type": "stream",
       "stream": "stdout",
       "text": [
        "\r",
        "297000\r",
        "298000\r",
        "299000\r",
        "300000\r",
        "301000\r",
        "302000\r",
        "303000\r",
        "304000"
       ]
      },
      {
       "output_type": "stream",
       "stream": "stdout",
       "text": [
        "\r",
        "305000\r",
        "306000\r",
        "307000\r",
        "308000\r",
        "309000\r",
        "310000\r",
        "311000\r",
        "312000"
       ]
      },
      {
       "output_type": "stream",
       "stream": "stdout",
       "text": [
        "\r",
        "313000\r",
        "314000\r",
        "315000\r",
        "316000\r",
        "317000\r",
        "318000\r",
        "319000\r",
        "320000"
       ]
      },
      {
       "output_type": "stream",
       "stream": "stdout",
       "text": [
        "\r",
        "321000\r",
        "322000\r",
        "323000\r",
        "324000\r",
        "325000\r",
        "326000\r",
        "327000\r",
        "328000"
       ]
      },
      {
       "output_type": "stream",
       "stream": "stdout",
       "text": [
        "\r",
        "329000\r",
        "330000\r",
        "331000\r",
        "332000\r",
        "333000\r",
        "334000\r",
        "335000\r",
        "336000"
       ]
      },
      {
       "output_type": "stream",
       "stream": "stdout",
       "text": [
        "\r",
        "337000\r",
        "338000\r",
        "339000\r",
        "340000\r",
        "341000\r",
        "342000\r",
        "343000\r",
        "344000"
       ]
      },
      {
       "output_type": "stream",
       "stream": "stdout",
       "text": [
        "\r",
        "345000"
       ]
      },
      {
       "output_type": "stream",
       "stream": "stdout",
       "text": [
        "\r",
        "346000\r",
        "347000\r",
        "348000\r",
        "349000\r",
        "350000\r",
        "351000\r",
        "352000\r",
        "353000"
       ]
      },
      {
       "output_type": "stream",
       "stream": "stdout",
       "text": [
        "\r",
        "354000\r",
        "355000\r",
        "356000\r",
        "357000\r",
        "358000\r",
        "359000\r",
        "360000\r",
        "361000"
       ]
      },
      {
       "output_type": "stream",
       "stream": "stdout",
       "text": [
        "\r",
        "362000\r",
        "363000\r",
        "364000\r",
        "365000\r",
        "366000\r",
        "367000\r",
        "368000\r",
        "369000"
       ]
      },
      {
       "output_type": "stream",
       "stream": "stdout",
       "text": [
        "\r",
        "370000\r",
        "371000\r",
        "372000\r",
        "373000\r",
        "374000\r",
        "375000\r",
        "376000\r",
        "377000"
       ]
      },
      {
       "output_type": "stream",
       "stream": "stdout",
       "text": [
        "\r",
        "378000\r",
        "379000\r",
        "380000\r",
        "381000\r",
        "382000\r",
        "383000\r",
        "384000\r",
        "385000"
       ]
      },
      {
       "output_type": "stream",
       "stream": "stdout",
       "text": [
        "\r",
        "386000\r",
        "387000\r",
        "388000\r",
        "389000\r",
        "390000\r",
        "391000\r",
        "392000\r",
        "393000"
       ]
      },
      {
       "output_type": "stream",
       "stream": "stdout",
       "text": [
        "\r",
        "394000"
       ]
      },
      {
       "output_type": "stream",
       "stream": "stdout",
       "text": [
        "\r",
        "395000\r",
        "396000\r",
        "397000\r",
        "398000\r",
        "399000\r",
        "400000\r",
        "401000\r",
        "402000"
       ]
      },
      {
       "output_type": "stream",
       "stream": "stdout",
       "text": [
        "\r",
        "403000\r",
        "404000\r",
        "405000\r",
        "406000\r",
        "407000\r",
        "408000\r",
        "409000\r",
        "410000"
       ]
      },
      {
       "output_type": "stream",
       "stream": "stdout",
       "text": [
        "\r",
        "411000\r",
        "412000\r",
        "413000\r",
        "414000\r",
        "415000\r",
        "416000\r",
        "417000\r",
        "418000"
       ]
      },
      {
       "output_type": "stream",
       "stream": "stdout",
       "text": [
        "\r",
        "419000"
       ]
      },
      {
       "output_type": "stream",
       "stream": "stdout",
       "text": [
        "\r",
        "420000\r",
        "421000\r",
        "422000\r",
        "423000\r",
        "424000\r",
        "425000\r",
        "426000\r",
        "427000"
       ]
      },
      {
       "output_type": "stream",
       "stream": "stdout",
       "text": [
        "\r",
        "428000\r",
        "429000\r",
        "430000\r",
        "431000\r",
        "432000\r",
        "433000\r",
        "434000\r",
        "435000"
       ]
      },
      {
       "output_type": "stream",
       "stream": "stdout",
       "text": [
        "\r",
        "436000\r",
        "437000\r",
        "438000\r",
        "439000\r",
        "440000\r",
        "441000\r",
        "442000\r",
        "443000"
       ]
      },
      {
       "output_type": "stream",
       "stream": "stdout",
       "text": [
        "\r",
        "444000\r",
        "445000\r",
        "446000\r",
        "447000\r",
        "448000\r",
        "449000\r",
        "450000\r",
        "451000"
       ]
      },
      {
       "output_type": "stream",
       "stream": "stdout",
       "text": [
        "\r",
        "452000\r",
        "453000\r",
        "454000\r",
        "455000\r",
        "456000\r",
        "457000\r",
        "458000"
       ]
      },
      {
       "output_type": "stream",
       "stream": "stdout",
       "text": [
        "\r",
        "459000\r",
        "460000\r",
        "461000\r",
        "462000\r",
        "463000\r",
        "464000\r",
        "465000\r",
        "466000"
       ]
      },
      {
       "output_type": "stream",
       "stream": "stdout",
       "text": [
        "\r",
        "467000\r",
        "468000"
       ]
      },
      {
       "output_type": "stream",
       "stream": "stdout",
       "text": [
        "\r",
        "469000\r",
        "470000\r",
        "471000\r",
        "472000\r",
        "473000\r",
        "474000\r",
        "475000\r",
        "476000"
       ]
      },
      {
       "output_type": "stream",
       "stream": "stdout",
       "text": [
        "\r",
        "477000\r",
        "478000\r",
        "479000\r",
        "480000\r",
        "481000\r",
        "482000\r",
        "483000\r",
        "484000"
       ]
      },
      {
       "output_type": "stream",
       "stream": "stdout",
       "text": [
        "\r",
        "485000\r",
        "486000\r",
        "487000\r",
        "488000\r",
        "489000\r",
        "490000\r",
        "491000\r",
        "492000"
       ]
      },
      {
       "output_type": "stream",
       "stream": "stdout",
       "text": [
        "\r",
        "493000\r",
        "494000\r",
        "495000\r",
        "496000\r",
        "497000\r",
        "498000\r",
        "499000\r",
        "500000"
       ]
      },
      {
       "output_type": "stream",
       "stream": "stdout",
       "text": [
        "\r",
        "501000\r",
        "502000\r",
        "503000\r",
        "504000\r",
        "505000\r",
        "506000\r",
        "507000\r",
        "508000"
       ]
      },
      {
       "output_type": "stream",
       "stream": "stdout",
       "text": [
        "\r",
        "509000\r",
        "510000\r",
        "511000\r",
        "512000\r",
        "513000\r",
        "514000\r",
        "515000\r",
        "516000"
       ]
      },
      {
       "output_type": "stream",
       "stream": "stdout",
       "text": [
        "\r",
        "517000"
       ]
      },
      {
       "output_type": "stream",
       "stream": "stdout",
       "text": [
        "\r",
        "518000\r",
        "519000\r",
        "520000\r",
        "521000\r",
        "522000\r",
        "523000\r",
        "524000\r",
        "525000"
       ]
      },
      {
       "output_type": "stream",
       "stream": "stdout",
       "text": [
        "\r",
        "526000\r",
        "527000\r",
        "528000\r",
        "529000\r",
        "530000\r",
        "531000\r",
        "532000"
       ]
      },
      {
       "output_type": "stream",
       "stream": "stdout",
       "text": [
        "\r",
        "533000\r",
        "534000\r",
        "535000\r",
        "536000\r",
        "537000\r",
        "538000\r",
        "539000"
       ]
      },
      {
       "output_type": "stream",
       "stream": "stdout",
       "text": [
        "\r",
        "540000\r",
        "541000\r",
        "542000"
       ]
      },
      {
       "output_type": "stream",
       "stream": "stdout",
       "text": [
        "\r",
        "543000\r",
        "544000\r",
        "545000\r",
        "546000\r",
        "547000\r",
        "548000\r",
        "549000\r",
        "550000"
       ]
      },
      {
       "output_type": "stream",
       "stream": "stdout",
       "text": [
        "\r",
        "551000\r",
        "552000\r",
        "553000\r",
        "554000\r",
        "555000\r",
        "556000\r",
        "557000\r",
        "558000"
       ]
      },
      {
       "output_type": "stream",
       "stream": "stdout",
       "text": [
        "\r",
        "559000\r",
        "560000\r",
        "561000\r",
        "562000\r",
        "563000\r",
        "564000\r",
        "565000\r",
        "566000"
       ]
      },
      {
       "output_type": "stream",
       "stream": "stdout",
       "text": [
        "\r",
        "567000\r",
        "568000\r",
        "569000\r",
        "570000\r",
        "571000\r",
        "572000\r",
        "573000\r",
        "574000"
       ]
      },
      {
       "output_type": "stream",
       "stream": "stdout",
       "text": [
        "\r",
        "575000\r",
        "576000\r",
        "577000\r",
        "578000\r",
        "579000\r",
        "580000\r",
        "581000\r",
        "582000"
       ]
      },
      {
       "output_type": "stream",
       "stream": "stdout",
       "text": [
        "\r",
        "583000\r",
        "584000\r",
        "585000\r",
        "586000\r",
        "587000\r",
        "588000\r",
        "589000\r",
        "590000"
       ]
      },
      {
       "output_type": "stream",
       "stream": "stdout",
       "text": [
        "\r",
        "591000"
       ]
      },
      {
       "output_type": "stream",
       "stream": "stdout",
       "text": [
        "\r",
        "592000\r",
        "593000\r",
        "594000\r",
        "595000\r",
        "596000\r",
        "597000\r",
        "598000\r",
        "599000"
       ]
      },
      {
       "output_type": "stream",
       "stream": "stdout",
       "text": [
        "\r",
        "600000\r",
        "601000\r",
        "602000\r",
        "603000\r",
        "604000\r",
        "605000\r",
        "606000"
       ]
      },
      {
       "output_type": "stream",
       "stream": "stdout",
       "text": [
        "\r",
        "607000\r",
        "608000\r",
        "609000\r",
        "610000\r",
        "611000\r",
        "612000\r",
        "613000\r",
        "614000"
       ]
      },
      {
       "output_type": "stream",
       "stream": "stdout",
       "text": [
        "\r",
        "615000"
       ]
      },
      {
       "output_type": "stream",
       "stream": "stdout",
       "text": [
        "\r",
        "616000\r",
        "617000\r",
        "618000\r",
        "619000\r",
        "620000\r",
        "621000\r",
        "622000\r",
        "623000"
       ]
      },
      {
       "output_type": "stream",
       "stream": "stdout",
       "text": [
        "\r",
        "624000\r",
        "625000\r",
        "626000\r",
        "627000\r",
        "628000\r",
        "629000\r",
        "630000"
       ]
      },
      {
       "output_type": "stream",
       "stream": "stdout",
       "text": [
        "\r",
        "631000\r",
        "632000\r",
        "633000\r",
        "634000\r",
        "635000\r",
        "636000\r",
        "637000\r",
        "638000"
       ]
      },
      {
       "output_type": "stream",
       "stream": "stdout",
       "text": [
        "\r",
        "639000\r",
        "640000"
       ]
      },
      {
       "output_type": "stream",
       "stream": "stdout",
       "text": [
        "\r",
        "641000\r",
        "642000\r",
        "643000\r",
        "644000\r",
        "645000\r",
        "646000\r",
        "647000\r",
        "648000"
       ]
      },
      {
       "output_type": "stream",
       "stream": "stdout",
       "text": [
        "\r",
        "649000\r",
        "650000\r",
        "651000\r",
        "652000\r",
        "653000\r",
        "654000\r",
        "655000\r",
        "656000"
       ]
      },
      {
       "output_type": "stream",
       "stream": "stdout",
       "text": [
        "\r",
        "657000\r",
        "658000\r",
        "659000\r",
        "660000\r",
        "661000\r",
        "662000\r",
        "663000\r",
        "664000"
       ]
      },
      {
       "output_type": "stream",
       "stream": "stdout",
       "text": [
        "\r",
        "665000\r",
        "666000\r",
        "667000\r",
        "668000\r",
        "669000\r",
        "670000\r",
        "671000\r",
        "672000"
       ]
      },
      {
       "output_type": "stream",
       "stream": "stdout",
       "text": [
        "\r",
        "673000\r",
        "674000\r",
        "675000\r",
        "676000\r",
        "677000\r",
        "678000\r",
        "679000"
       ]
      },
      {
       "output_type": "stream",
       "stream": "stdout",
       "text": [
        "\r",
        "680000\r",
        "681000\r",
        "682000\r",
        "683000\r",
        "684000\r",
        "685000\r",
        "686000\r",
        "687000"
       ]
      },
      {
       "output_type": "stream",
       "stream": "stdout",
       "text": [
        "\r",
        "688000\r",
        "689000"
       ]
      },
      {
       "output_type": "stream",
       "stream": "stdout",
       "text": [
        "\r",
        "690000\r",
        "691000\r",
        "692000\r",
        "693000\r",
        "694000\r",
        "695000\r",
        "696000\r",
        "697000"
       ]
      },
      {
       "output_type": "stream",
       "stream": "stdout",
       "text": [
        "\r",
        "698000\r",
        "699000\r",
        "700000\r",
        "701000\r",
        "702000\r",
        "703000\r",
        "704000"
       ]
      },
      {
       "output_type": "stream",
       "stream": "stdout",
       "text": [
        "\r",
        "705000\r",
        "706000\r",
        "707000\r",
        "708000\r",
        "709000\r",
        "710000\r",
        "711000\r",
        "712000"
       ]
      },
      {
       "output_type": "stream",
       "stream": "stdout",
       "text": [
        "\r",
        "713000"
       ]
      },
      {
       "output_type": "stream",
       "stream": "stdout",
       "text": [
        "\r",
        "714000\r",
        "715000\r",
        "716000\r",
        "717000\r",
        "718000\r",
        "719000\r",
        "720000"
       ]
      },
      {
       "output_type": "stream",
       "stream": "stdout",
       "text": [
        "\r",
        "721000\r",
        "722000\r",
        "723000\r",
        "724000\r",
        "725000\r",
        "726000\r",
        "727000"
       ]
      },
      {
       "output_type": "stream",
       "stream": "stdout",
       "text": [
        "\r",
        "728000\r",
        "729000\r",
        "730000\r",
        "731000\r",
        "732000\r",
        "733000\r",
        "734000"
       ]
      },
      {
       "output_type": "stream",
       "stream": "stdout",
       "text": [
        "\r",
        "735000\r",
        "736000\r",
        "737000\r",
        "738000"
       ]
      },
      {
       "output_type": "stream",
       "stream": "stdout",
       "text": [
        "\r",
        "739000\r",
        "740000\r",
        "741000\r",
        "742000\r",
        "743000\r",
        "744000\r",
        "745000\r",
        "746000"
       ]
      },
      {
       "output_type": "stream",
       "stream": "stdout",
       "text": [
        "\r",
        "747000\r",
        "748000\r",
        "749000\r",
        "750000\r",
        "751000\r",
        "752000\r",
        "753000"
       ]
      },
      {
       "output_type": "stream",
       "stream": "stdout",
       "text": [
        "\r",
        "754000\r",
        "755000\r",
        "756000\r",
        "757000\r",
        "758000\r",
        "759000\r",
        "760000\r",
        "761000"
       ]
      },
      {
       "output_type": "stream",
       "stream": "stdout",
       "text": [
        "\r",
        "762000"
       ]
      },
      {
       "output_type": "stream",
       "stream": "stdout",
       "text": [
        "\r",
        "763000\r",
        "764000\r",
        "765000\r",
        "766000\r",
        "767000\r",
        "768000\r",
        "769000\r",
        "770000"
       ]
      },
      {
       "output_type": "stream",
       "stream": "stdout",
       "text": [
        "\r",
        "771000\r",
        "772000\r",
        "773000\r",
        "774000\r",
        "775000\r",
        "776000\r",
        "777000\r",
        "778000"
       ]
      },
      {
       "output_type": "stream",
       "stream": "stdout",
       "text": [
        "\r",
        "779000\r",
        "780000\r",
        "781000\r",
        "782000\r",
        "783000\r",
        "784000\r",
        "785000\r",
        "786000"
       ]
      },
      {
       "output_type": "stream",
       "stream": "stdout",
       "text": [
        "\r",
        "787000"
       ]
      },
      {
       "output_type": "stream",
       "stream": "stdout",
       "text": [
        "\r",
        "788000\r",
        "789000\r",
        "790000\r",
        "791000\r",
        "792000\r",
        "793000\r",
        "794000\r",
        "795000"
       ]
      },
      {
       "output_type": "stream",
       "stream": "stdout",
       "text": [
        "\r",
        "796000\r",
        "797000\r",
        "798000\r",
        "799000\r",
        "800000\r",
        "801000\r",
        "802000\r",
        "803000"
       ]
      },
      {
       "output_type": "stream",
       "stream": "stdout",
       "text": [
        "\r",
        "804000\r",
        "805000\r",
        "806000\r",
        "807000\r",
        "808000\r",
        "809000\r",
        "810000\r",
        "811000"
       ]
      },
      {
       "output_type": "stream",
       "stream": "stdout",
       "text": [
        "\r",
        "812000"
       ]
      },
      {
       "output_type": "stream",
       "stream": "stdout",
       "text": [
        "\r",
        "813000\r",
        "814000\r",
        "815000\r",
        "816000\r",
        "817000\r",
        "818000\r",
        "819000\r",
        "820000"
       ]
      },
      {
       "output_type": "stream",
       "stream": "stdout",
       "text": [
        "\r",
        "821000\r",
        "822000\r",
        "823000\r",
        "824000\r",
        "825000\r",
        "826000\r",
        "827000\r",
        "828000"
       ]
      },
      {
       "output_type": "stream",
       "stream": "stdout",
       "text": [
        "\r",
        "829000\r",
        "830000\r",
        "831000\r",
        "832000\r",
        "833000\r",
        "834000\r",
        "835000\r",
        "836000"
       ]
      },
      {
       "output_type": "stream",
       "stream": "stdout",
       "text": [
        "\r",
        "837000\r",
        "838000\r",
        "839000\r",
        "840000\r",
        "841000\r",
        "842000\r",
        "843000\r",
        "844000"
       ]
      },
      {
       "output_type": "stream",
       "stream": "stdout",
       "text": [
        "\r",
        "845000\r",
        "846000\r",
        "847000\r",
        "848000\r",
        "849000\r",
        "850000\r",
        "851000"
       ]
      },
      {
       "output_type": "stream",
       "stream": "stdout",
       "text": [
        "\r",
        "852000\r",
        "853000\r",
        "854000\r",
        "855000\r",
        "856000\r",
        "857000\r",
        "858000\r",
        "859000"
       ]
      },
      {
       "output_type": "stream",
       "stream": "stdout",
       "text": [
        "\r",
        "860000\r",
        "861000"
       ]
      },
      {
       "output_type": "stream",
       "stream": "stdout",
       "text": [
        "\r",
        "862000\r",
        "863000\r",
        "864000\r",
        "865000\r",
        "866000\r",
        "867000\r",
        "868000\r",
        "869000"
       ]
      },
      {
       "output_type": "stream",
       "stream": "stdout",
       "text": [
        "\r",
        "870000\r",
        "871000\r",
        "872000\r",
        "873000\r",
        "874000\r",
        "875000\r",
        "876000\r",
        "877000"
       ]
      },
      {
       "output_type": "stream",
       "stream": "stdout",
       "text": [
        "\r",
        "878000\r",
        "879000\r",
        "880000\r",
        "881000\r",
        "882000\r",
        "883000\r",
        "884000\r",
        "885000"
       ]
      },
      {
       "output_type": "stream",
       "stream": "stdout",
       "text": [
        "\r",
        "886000\r",
        "887000\r",
        "888000\r",
        "889000\r",
        "890000\r",
        "891000\r",
        "892000\r",
        "893000"
       ]
      },
      {
       "output_type": "stream",
       "stream": "stdout",
       "text": [
        "\r",
        "894000\r",
        "895000\r",
        "896000\r",
        "897000\r",
        "898000\r",
        "899000\r",
        "900000\r",
        "901000"
       ]
      },
      {
       "output_type": "stream",
       "stream": "stdout",
       "text": [
        "\r",
        "902000\r",
        "903000\r",
        "904000\r",
        "905000\r",
        "906000\r",
        "907000\r",
        "908000\r",
        "909000"
       ]
      },
      {
       "output_type": "stream",
       "stream": "stdout",
       "text": [
        "\r",
        "910000"
       ]
      },
      {
       "output_type": "stream",
       "stream": "stdout",
       "text": [
        "\r",
        "911000\r",
        "912000\r",
        "913000\r",
        "914000\r",
        "915000\r",
        "916000\r",
        "917000\r",
        "918000"
       ]
      },
      {
       "output_type": "stream",
       "stream": "stdout",
       "text": [
        "\r",
        "919000\r",
        "920000\r",
        "921000\r",
        "922000\r",
        "923000\r",
        "924000\r",
        "925000\r",
        "926000"
       ]
      },
      {
       "output_type": "stream",
       "stream": "stdout",
       "text": [
        "\r",
        "927000\r",
        "928000\r",
        "929000\r",
        "930000\r",
        "931000\r",
        "932000\r",
        "933000\r",
        "934000"
       ]
      },
      {
       "output_type": "stream",
       "stream": "stdout",
       "text": [
        "\r",
        "935000\r",
        "936000\r",
        "937000\r",
        "938000\r",
        "939000\r",
        "940000\r",
        "941000\r",
        "942000"
       ]
      },
      {
       "output_type": "stream",
       "stream": "stdout",
       "text": [
        "\r",
        "943000\r",
        "944000\r",
        "945000\r",
        "946000\r",
        "947000\r",
        "948000\r",
        "949000\r",
        "950000"
       ]
      },
      {
       "output_type": "stream",
       "stream": "stdout",
       "text": [
        "\r",
        "951000\r",
        "952000\r",
        "953000\r",
        "954000\r",
        "955000\r",
        "956000\r",
        "957000\r",
        "958000"
       ]
      },
      {
       "output_type": "stream",
       "stream": "stdout",
       "text": [
        "\r",
        "959000"
       ]
      },
      {
       "output_type": "stream",
       "stream": "stdout",
       "text": [
        "\r",
        "960000\r",
        "961000\r",
        "962000\r",
        "963000\r",
        "964000\r",
        "965000\r",
        "966000\r",
        "967000"
       ]
      },
      {
       "output_type": "stream",
       "stream": "stdout",
       "text": [
        "\r",
        "968000\r",
        "969000\r",
        "970000\r",
        "971000\r",
        "972000\r",
        "973000\r",
        "974000\r",
        "975000"
       ]
      },
      {
       "output_type": "stream",
       "stream": "stdout",
       "text": [
        "\r",
        "976000\r",
        "977000\r",
        "978000\r",
        "979000\r",
        "980000\r",
        "981000\r",
        "982000\r",
        "983000"
       ]
      },
      {
       "output_type": "stream",
       "stream": "stdout",
       "text": [
        "\r",
        "984000\r",
        "985000\r",
        "986000\r",
        "987000\r",
        "988000\r",
        "989000\r",
        "990000\r",
        "991000"
       ]
      },
      {
       "output_type": "stream",
       "stream": "stdout",
       "text": [
        "\r",
        "992000\r",
        "993000\r",
        "994000\r",
        "995000\r",
        "996000\r",
        "997000\r",
        "998000\r",
        "999000"
       ]
      },
      {
       "output_type": "stream",
       "stream": "stdout",
       "text": [
        "\r",
        "1000000\r",
        "1001000\r",
        "1002000\r",
        "1003000\r",
        "1004000\r",
        "1005000"
       ]
      },
      {
       "output_type": "stream",
       "stream": "stdout",
       "text": [
        "\r",
        "1006000\r",
        "1007000\r",
        "1008000"
       ]
      },
      {
       "output_type": "stream",
       "stream": "stdout",
       "text": [
        "\r",
        "1009000\r",
        "1010000\r",
        "1011000\r",
        "1012000\r",
        "1013000\r",
        "1014000\r",
        "1015000\r",
        "1016000"
       ]
      },
      {
       "output_type": "stream",
       "stream": "stdout",
       "text": [
        "\r",
        "1017000\r",
        "1018000\r",
        "1019000\r",
        "1020000\r",
        "1021000\r",
        "1022000\r",
        "1023000\r",
        "1024000"
       ]
      },
      {
       "output_type": "stream",
       "stream": "stdout",
       "text": [
        "\r",
        "1025000\r",
        "1026000\r",
        "1027000\r",
        "1028000\r",
        "1029000\r",
        "1030000\r",
        "1031000\r",
        "1032000"
       ]
      },
      {
       "output_type": "stream",
       "stream": "stdout",
       "text": [
        "\r",
        "1033000\r",
        "1034000\r",
        "1035000\r",
        "1036000\r",
        "1037000\r",
        "1038000\r",
        "1039000\r",
        "1040000"
       ]
      },
      {
       "output_type": "stream",
       "stream": "stdout",
       "text": [
        "\r",
        "1041000\r",
        "1042000\r",
        "1043000\r",
        "1044000\r",
        "1045000\r",
        "1046000\r",
        "1047000\r",
        "1048000"
       ]
      },
      {
       "output_type": "stream",
       "stream": "stdout",
       "text": [
        "\r",
        "1049000\r",
        "1050000\r",
        "1051000\r",
        "1052000\r",
        "1053000\r",
        "1054000\r",
        "1055000\r",
        "1056000"
       ]
      },
      {
       "output_type": "stream",
       "stream": "stdout",
       "text": [
        "\r",
        "1057000"
       ]
      },
      {
       "output_type": "stream",
       "stream": "stdout",
       "text": [
        "\r",
        "1058000\r",
        "1059000\r",
        "1060000\r",
        "1061000\r",
        "1062000\r",
        "1063000\r",
        "1064000\r",
        "1065000"
       ]
      },
      {
       "output_type": "stream",
       "stream": "stdout",
       "text": [
        "\r",
        "1066000\r",
        "1067000\r",
        "1068000\r",
        "1069000\r",
        "1070000\r",
        "1071000\r",
        "1072000\r",
        "1073000"
       ]
      },
      {
       "output_type": "stream",
       "stream": "stdout",
       "text": [
        "\r",
        "1074000\r",
        "1075000\r",
        "1076000\r",
        "1077000\r",
        "1078000\r",
        "1079000\r",
        "1080000\r",
        "1081000"
       ]
      },
      {
       "output_type": "stream",
       "stream": "stdout",
       "text": [
        "\r",
        "1082000\r",
        "1083000\r",
        "1084000\r",
        "1085000\r",
        "1086000\r",
        "1087000\r",
        "1088000\r",
        "1089000"
       ]
      },
      {
       "output_type": "stream",
       "stream": "stdout",
       "text": [
        "\r",
        "1090000\r",
        "1091000\r",
        "1092000\r",
        "1093000\r",
        "1094000\r",
        "1095000\r",
        "1096000\r",
        "1097000"
       ]
      },
      {
       "output_type": "stream",
       "stream": "stdout",
       "text": [
        "\r",
        "1098000\r",
        "1099000\r",
        "1100000\r",
        "1101000\r",
        "1102000\r",
        "1103000\r",
        "1104000\r",
        "1105000"
       ]
      },
      {
       "output_type": "stream",
       "stream": "stdout",
       "text": [
        "\r",
        "1106000"
       ]
      },
      {
       "output_type": "stream",
       "stream": "stdout",
       "text": [
        "\r",
        "1107000\r",
        "1108000\r",
        "1109000\r",
        "1110000\r",
        "1111000\r",
        "1112000\r",
        "1113000\r",
        "1114000"
       ]
      },
      {
       "output_type": "stream",
       "stream": "stdout",
       "text": [
        "\r",
        "1115000\r",
        "1116000\r",
        "1117000\r",
        "1118000\r",
        "1119000\r",
        "1120000\r",
        "1121000\r",
        "1122000"
       ]
      },
      {
       "output_type": "stream",
       "stream": "stdout",
       "text": [
        "\r",
        "1123000\r",
        "1124000\r",
        "1125000\r",
        "1126000\r",
        "1127000\r",
        "1128000\r",
        "1129000\r",
        "1130000"
       ]
      },
      {
       "output_type": "stream",
       "stream": "stdout",
       "text": [
        "\r",
        "1131000"
       ]
      },
      {
       "output_type": "stream",
       "stream": "stdout",
       "text": [
        "\r",
        "1132000\r",
        "1133000\r",
        "1134000\r",
        "1135000\r",
        "1136000\r",
        "1137000\r",
        "1138000\r",
        "1139000"
       ]
      },
      {
       "output_type": "stream",
       "stream": "stdout",
       "text": [
        "\r",
        "1140000\r",
        "1141000\r",
        "1142000\r",
        "1143000\r",
        "1144000\r",
        "1145000\r",
        "1146000\r",
        "1147000"
       ]
      },
      {
       "output_type": "stream",
       "stream": "stdout",
       "text": [
        "\r",
        "1148000\r",
        "1149000\r",
        "1150000\r",
        "1151000\r",
        "1152000\r",
        "1153000\r",
        "1154000\r",
        "1155000"
       ]
      },
      {
       "output_type": "stream",
       "stream": "stdout",
       "text": [
        "\r",
        "1156000\r",
        "1157000\r",
        "1158000\r",
        "1159000\r",
        "1160000\r",
        "1161000\r",
        "1162000\r",
        "1163000"
       ]
      },
      {
       "output_type": "stream",
       "stream": "stdout",
       "text": [
        "\r",
        "1164000\r",
        "1165000\r",
        "1166000\r",
        "1167000\r",
        "1168000\r",
        "1169000\r",
        "1170000\r",
        "1171000"
       ]
      },
      {
       "output_type": "stream",
       "stream": "stdout",
       "text": [
        "\r",
        "1172000\r",
        "1173000\r",
        "1174000\r",
        "1175000\r",
        "1176000\r",
        "1177000\r",
        "1178000"
       ]
      },
      {
       "output_type": "stream",
       "stream": "stdout",
       "text": [
        "\r",
        "1179000\r",
        "1180000"
       ]
      },
      {
       "output_type": "stream",
       "stream": "stdout",
       "text": [
        "\r",
        "1181000\r",
        "1182000\r",
        "1183000\r",
        "1184000\r",
        "1185000\r",
        "1186000\r",
        "1187000\r",
        "1188000"
       ]
      },
      {
       "output_type": "stream",
       "stream": "stdout",
       "text": [
        "\r",
        "1189000\r",
        "1190000\r",
        "1191000\r",
        "1192000\r",
        "1193000\r",
        "1194000\r",
        "1195000\r",
        "1196000"
       ]
      },
      {
       "output_type": "stream",
       "stream": "stdout",
       "text": [
        "\r",
        "1197000\r",
        "1198000\r",
        "1199000\r",
        "1200000\r",
        "1201000\r",
        "1202000\r",
        "1203000\r",
        "1204000"
       ]
      },
      {
       "output_type": "stream",
       "stream": "stdout",
       "text": [
        "\r",
        "1205000"
       ]
      },
      {
       "output_type": "stream",
       "stream": "stdout",
       "text": [
        "\r",
        "1206000\r",
        "1207000\r",
        "1208000\r",
        "1209000\r",
        "1210000\r",
        "1211000\r",
        "1212000\r",
        "1213000"
       ]
      },
      {
       "output_type": "stream",
       "stream": "stdout",
       "text": [
        "\r",
        "1214000\r",
        "1215000\r",
        "1216000\r",
        "1217000\r",
        "1218000\r",
        "1219000\r",
        "1220000\r",
        "1221000"
       ]
      },
      {
       "output_type": "stream",
       "stream": "stdout",
       "text": [
        "\r",
        "1222000\r",
        "1223000\r",
        "1224000\r",
        "1225000\r",
        "1226000\r",
        "1227000\r",
        "1228000\r",
        "1229000"
       ]
      },
      {
       "output_type": "stream",
       "stream": "stdout",
       "text": [
        "\r",
        "1230000\r",
        "1231000\r",
        "1232000\r",
        "1233000\r",
        "1234000\r",
        "1235000\r",
        "1236000\r",
        "1237000"
       ]
      },
      {
       "output_type": "stream",
       "stream": "stdout",
       "text": [
        "\r",
        "1238000\r",
        "1239000\r",
        "1240000\r",
        "1241000\r",
        "1242000\r",
        "1243000\r",
        "1244000\r",
        "1245000"
       ]
      },
      {
       "output_type": "stream",
       "stream": "stdout",
       "text": [
        "\r",
        "1246000\r",
        "1247000\r",
        "1248000\r",
        "1249000\r",
        "1250000\r",
        "1251000\r",
        "1252000\r",
        "1253000"
       ]
      },
      {
       "output_type": "stream",
       "stream": "stdout",
       "text": [
        "\r",
        "1254000"
       ]
      },
      {
       "output_type": "stream",
       "stream": "stdout",
       "text": [
        "\r",
        "1255000\r",
        "1256000\r",
        "1257000\r",
        "1258000\r",
        "1259000\r",
        "1260000\r",
        "1261000\r",
        "1262000"
       ]
      },
      {
       "output_type": "stream",
       "stream": "stdout",
       "text": [
        "\r",
        "1263000\r",
        "1264000\r",
        "1265000\r",
        "1266000\r",
        "1267000\r",
        "1268000\r",
        "1269000\r",
        "1270000"
       ]
      },
      {
       "output_type": "stream",
       "stream": "stdout",
       "text": [
        "\r",
        "1271000\r",
        "1272000\r",
        "1273000\r",
        "1274000\r",
        "1275000\r",
        "1276000\r",
        "1277000\r",
        "1278000"
       ]
      },
      {
       "output_type": "stream",
       "stream": "stdout",
       "text": [
        "\r",
        "1279000\r",
        "1280000\r",
        "1281000\r",
        "1282000\r",
        "1283000\r",
        "1284000\r",
        "1285000\r",
        "1286000"
       ]
      },
      {
       "output_type": "stream",
       "stream": "stdout",
       "text": [
        "\r",
        "1287000\r",
        "1288000\r",
        "1289000\r",
        "1290000\r",
        "1291000\r",
        "1292000\r",
        "1293000\r",
        "1294000"
       ]
      },
      {
       "output_type": "stream",
       "stream": "stdout",
       "text": [
        "\r",
        "1295000\r",
        "1296000\r",
        "1297000\r",
        "1298000\r",
        "1299000\r",
        "1300000\r",
        "1301000\r",
        "1302000"
       ]
      },
      {
       "output_type": "stream",
       "stream": "stdout",
       "text": [
        "\r",
        "1303000"
       ]
      },
      {
       "output_type": "stream",
       "stream": "stdout",
       "text": [
        "\r",
        "1304000\r",
        "1305000\r",
        "1306000\r",
        "1307000\r",
        "1308000\r",
        "1309000\r",
        "1310000\r",
        "1311000"
       ]
      },
      {
       "output_type": "stream",
       "stream": "stdout",
       "text": [
        "\r",
        "1312000\r",
        "1313000\r",
        "1314000\r",
        "1315000\r",
        "1316000\r",
        "1317000\r",
        "1318000\r",
        "1319000"
       ]
      },
      {
       "output_type": "stream",
       "stream": "stdout",
       "text": [
        "\r",
        "1320000\r",
        "1321000\r",
        "1322000\r",
        "1323000\r",
        "1324000\r",
        "1325000\r",
        "1326000\r",
        "1327000"
       ]
      },
      {
       "output_type": "stream",
       "stream": "stdout",
       "text": [
        "\r",
        "1328000\r",
        "1329000\r",
        "1330000\r",
        "1331000\r",
        "1332000\r",
        "1333000\r",
        "1334000\r",
        "1335000"
       ]
      },
      {
       "output_type": "stream",
       "stream": "stdout",
       "text": [
        "\r",
        "1336000\r",
        "1337000\r",
        "1338000\r",
        "1339000\r",
        "1340000\r",
        "1341000\r",
        "1342000\r",
        "1343000"
       ]
      },
      {
       "output_type": "stream",
       "stream": "stdout",
       "text": [
        "\r",
        "1344000\r",
        "1345000\r",
        "1346000\r",
        "1347000\r",
        "1348000\r",
        "1349000\r",
        "1350000\r",
        "1351000"
       ]
      },
      {
       "output_type": "stream",
       "stream": "stdout",
       "text": [
        "\r",
        "1352000"
       ]
      },
      {
       "output_type": "stream",
       "stream": "stdout",
       "text": [
        "\r",
        "1353000\r",
        "1354000\r",
        "1355000\r",
        "1356000\r",
        "1357000\r",
        "1358000\r",
        "1359000\r",
        "1360000"
       ]
      },
      {
       "output_type": "stream",
       "stream": "stdout",
       "text": [
        "\r",
        "1361000\r",
        "1362000\r",
        "1363000\r",
        "1364000\r",
        "1365000\r",
        "1366000\r",
        "1367000\r",
        "1368000"
       ]
      },
      {
       "output_type": "stream",
       "stream": "stdout",
       "text": [
        "\r",
        "1369000\r",
        "1370000\r",
        "1371000\r",
        "1372000\r",
        "1373000\r",
        "1374000\r",
        "1375000\r",
        "1376000"
       ]
      },
      {
       "output_type": "stream",
       "stream": "stdout",
       "text": [
        "\r",
        "1377000\r",
        "1378000\r",
        "1379000\r",
        "1380000\r",
        "1381000\r",
        "1382000\r",
        "1383000\r",
        "1384000"
       ]
      },
      {
       "output_type": "stream",
       "stream": "stdout",
       "text": [
        "\r",
        "1385000\r",
        "1386000\r",
        "1387000\r",
        "1388000\r",
        "1389000\r",
        "1390000\r",
        "1391000\r",
        "1392000"
       ]
      },
      {
       "output_type": "stream",
       "stream": "stdout",
       "text": [
        "\r",
        "1393000\r",
        "1394000\r",
        "1395000\r",
        "1396000\r",
        "1397000\r",
        "1398000\r",
        "1399000\r",
        "1400000"
       ]
      },
      {
       "output_type": "stream",
       "stream": "stdout",
       "text": [
        "\r",
        "1401000"
       ]
      },
      {
       "output_type": "stream",
       "stream": "stdout",
       "text": [
        "\r",
        "1402000\r",
        "1403000\r",
        "1404000\r",
        "1405000\r",
        "1406000\r",
        "1407000\r",
        "1408000\r",
        "1409000"
       ]
      },
      {
       "output_type": "stream",
       "stream": "stdout",
       "text": [
        "\r",
        "1410000\r",
        "1411000\r",
        "1412000\r",
        "1413000\r",
        "1414000\r",
        "1415000\r",
        "1416000\r",
        "1417000"
       ]
      },
      {
       "output_type": "stream",
       "stream": "stdout",
       "text": [
        "\r",
        "1418000\r",
        "1419000\r",
        "1420000\r",
        "1421000\r",
        "1422000\r",
        "1423000\r",
        "1424000\r",
        "1425000"
       ]
      },
      {
       "output_type": "stream",
       "stream": "stdout",
       "text": [
        "\r",
        "1426000\r",
        "1427000\r",
        "1428000\r",
        "1429000\r",
        "1430000\r",
        "1431000\r",
        "1432000\r",
        "1433000"
       ]
      },
      {
       "output_type": "stream",
       "stream": "stdout",
       "text": [
        "\r",
        "1434000\r",
        "1435000\r",
        "1436000\r",
        "1437000\r",
        "1438000\r",
        "1439000\r",
        "1440000\r",
        "1441000"
       ]
      },
      {
       "output_type": "stream",
       "stream": "stdout",
       "text": [
        "\r",
        "1442000\r",
        "1443000\r",
        "1444000\r",
        "1445000\r",
        "1446000\r",
        "1447000\r",
        "1448000\r",
        "1449000"
       ]
      },
      {
       "output_type": "stream",
       "stream": "stdout",
       "text": [
        "\r",
        "1450000"
       ]
      },
      {
       "output_type": "stream",
       "stream": "stdout",
       "text": [
        "\r",
        "1451000\r",
        "1452000\r",
        "1453000\r",
        "1454000\r",
        "1455000\r",
        "1456000\r",
        "1457000\r",
        "1458000"
       ]
      },
      {
       "output_type": "stream",
       "stream": "stdout",
       "text": [
        "\r",
        "1459000\r",
        "1460000\r",
        "1461000\r",
        "1462000\r",
        "1463000\r",
        "1464000\r",
        "1465000\r",
        "1466000"
       ]
      },
      {
       "output_type": "stream",
       "stream": "stdout",
       "text": [
        "\r",
        "1467000\r",
        "1468000\r",
        "1469000\r",
        "1470000\r",
        "1471000\r",
        "1472000"
       ]
      },
      {
       "output_type": "stream",
       "stream": "stdout",
       "text": [
        "\r",
        "1473000\r",
        "1474000"
       ]
      },
      {
       "output_type": "stream",
       "stream": "stdout",
       "text": [
        "\r",
        "1475000\r",
        "1476000\r",
        "1477000\r",
        "1478000\r",
        "1479000\r",
        "1480000\r",
        "1481000\r",
        "1482000"
       ]
      },
      {
       "output_type": "stream",
       "stream": "stdout",
       "text": [
        "\r",
        "1483000\r",
        "1484000\r",
        "1485000\r",
        "1486000\r",
        "1487000\r",
        "1488000\r",
        "1489000\r",
        "1490000"
       ]
      },
      {
       "output_type": "stream",
       "stream": "stdout",
       "text": [
        "\r",
        "1491000\r",
        "1492000\r",
        "1493000\r",
        "1494000\r",
        "1495000\r",
        "1496000\r",
        "1497000\r",
        "1498000"
       ]
      },
      {
       "output_type": "stream",
       "stream": "stdout",
       "text": [
        "\r",
        "1499000"
       ]
      },
      {
       "output_type": "stream",
       "stream": "stdout",
       "text": [
        "\r",
        "1500000\r",
        "1501000\r",
        "1502000\r",
        "1503000\r",
        "1504000\r",
        "1505000\r",
        "1506000"
       ]
      },
      {
       "output_type": "stream",
       "stream": "stdout",
       "text": [
        "\r",
        "1507000\r",
        "1508000\r",
        "1509000\r",
        "1510000\r",
        "1511000\r",
        "1512000\r",
        "1513000"
       ]
      },
      {
       "output_type": "stream",
       "stream": "stdout",
       "text": [
        "\r",
        "1514000\r",
        "1515000\r",
        "1516000\r",
        "1517000\r",
        "1518000\r",
        "1519000\r",
        "1520000"
       ]
      },
      {
       "output_type": "stream",
       "stream": "stdout",
       "text": [
        "\r",
        "1521000\r",
        "1522000\r",
        "1523000"
       ]
      },
      {
       "output_type": "stream",
       "stream": "stdout",
       "text": [
        "\r",
        "1524000\r",
        "1525000\r",
        "1526000\r",
        "1527000\r",
        "1528000\r",
        "1529000\r",
        "1530000\r",
        "1531000"
       ]
      },
      {
       "output_type": "stream",
       "stream": "stdout",
       "text": [
        "\r",
        "1532000\r",
        "1533000\r",
        "1534000\r",
        "1535000\r",
        "1536000\r",
        "1537000\r",
        "1538000"
       ]
      },
      {
       "output_type": "stream",
       "stream": "stdout",
       "text": [
        "\r",
        "1539000\r",
        "1540000\r",
        "1541000\r",
        "1542000\r",
        "1543000\r",
        "1544000\r",
        "1545000\r",
        "1546000"
       ]
      },
      {
       "output_type": "stream",
       "stream": "stdout",
       "text": [
        "\r",
        "1547000\r",
        "1548000"
       ]
      },
      {
       "output_type": "stream",
       "stream": "stdout",
       "text": [
        "\r",
        "1549000\r",
        "1550000\r",
        "1551000\r",
        "1552000\r",
        "1553000\r",
        "1554000\r",
        "1555000\r",
        "1556000"
       ]
      },
      {
       "output_type": "stream",
       "stream": "stdout",
       "text": [
        "\r",
        "1557000\r",
        "1558000\r",
        "1559000\r",
        "1560000\r",
        "1561000\r",
        "1562000\r",
        "1563000"
       ]
      },
      {
       "output_type": "stream",
       "stream": "stdout",
       "text": [
        "\r",
        "1564000\r",
        "1565000\r",
        "1566000\r",
        "1567000\r",
        "1568000\r",
        "1569000\r",
        "1570000"
       ]
      },
      {
       "output_type": "stream",
       "stream": "stdout",
       "text": [
        "\r",
        "1571000\r",
        "1572000\r",
        "1573000"
       ]
      },
      {
       "output_type": "stream",
       "stream": "stdout",
       "text": [
        "\r",
        "1574000\r",
        "1575000\r",
        "1576000\r",
        "1577000\r",
        "1578000\r",
        "1579000\r",
        "1580000\r",
        "1581000"
       ]
      },
      {
       "output_type": "stream",
       "stream": "stdout",
       "text": [
        "\r",
        "1582000\r",
        "1583000\r",
        "1584000\r",
        "1585000\r",
        "1586000\r",
        "1587000\r",
        "1588000\r",
        "1589000"
       ]
      },
      {
       "output_type": "stream",
       "stream": "stdout",
       "text": [
        "\r",
        "1590000\r",
        "1591000\r",
        "1592000\r",
        "1593000\r",
        "1594000\r",
        "1595000\r",
        "1596000"
       ]
      },
      {
       "output_type": "stream",
       "stream": "stdout",
       "text": [
        "\r",
        "1597000"
       ]
      },
      {
       "output_type": "stream",
       "stream": "stdout",
       "text": [
        "\r",
        "1598000\r",
        "1599000\r",
        "1600000\r",
        "1601000\r",
        "1602000\r",
        "1603000\r",
        "1604000\r",
        "1605000"
       ]
      },
      {
       "output_type": "stream",
       "stream": "stdout",
       "text": [
        "\r",
        "1606000\r",
        "1607000\r",
        "1608000\r",
        "1609000\r",
        "1610000\r",
        "1611000\r",
        "1612000\r",
        "1613000"
       ]
      },
      {
       "output_type": "stream",
       "stream": "stdout",
       "text": [
        "\r",
        "1614000\r",
        "1615000\r",
        "1616000\r",
        "1617000\r",
        "1618000\r",
        "1619000\r",
        "1620000\r",
        "1621000"
       ]
      },
      {
       "output_type": "stream",
       "stream": "stdout",
       "text": [
        "\r",
        "1622000"
       ]
      },
      {
       "output_type": "stream",
       "stream": "stdout",
       "text": [
        "\r",
        "1623000\r",
        "1624000\r",
        "1625000\r",
        "1626000\r",
        "1627000\r",
        "1628000\r",
        "1629000"
       ]
      },
      {
       "output_type": "stream",
       "stream": "stdout",
       "text": [
        "\r",
        "1630000\r",
        "1631000\r",
        "1632000\r",
        "1633000\r",
        "1634000\r",
        "1635000\r",
        "1636000"
       ]
      },
      {
       "output_type": "stream",
       "stream": "stdout",
       "text": [
        "\r",
        "1637000\r",
        "1638000\r",
        "1639000\r",
        "1640000\r",
        "1641000\r",
        "1642000\r",
        "1643000\r",
        "1644000"
       ]
      },
      {
       "output_type": "stream",
       "stream": "stdout",
       "text": [
        "\r",
        "1645000\r",
        "1646000\r",
        "1647000"
       ]
      },
      {
       "output_type": "stream",
       "stream": "stdout",
       "text": [
        "\r",
        "1648000\r",
        "1649000\r",
        "1650000\r",
        "1651000\r",
        "1652000\r",
        "1653000\r",
        "1654000\r",
        "1655000"
       ]
      },
      {
       "output_type": "stream",
       "stream": "stdout",
       "text": [
        "\r",
        "1656000\r",
        "1657000\r",
        "1658000\r",
        "1659000\r",
        "1660000\r",
        "1661000\r",
        "1662000"
       ]
      },
      {
       "output_type": "stream",
       "stream": "stdout",
       "text": [
        "\r",
        "1663000\r",
        "1664000\r",
        "1665000\r",
        "1666000\r",
        "1667000\r",
        "1668000\r",
        "1669000"
       ]
      },
      {
       "output_type": "stream",
       "stream": "stdout",
       "text": [
        "\r",
        "1670000\r",
        "1671000"
       ]
      },
      {
       "output_type": "stream",
       "stream": "stdout",
       "text": [
        "\r",
        "1672000\r",
        "1673000\r",
        "1674000\r",
        "1675000\r",
        "1676000\r",
        "1677000\r",
        "1678000\r",
        "1679000"
       ]
      },
      {
       "output_type": "stream",
       "stream": "stdout",
       "text": [
        "\r",
        "1680000\r",
        "1681000\r",
        "1682000\r",
        "1683000\r",
        "1684000\r",
        "1685000\r",
        "1686000\r",
        "1687000"
       ]
      },
      {
       "output_type": "stream",
       "stream": "stdout",
       "text": [
        "\r",
        "1688000\r",
        "1689000\r",
        "1690000\r",
        "1691000\r",
        "1692000\r",
        "1693000\r",
        "1694000\r",
        "1695000"
       ]
      },
      {
       "output_type": "stream",
       "stream": "stdout",
       "text": [
        "\r",
        "1696000"
       ]
      },
      {
       "output_type": "stream",
       "stream": "stdout",
       "text": [
        "\r",
        "1697000\r",
        "1698000\r",
        "1699000\r",
        "1700000\r",
        "1701000\r",
        "1702000\r",
        "1703000\r",
        "1704000"
       ]
      },
      {
       "output_type": "stream",
       "stream": "stdout",
       "text": [
        "\r",
        "1705000\r",
        "1706000\r",
        "1707000\r",
        "1708000\r",
        "1709000\r",
        "1710000\r",
        "1711000\r",
        "1712000"
       ]
      },
      {
       "output_type": "stream",
       "stream": "stdout",
       "text": [
        "\r",
        "1713000\r",
        "1714000\r",
        "1715000\r",
        "1716000\r",
        "1717000\r",
        "1718000\r",
        "1719000\r",
        "1720000"
       ]
      },
      {
       "output_type": "stream",
       "stream": "stdout",
       "text": [
        "\r",
        "1721000\r",
        "1722000\r",
        "1723000\r",
        "1724000\r",
        "1725000\r",
        "1726000\r",
        "1727000\r",
        "1728000"
       ]
      },
      {
       "output_type": "stream",
       "stream": "stdout",
       "text": [
        "\r",
        "1729000\r",
        "1730000\r",
        "1731000\r",
        "1732000\r",
        "1733000\r",
        "1734000\r",
        "1735000"
       ]
      },
      {
       "output_type": "stream",
       "stream": "stdout",
       "text": [
        "\r",
        "1736000\r",
        "1737000\r",
        "1738000\r",
        "1739000\r",
        "1740000\r",
        "1741000\r",
        "1742000\r",
        "1743000"
       ]
      },
      {
       "output_type": "stream",
       "stream": "stdout",
       "text": [
        "\r",
        "1744000\r",
        "1745000"
       ]
      },
      {
       "output_type": "stream",
       "stream": "stdout",
       "text": [
        "\r",
        "1746000\r",
        "1747000\r",
        "1748000\r",
        "1749000\r",
        "1750000\r",
        "1751000\r",
        "1752000\r",
        "1753000"
       ]
      },
      {
       "output_type": "stream",
       "stream": "stdout",
       "text": [
        "\r",
        "1754000\r",
        "1755000\r",
        "1756000\r",
        "1757000\r",
        "1758000\r",
        "1759000\r",
        "1760000\r",
        "1761000"
       ]
      },
      {
       "output_type": "stream",
       "stream": "stdout",
       "text": [
        "\r",
        "1762000\r",
        "1763000\r",
        "1764000\r",
        "1765000\r",
        "1766000\r",
        "1767000\r",
        "1768000\r",
        "1769000"
       ]
      },
      {
       "output_type": "stream",
       "stream": "stdout",
       "text": [
        "\r",
        "1770000\r",
        "1771000\r",
        "1772000\r",
        "1773000\r",
        "1774000\r",
        "1775000\r",
        "1776000\r",
        "1777000"
       ]
      },
      {
       "output_type": "stream",
       "stream": "stdout",
       "text": [
        "\r",
        "1778000\r",
        "1779000\r",
        "1780000\r",
        "1781000\r",
        "1782000\r",
        "1783000\r",
        "1784000"
       ]
      },
      {
       "output_type": "stream",
       "stream": "stdout",
       "text": [
        "\r",
        "1785000\r",
        "1786000\r",
        "1787000\r",
        "1788000\r",
        "1789000\r",
        "1790000\r",
        "1791000\r",
        "1792000"
       ]
      },
      {
       "output_type": "stream",
       "stream": "stdout",
       "text": [
        "\r",
        "1793000\r",
        "1794000"
       ]
      },
      {
       "output_type": "stream",
       "stream": "stdout",
       "text": [
        "\r",
        "1795000\r",
        "1796000\r",
        "1797000\r",
        "1798000\r",
        "1799000\r",
        "1800000\r",
        "1801000\r",
        "1802000"
       ]
      },
      {
       "output_type": "stream",
       "stream": "stdout",
       "text": [
        "\r",
        "1803000\r",
        "1804000\r",
        "1805000\r",
        "1806000\r",
        "1807000\r",
        "1808000\r",
        "1809000\r",
        "1810000"
       ]
      },
      {
       "output_type": "stream",
       "stream": "stdout",
       "text": [
        "\r",
        "1811000\r",
        "1812000\r",
        "1813000\r",
        "1814000\r",
        "1815000\r",
        "1816000\r",
        "1817000\r",
        "1818000"
       ]
      },
      {
       "output_type": "stream",
       "stream": "stdout",
       "text": [
        "\r",
        "1819000\r",
        "1820000\r",
        "1821000\r",
        "1822000\r",
        "1823000\r",
        "1824000\r",
        "1825000\r",
        "1826000"
       ]
      },
      {
       "output_type": "stream",
       "stream": "stdout",
       "text": [
        "\r",
        "1827000\r",
        "1828000\r",
        "1829000\r",
        "1830000\r",
        "1831000\r",
        "1832000\r",
        "1833000"
       ]
      },
      {
       "output_type": "stream",
       "stream": "stdout",
       "text": [
        "\r",
        "1834000\r",
        "1835000\r",
        "1836000\r",
        "1837000\r",
        "1838000\r",
        "1839000\r",
        "1840000\r",
        "1841000"
       ]
      },
      {
       "output_type": "stream",
       "stream": "stdout",
       "text": [
        "\r",
        "1842000\r",
        "1843000"
       ]
      },
      {
       "output_type": "stream",
       "stream": "stdout",
       "text": [
        "\r",
        "1844000\r",
        "1845000\r",
        "1846000\r",
        "1847000\r",
        "1848000\r",
        "1849000\r",
        "1850000\r",
        "1851000"
       ]
      },
      {
       "output_type": "stream",
       "stream": "stdout",
       "text": [
        "\r",
        "1852000\r",
        "1853000\r",
        "1854000\r",
        "1855000\r",
        "1856000\r",
        "1857000\r",
        "1858000\r",
        "1859000"
       ]
      },
      {
       "output_type": "stream",
       "stream": "stdout",
       "text": [
        "\r",
        "1860000\r",
        "1861000\r",
        "1862000\r",
        "1863000\r",
        "1864000\r",
        "1865000\r",
        "1866000\r",
        "1867000"
       ]
      },
      {
       "output_type": "stream",
       "stream": "stdout",
       "text": [
        "\r",
        "1868000\r",
        "1869000\r",
        "1870000\r",
        "1871000\r",
        "1872000\r",
        "1873000\r",
        "1874000\r",
        "1875000"
       ]
      },
      {
       "output_type": "stream",
       "stream": "stdout",
       "text": [
        "\r",
        "1876000\r",
        "1877000\r",
        "1878000\r",
        "1879000\r",
        "1880000\r",
        "1881000\r",
        "1882000"
       ]
      },
      {
       "output_type": "stream",
       "stream": "stdout",
       "text": [
        "\r",
        "1883000\r",
        "1884000\r",
        "1885000\r",
        "1886000\r",
        "1887000\r",
        "1888000\r",
        "1889000\r",
        "1890000"
       ]
      },
      {
       "output_type": "stream",
       "stream": "stdout",
       "text": [
        "\r",
        "1891000\r",
        "1892000"
       ]
      },
      {
       "output_type": "stream",
       "stream": "stdout",
       "text": [
        "\r",
        "1893000\r",
        "1894000\r",
        "1895000\r",
        "1896000\r",
        "1897000\r",
        "1898000\r",
        "1899000\r",
        "1900000"
       ]
      },
      {
       "output_type": "stream",
       "stream": "stdout",
       "text": [
        "\r",
        "1901000\r",
        "1902000\r",
        "1903000\r",
        "1904000\r",
        "1905000\r",
        "1906000\r",
        "1907000"
       ]
      },
      {
       "output_type": "stream",
       "stream": "stdout",
       "text": [
        "\r",
        "1908000\r",
        "1909000\r",
        "1910000\r",
        "1911000\r",
        "1912000\r",
        "1913000\r",
        "1914000\r",
        "1915000"
       ]
      },
      {
       "output_type": "stream",
       "stream": "stdout",
       "text": [
        "\r",
        "1916000\r",
        "1917000"
       ]
      },
      {
       "output_type": "stream",
       "stream": "stdout",
       "text": [
        "\r",
        "1918000\r",
        "1919000\r",
        "1920000\r",
        "1921000\r",
        "1922000\r",
        "1923000\r",
        "1924000\r",
        "1925000"
       ]
      },
      {
       "output_type": "stream",
       "stream": "stdout",
       "text": [
        "\r",
        "1926000\r",
        "1927000\r",
        "1928000\r",
        "1929000\r",
        "1930000\r",
        "1931000\r",
        "1932000"
       ]
      },
      {
       "output_type": "stream",
       "stream": "stdout",
       "text": [
        "\r",
        "1933000\r",
        "1934000\r",
        "1935000\r",
        "1936000\r",
        "1937000\r",
        "1938000\r",
        "1939000\r",
        "1940000"
       ]
      },
      {
       "output_type": "stream",
       "stream": "stdout",
       "text": [
        "\r",
        "1941000"
       ]
      },
      {
       "output_type": "stream",
       "stream": "stdout",
       "text": [
        "\r",
        "1942000\r",
        "1943000\r",
        "1944000\r",
        "1945000\r",
        "1946000\r",
        "1947000\r",
        "1948000\r",
        "1949000"
       ]
      },
      {
       "output_type": "stream",
       "stream": "stdout",
       "text": [
        "\r",
        "1950000\r",
        "1951000\r",
        "1952000\r",
        "1953000\r",
        "1954000\r",
        "1955000\r",
        "1956000"
       ]
      },
      {
       "output_type": "stream",
       "stream": "stdout",
       "text": [
        "\r",
        "1957000\r",
        "1958000\r",
        "1959000\r",
        "1960000\r",
        "1961000\r",
        "1962000\r",
        "1963000\r",
        "1964000"
       ]
      },
      {
       "output_type": "stream",
       "stream": "stdout",
       "text": [
        "\r",
        "1965000\r",
        "1966000"
       ]
      },
      {
       "output_type": "stream",
       "stream": "stdout",
       "text": [
        "\r",
        "1967000\r",
        "1968000\r",
        "1969000\r",
        "1970000\r",
        "1971000\r",
        "1972000\r",
        "1973000\r",
        "1974000"
       ]
      },
      {
       "output_type": "stream",
       "stream": "stdout",
       "text": [
        "\r",
        "1975000\r",
        "1976000\r",
        "1977000\r",
        "1978000\r",
        "1979000\r",
        "1980000\r",
        "1981000"
       ]
      },
      {
       "output_type": "stream",
       "stream": "stdout",
       "text": [
        "\r",
        "1982000\r",
        "1983000\r",
        "1984000\r",
        "1985000\r",
        "1986000\r",
        "1987000\r",
        "1988000\r",
        "1989000"
       ]
      },
      {
       "output_type": "stream",
       "stream": "stdout",
       "text": [
        "\r",
        "1990000"
       ]
      },
      {
       "output_type": "stream",
       "stream": "stdout",
       "text": [
        "\r",
        "1991000\r",
        "1992000\r",
        "1993000\r",
        "1994000\r",
        "1995000\r",
        "1996000\r",
        "1997000\r",
        "1998000"
       ]
      },
      {
       "output_type": "stream",
       "stream": "stdout",
       "text": [
        "\r",
        "1999000\r",
        "2000000\r",
        "2001000\r",
        "2002000\r",
        "2003000\r",
        "2004000\r",
        "2005000"
       ]
      },
      {
       "output_type": "stream",
       "stream": "stdout",
       "text": [
        "\r",
        "2006000\r",
        "2007000\r",
        "2008000\r",
        "2009000\r",
        "2010000\r",
        "2011000\r",
        "2012000\r",
        "2013000"
       ]
      },
      {
       "output_type": "stream",
       "stream": "stdout",
       "text": [
        "\r",
        "2014000\r",
        "2015000"
       ]
      },
      {
       "output_type": "stream",
       "stream": "stdout",
       "text": [
        "\r",
        "2016000\r",
        "2017000\r",
        "2018000\r",
        "2019000\r",
        "2020000\r",
        "2021000\r",
        "2022000\r",
        "2023000"
       ]
      },
      {
       "output_type": "stream",
       "stream": "stdout",
       "text": [
        "\r",
        "2024000\r",
        "2025000\r",
        "2026000\r",
        "2027000\r",
        "2028000"
       ]
      },
      {
       "output_type": "stream",
       "stream": "stdout",
       "text": [
        "\r",
        "2029000\r",
        "2030000\r",
        "2031000\r",
        "2032000\r",
        "2033000\r",
        "2034000\r",
        "2035000\r",
        "2036000"
       ]
      },
      {
       "output_type": "stream",
       "stream": "stdout",
       "text": [
        "\r",
        "2037000\r",
        "2038000\r",
        "2039000"
       ]
      },
      {
       "output_type": "stream",
       "stream": "stdout",
       "text": [
        "\r",
        "2040000\r",
        "2041000\r",
        "2042000\r",
        "2043000\r",
        "2044000\r",
        "2045000\r",
        "2046000\r",
        "2047000"
       ]
      },
      {
       "output_type": "stream",
       "stream": "stdout",
       "text": [
        "\r",
        "2048000\r",
        "2049000\r",
        "2050000\r",
        "2051000\r",
        "2052000\r",
        "2053000\r",
        "2054000"
       ]
      },
      {
       "output_type": "stream",
       "stream": "stdout",
       "text": [
        "\r",
        "2055000\r",
        "2056000\r",
        "2057000\r",
        "2058000\r",
        "2059000\r",
        "2060000\r",
        "2061000\r",
        "2062000"
       ]
      },
      {
       "output_type": "stream",
       "stream": "stdout",
       "text": [
        "\r",
        "2063000\r",
        "2064000"
       ]
      },
      {
       "output_type": "stream",
       "stream": "stdout",
       "text": [
        "\r",
        "2065000\r",
        "2066000\r",
        "2067000\r",
        "2068000\r",
        "2069000\r",
        "2070000\r",
        "2071000\r",
        "2072000"
       ]
      },
      {
       "output_type": "stream",
       "stream": "stdout",
       "text": [
        "\r",
        "2073000\r",
        "2074000\r",
        "2075000\r",
        "2076000\r",
        "2077000\r",
        "2078000\r",
        "2079000"
       ]
      },
      {
       "output_type": "stream",
       "stream": "stdout",
       "text": [
        "\r",
        "2080000\r",
        "2081000\r",
        "2082000\r",
        "2083000\r",
        "2084000\r",
        "2085000\r",
        "2086000\r",
        "2087000"
       ]
      },
      {
       "output_type": "stream",
       "stream": "stdout",
       "text": [
        "\r",
        "2088000"
       ]
      },
      {
       "output_type": "stream",
       "stream": "stdout",
       "text": [
        "\r",
        "2089000\r",
        "2090000\r",
        "2091000\r",
        "2092000\r",
        "2093000\r",
        "2094000\r",
        "2095000\r",
        "2096000"
       ]
      },
      {
       "output_type": "stream",
       "stream": "stdout",
       "text": [
        "\r",
        "2097000\r",
        "2098000\r",
        "2099000\r",
        "2100000\r",
        "2101000\r",
        "2102000\r",
        "2103000"
       ]
      },
      {
       "output_type": "stream",
       "stream": "stdout",
       "text": [
        "\r",
        "2104000\r",
        "2105000\r",
        "2106000\r",
        "2107000\r",
        "2108000\r",
        "2109000\r",
        "2110000\r",
        "2111000"
       ]
      },
      {
       "output_type": "stream",
       "stream": "stdout",
       "text": [
        "\r",
        "2112000\r",
        "2113000"
       ]
      },
      {
       "output_type": "stream",
       "stream": "stdout",
       "text": [
        "\r",
        "2114000\r",
        "2115000\r",
        "2116000\r",
        "2117000\r",
        "2118000\r",
        "2119000\r",
        "2120000\r",
        "2121000"
       ]
      },
      {
       "output_type": "stream",
       "stream": "stdout",
       "text": [
        "\r",
        "2122000\r",
        "2123000\r",
        "2124000\r",
        "2125000\r",
        "2126000\r",
        "2127000\r",
        "2128000"
       ]
      },
      {
       "output_type": "stream",
       "stream": "stdout",
       "text": [
        "\r",
        "2129000\r",
        "2130000\r",
        "2131000\r",
        "2132000\r",
        "2133000\r",
        "2134000\r",
        "2135000\r",
        "2136000"
       ]
      },
      {
       "output_type": "stream",
       "stream": "stdout",
       "text": [
        "\r",
        "2137000"
       ]
      },
      {
       "output_type": "stream",
       "stream": "stdout",
       "text": [
        "\r",
        "2138000\r",
        "2139000\r",
        "2140000\r",
        "2141000\r",
        "2142000\r",
        "2143000\r",
        "2144000\r",
        "2145000"
       ]
      },
      {
       "output_type": "stream",
       "stream": "stdout",
       "text": [
        "\r",
        "2146000\r",
        "2147000\r",
        "2148000\r",
        "2149000\r",
        "2150000\r",
        "2151000\r",
        "2152000"
       ]
      },
      {
       "output_type": "stream",
       "stream": "stdout",
       "text": [
        "\r",
        "2153000\r",
        "2154000\r",
        "2155000\r",
        "2156000\r",
        "2157000\r",
        "2158000\r",
        "2159000\r",
        "2160000"
       ]
      },
      {
       "output_type": "stream",
       "stream": "stdout",
       "text": [
        "\r",
        "2161000"
       ]
      },
      {
       "output_type": "stream",
       "stream": "stdout",
       "text": [
        "\r",
        "2162000\r",
        "2163000\r",
        "2164000\r",
        "2165000\r",
        "2166000\r",
        "2167000\r",
        "2168000\r",
        "2169000"
       ]
      },
      {
       "output_type": "stream",
       "stream": "stdout",
       "text": [
        "\r",
        "2170000\r",
        "2171000\r",
        "2172000\r",
        "2173000\r",
        "2174000\r",
        "2175000\r",
        "2176000"
       ]
      },
      {
       "output_type": "stream",
       "stream": "stdout",
       "text": [
        "\r",
        "2177000\r",
        "2178000\r",
        "2179000\r",
        "2180000\r",
        "2181000\r",
        "2182000\r",
        "2183000\r",
        "2184000"
       ]
      },
      {
       "output_type": "stream",
       "stream": "stdout",
       "text": [
        "\r",
        "2185000\r",
        "2186000"
       ]
      },
      {
       "output_type": "stream",
       "stream": "stdout",
       "text": [
        "\r",
        "2187000\r",
        "2188000\r",
        "2189000\r",
        "2190000\r",
        "2191000\r",
        "2192000\r",
        "2193000\r",
        "2194000"
       ]
      },
      {
       "output_type": "stream",
       "stream": "stdout",
       "text": [
        "\r",
        "2195000\r",
        "2196000\r",
        "2197000\r",
        "2198000\r",
        "2199000\r",
        "2200000\r",
        "2201000"
       ]
      },
      {
       "output_type": "stream",
       "stream": "stdout",
       "text": [
        "\r",
        "2202000\r",
        "2203000\r",
        "2204000\r",
        "2205000\r",
        "2206000\r",
        "2207000\r",
        "2208000"
       ]
      },
      {
       "output_type": "stream",
       "stream": "stdout",
       "text": [
        "\r",
        "2209000\r",
        "2210000\r",
        "2211000"
       ]
      },
      {
       "output_type": "stream",
       "stream": "stdout",
       "text": [
        "\r",
        "2212000\r",
        "2213000\r",
        "2214000\r",
        "2215000\r",
        "2216000\r",
        "2217000\r",
        "2218000\r",
        "2219000"
       ]
      },
      {
       "output_type": "stream",
       "stream": "stdout",
       "text": [
        "\r",
        "2220000\r",
        "2221000\r",
        "2222000\r",
        "2223000\r",
        "2224000\r",
        "2225000\r",
        "2226000"
       ]
      },
      {
       "output_type": "stream",
       "stream": "stdout",
       "text": [
        "\r",
        "2227000\r",
        "2228000\r",
        "2229000\r",
        "2230000\r",
        "2231000\r",
        "2232000\r",
        "2233000"
       ]
      },
      {
       "output_type": "stream",
       "stream": "stdout",
       "text": [
        "\r",
        "2234000\r",
        "2235000"
       ]
      },
      {
       "output_type": "stream",
       "stream": "stdout",
       "text": [
        "\r",
        "2236000\r",
        "2237000\r",
        "2238000\r",
        "2239000\r",
        "2240000\r",
        "2241000\r",
        "2242000"
       ]
      },
      {
       "output_type": "stream",
       "stream": "stdout",
       "text": [
        "\r",
        "2243000\r",
        "2244000\r",
        "2245000\r",
        "2246000\r",
        "2247000\r",
        "2248000\r",
        "2249000"
       ]
      },
      {
       "output_type": "stream",
       "stream": "stdout",
       "text": [
        "\r",
        "2250000\r",
        "2251000\r",
        "2252000\r",
        "2253000\r",
        "2254000\r",
        "2255000\r",
        "2256000\r",
        "2257000"
       ]
      },
      {
       "output_type": "stream",
       "stream": "stdout",
       "text": [
        "\r",
        "2258000\r",
        "2259000\r",
        "2260000"
       ]
      },
      {
       "output_type": "stream",
       "stream": "stdout",
       "text": [
        "\r",
        "2261000\r",
        "2262000\r",
        "2263000\r",
        "2264000\r",
        "2265000\r",
        "2266000\r",
        "2267000\r",
        "2268000"
       ]
      },
      {
       "output_type": "stream",
       "stream": "stdout",
       "text": [
        "\r",
        "2269000\r",
        "2270000\r",
        "2271000\r",
        "2272000\r",
        "2273000\r",
        "2274000\r",
        "2275000"
       ]
      },
      {
       "output_type": "stream",
       "stream": "stdout",
       "text": [
        "\r",
        "2276000\r",
        "2277000\r",
        "2278000\r",
        "2279000\r",
        "2280000\r",
        "2281000\r",
        "2282000"
       ]
      },
      {
       "output_type": "stream",
       "stream": "stdout",
       "text": [
        "\r",
        "2283000\r",
        "2284000"
       ]
      },
      {
       "output_type": "stream",
       "stream": "stdout",
       "text": [
        "\r",
        "2285000\r",
        "2286000\r",
        "2287000\r",
        "2288000\r",
        "2289000\r",
        "2290000\r",
        "2291000"
       ]
      },
      {
       "output_type": "stream",
       "stream": "stdout",
       "text": [
        "\r",
        "2292000\r",
        "2293000\r",
        "2294000\r",
        "2295000\r",
        "2296000\r",
        "2297000\r",
        "2298000"
       ]
      },
      {
       "output_type": "stream",
       "stream": "stdout",
       "text": [
        "\r",
        "2299000\r",
        "2300000\r",
        "2301000\r",
        "2302000\r",
        "2303000\r",
        "2304000\r",
        "2305000"
       ]
      },
      {
       "output_type": "stream",
       "stream": "stdout",
       "text": [
        "\r",
        "2306000\r",
        "2307000\r",
        "2308000\r",
        "2309000"
       ]
      },
      {
       "output_type": "stream",
       "stream": "stdout",
       "text": [
        "\r",
        "2310000\r",
        "2311000\r",
        "2312000\r",
        "2313000\r",
        "2314000\r",
        "2315000\r",
        "2316000\r",
        "2317000"
       ]
      },
      {
       "output_type": "stream",
       "stream": "stdout",
       "text": [
        "\r",
        "2318000\r",
        "2319000\r",
        "2320000\r",
        "2321000\r",
        "2322000\r",
        "2323000\r",
        "2324000"
       ]
      },
      {
       "output_type": "stream",
       "stream": "stdout",
       "text": [
        "\r",
        "2325000\r",
        "2326000\r",
        "2327000\r",
        "2328000\r",
        "2329000\r",
        "2330000\r",
        "2331000"
       ]
      },
      {
       "output_type": "stream",
       "stream": "stdout",
       "text": [
        "\r",
        "2332000\r",
        "2333000\r",
        "2334000"
       ]
      },
      {
       "output_type": "stream",
       "stream": "stdout",
       "text": [
        "\r",
        "2335000\r",
        "2336000\r",
        "2337000\r",
        "2338000\r",
        "2339000\r",
        "2340000\r",
        "2341000"
       ]
      },
      {
       "output_type": "stream",
       "stream": "stdout",
       "text": [
        "\r",
        "2342000\r",
        "2343000\r",
        "2344000\r",
        "2345000\r",
        "2346000\r",
        "2347000\r",
        "2348000"
       ]
      },
      {
       "output_type": "stream",
       "stream": "stdout",
       "text": [
        "\r",
        "2349000\r",
        "2350000\r",
        "2351000\r",
        "2352000\r",
        "2353000\r",
        "2354000\r",
        "2355000"
       ]
      },
      {
       "output_type": "stream",
       "stream": "stdout",
       "text": [
        "\r",
        "2356000\r",
        "2357000\r",
        "2358000\r",
        "2359000"
       ]
      },
      {
       "output_type": "stream",
       "stream": "stdout",
       "text": [
        "\r",
        "2360000\r",
        "2361000\r",
        "2362000\r",
        "2363000\r",
        "2364000\r",
        "2365000\r",
        "2366000\r",
        "2367000"
       ]
      },
      {
       "output_type": "stream",
       "stream": "stdout",
       "text": [
        "\r",
        "2368000\r",
        "2369000\r",
        "2370000\r",
        "2371000\r",
        "2372000\r",
        "2373000\r",
        "2374000"
       ]
      },
      {
       "output_type": "stream",
       "stream": "stdout",
       "text": [
        "\r",
        "2375000\r",
        "2376000\r",
        "2377000\r",
        "2378000\r",
        "2379000\r",
        "2380000\r",
        "2381000\r",
        "2382000"
       ]
      },
      {
       "output_type": "stream",
       "stream": "stdout",
       "text": [
        "\r",
        "2383000"
       ]
      },
      {
       "output_type": "stream",
       "stream": "stdout",
       "text": [
        "\r",
        "2384000\r",
        "2385000\r",
        "2386000\r",
        "2387000\r",
        "2388000\r",
        "2389000\r",
        "2390000\r",
        "2391000"
       ]
      },
      {
       "output_type": "stream",
       "stream": "stdout",
       "text": [
        "\r",
        "2392000\r",
        "2393000\r",
        "2394000\r",
        "2395000\r",
        "2396000\r",
        "2397000\r",
        "2398000"
       ]
      },
      {
       "output_type": "stream",
       "stream": "stdout",
       "text": [
        "\r",
        "2399000\r",
        "2400000\r",
        "2401000\r",
        "2402000\r",
        "2403000\r",
        "2404000\r",
        "2405000\r",
        "2406000"
       ]
      },
      {
       "output_type": "stream",
       "stream": "stdout",
       "text": [
        "\r",
        "2407000\r",
        "2408000"
       ]
      },
      {
       "output_type": "stream",
       "stream": "stdout",
       "text": [
        "\r",
        "2409000\r",
        "2410000\r",
        "2411000\r",
        "2412000\r",
        "2413000\r",
        "2414000\r",
        "2415000\r",
        "2416000"
       ]
      },
      {
       "output_type": "stream",
       "stream": "stdout",
       "text": [
        "\r",
        "2417000\r",
        "2418000\r",
        "2419000\r",
        "2420000\r",
        "2421000\r",
        "2422000\r",
        "2423000"
       ]
      },
      {
       "output_type": "stream",
       "stream": "stdout",
       "text": [
        "\r",
        "2424000\r",
        "2425000\r",
        "2426000\r",
        "2427000\r",
        "2428000\r",
        "2429000\r",
        "2430000\r",
        "2431000"
       ]
      },
      {
       "output_type": "stream",
       "stream": "stdout",
       "text": [
        "\r",
        "2432000"
       ]
      },
      {
       "output_type": "stream",
       "stream": "stdout",
       "text": [
        "\r",
        "2433000\r",
        "2434000\r",
        "2435000\r",
        "2436000\r",
        "2437000\r",
        "2438000\r",
        "2439000\r",
        "2440000"
       ]
      },
      {
       "output_type": "stream",
       "stream": "stdout",
       "text": [
        "\r",
        "2441000\r",
        "2442000\r",
        "2443000\r",
        "2444000\r",
        "2445000\r",
        "2446000\r",
        "2447000"
       ]
      },
      {
       "output_type": "stream",
       "stream": "stdout",
       "text": [
        "\r",
        "2448000\r",
        "2449000\r",
        "2450000\r",
        "2451000\r",
        "2452000\r",
        "2453000\r",
        "2454000"
       ]
      },
      {
       "output_type": "stream",
       "stream": "stdout",
       "text": [
        "\r",
        "2455000\r",
        "2456000\r",
        "2457000"
       ]
      },
      {
       "output_type": "stream",
       "stream": "stdout",
       "text": [
        "\r",
        "2458000\r",
        "2459000\r",
        "2460000\r",
        "2461000\r",
        "2462000\r",
        "2463000\r",
        "2464000"
       ]
      },
      {
       "output_type": "stream",
       "stream": "stdout",
       "text": [
        "\r",
        "2465000\r",
        "2466000\r",
        "2467000\r",
        "2468000\r",
        "2469000\r",
        "2470000\r",
        "2471000"
       ]
      },
      {
       "output_type": "stream",
       "stream": "stdout",
       "text": [
        "\r",
        "2472000\r",
        "2473000\r",
        "2474000\r",
        "2475000\r",
        "2476000\r",
        "2477000\r",
        "2478000\r",
        "2479000"
       ]
      },
      {
       "output_type": "stream",
       "stream": "stdout",
       "text": [
        "\r",
        "2480000\r",
        "2481000"
       ]
      },
      {
       "output_type": "stream",
       "stream": "stdout",
       "text": [
        "\r",
        "2482000\r",
        "2483000\r",
        "2484000\r",
        "2485000\r",
        "2486000\r",
        "2487000\r",
        "2488000\r",
        "2489000"
       ]
      },
      {
       "output_type": "stream",
       "stream": "stdout",
       "text": [
        "\r",
        "2490000\r",
        "2491000\r",
        "2492000\r",
        "2493000\r",
        "2494000\r",
        "2495000\r",
        "2496000"
       ]
      },
      {
       "output_type": "stream",
       "stream": "stdout",
       "text": [
        "\r",
        "2497000\r",
        "2498000\r",
        "2499000\r",
        "2500000\r",
        "2501000\r",
        "2502000\r",
        "2503000\r",
        "2504000"
       ]
      },
      {
       "output_type": "stream",
       "stream": "stdout",
       "text": [
        "\r",
        "2505000\r",
        "2506000"
       ]
      },
      {
       "output_type": "stream",
       "stream": "stdout",
       "text": [
        "\r",
        "2507000\r",
        "2508000\r",
        "2509000\r",
        "2510000\r",
        "2511000\r",
        "2512000\r",
        "2513000"
       ]
      },
      {
       "output_type": "stream",
       "stream": "stdout",
       "text": [
        "\r",
        "2514000\r",
        "2515000\r",
        "2516000\r",
        "2517000\r",
        "2518000\r",
        "2519000\r",
        "2520000"
       ]
      },
      {
       "output_type": "stream",
       "stream": "stdout",
       "text": [
        "\r",
        "2521000\r",
        "2522000\r",
        "2523000\r",
        "2524000\r",
        "2525000\r",
        "2526000\r",
        "2527000\r",
        "2528000"
       ]
      },
      {
       "output_type": "stream",
       "stream": "stdout",
       "text": [
        "\r",
        "2529000\r",
        "2530000"
       ]
      },
      {
       "output_type": "stream",
       "stream": "stdout",
       "text": [
        "\r",
        "2531000\r",
        "2532000\r",
        "2533000\r",
        "2534000\r",
        "2535000\r",
        "2536000\r",
        "2537000\r",
        "2538000"
       ]
      },
      {
       "output_type": "stream",
       "stream": "stdout",
       "text": [
        "\r",
        "2539000\r",
        "2540000\r",
        "2541000\r",
        "2542000\r",
        "2543000\r",
        "2544000\r",
        "2545000"
       ]
      },
      {
       "output_type": "stream",
       "stream": "stdout",
       "text": [
        "\r",
        "2546000\r",
        "2547000\r",
        "2548000\r",
        "2549000\r",
        "2550000\r",
        "2551000\r",
        "2552000\r",
        "2553000"
       ]
      },
      {
       "output_type": "stream",
       "stream": "stdout",
       "text": [
        "\r",
        "2554000\r",
        "2555000"
       ]
      },
      {
       "output_type": "stream",
       "stream": "stdout",
       "text": [
        "\r",
        "2556000\r",
        "2557000\r",
        "2558000\r",
        "2559000\r",
        "2560000\r",
        "2561000\r",
        "2562000\r",
        "2563000"
       ]
      },
      {
       "output_type": "stream",
       "stream": "stdout",
       "text": [
        "\r",
        "2564000\r",
        "2565000\r",
        "2566000\r",
        "2567000\r",
        "2568000\r",
        "2569000\r",
        "2570000"
       ]
      },
      {
       "output_type": "stream",
       "stream": "stdout",
       "text": [
        "\r",
        "2571000\r",
        "2572000\r",
        "2573000\r",
        "2574000\r",
        "2575000\r",
        "2576000\r",
        "2577000\r",
        "2578000"
       ]
      },
      {
       "output_type": "stream",
       "stream": "stdout",
       "text": [
        "\r",
        "2579000\r",
        "2580000"
       ]
      },
      {
       "output_type": "stream",
       "stream": "stdout",
       "text": [
        "\r",
        "2581000\r",
        "2582000\r",
        "2583000\r",
        "2584000\r",
        "2585000\r",
        "2586000\r",
        "2587000\r",
        "2588000"
       ]
      },
      {
       "output_type": "stream",
       "stream": "stdout",
       "text": [
        "\r",
        "2589000\r",
        "2590000\r",
        "2591000\r",
        "2592000\r",
        "2593000\r",
        "2594000\r",
        "2595000"
       ]
      },
      {
       "output_type": "stream",
       "stream": "stdout",
       "text": [
        "\r",
        "2596000\r",
        "2597000\r",
        "2598000\r",
        "2599000\r",
        "2600000\r",
        "2601000\r",
        "2602000\r",
        "2603000"
       ]
      },
      {
       "output_type": "stream",
       "stream": "stdout",
       "text": [
        "\r",
        "2604000"
       ]
      },
      {
       "output_type": "stream",
       "stream": "stdout",
       "text": [
        "\r",
        "2605000\r",
        "2606000\r",
        "2607000\r",
        "2608000\r",
        "2609000\r",
        "2610000\r",
        "2611000\r",
        "2612000"
       ]
      },
      {
       "output_type": "stream",
       "stream": "stdout",
       "text": [
        "\r",
        "2613000\r",
        "2614000\r",
        "2615000\r",
        "2616000\r",
        "2617000\r",
        "2618000\r",
        "2619000"
       ]
      },
      {
       "output_type": "stream",
       "stream": "stdout",
       "text": [
        "\r",
        "2620000\r",
        "2621000\r",
        "2622000\r",
        "2623000\r",
        "2624000\r",
        "2625000\r",
        "2626000\r",
        "2627000"
       ]
      },
      {
       "output_type": "stream",
       "stream": "stdout",
       "text": [
        "\r",
        "2628000\r",
        "2629000"
       ]
      },
      {
       "output_type": "stream",
       "stream": "stdout",
       "text": [
        "\r",
        "2630000\r",
        "2631000\r",
        "2632000\r",
        "2633000\r",
        "2634000\r",
        "2635000\r",
        "2636000\r",
        "2637000"
       ]
      },
      {
       "output_type": "stream",
       "stream": "stdout",
       "text": [
        "\r",
        "2638000\r",
        "2639000\r",
        "2640000\r",
        "2641000\r",
        "2642000\r",
        "2643000\r",
        "2644000"
       ]
      },
      {
       "output_type": "stream",
       "stream": "stdout",
       "text": [
        "\r",
        "2645000\r",
        "2646000\r",
        "2647000\r",
        "2648000\r",
        "2649000\r",
        "2650000\r",
        "2651000\r",
        "2652000"
       ]
      },
      {
       "output_type": "stream",
       "stream": "stdout",
       "text": [
        "\r",
        "2653000"
       ]
      },
      {
       "output_type": "stream",
       "stream": "stdout",
       "text": [
        "\r",
        "2654000\r",
        "2655000\r",
        "2656000\r",
        "2657000\r",
        "2658000\r",
        "2659000\r",
        "2660000\r",
        "2661000"
       ]
      },
      {
       "output_type": "stream",
       "stream": "stdout",
       "text": [
        "\r",
        "2662000\r",
        "2663000\r",
        "2664000\r",
        "2665000\r",
        "2666000\r",
        "2667000\r",
        "2668000"
       ]
      },
      {
       "output_type": "stream",
       "stream": "stdout",
       "text": [
        "\r",
        "2669000\r",
        "2670000\r",
        "2671000\r",
        "2672000\r",
        "2673000\r",
        "2674000\r",
        "2675000\r",
        "2676000"
       ]
      },
      {
       "output_type": "stream",
       "stream": "stdout",
       "text": [
        "\r",
        "2677000\r",
        "2678000"
       ]
      },
      {
       "output_type": "stream",
       "stream": "stdout",
       "text": [
        "\r",
        "2679000\r",
        "2680000\r",
        "2681000\r",
        "2682000\r",
        "2683000\r",
        "2684000\r",
        "2685000"
       ]
      },
      {
       "output_type": "stream",
       "stream": "stdout",
       "text": [
        "\r",
        "2686000\r",
        "2687000\r",
        "2688000\r",
        "2689000\r",
        "2690000\r",
        "2691000\r",
        "2692000"
       ]
      },
      {
       "output_type": "stream",
       "stream": "stdout",
       "text": [
        "\r",
        "2693000\r",
        "2694000\r",
        "2695000\r",
        "2696000\r",
        "2697000\r",
        "2698000\r",
        "2699000"
       ]
      },
      {
       "output_type": "stream",
       "stream": "stdout",
       "text": [
        "\r",
        "2700000\r",
        "2701000\r",
        "2702000"
       ]
      },
      {
       "output_type": "stream",
       "stream": "stdout",
       "text": [
        "\r",
        "2703000\r",
        "2704000\r",
        "2705000\r",
        "2706000\r",
        "2707000\r",
        "2708000\r",
        "2709000\r",
        "2710000"
       ]
      },
      {
       "output_type": "stream",
       "stream": "stdout",
       "text": [
        "\r",
        "2711000\r",
        "2712000\r",
        "2713000\r",
        "2714000\r",
        "2715000\r",
        "2716000\r",
        "2717000"
       ]
      },
      {
       "output_type": "stream",
       "stream": "stdout",
       "text": [
        "\r",
        "2718000\r",
        "2719000\r",
        "2720000\r",
        "2721000\r",
        "2722000\r",
        "2723000\r",
        "2724000\r",
        "2725000"
       ]
      },
      {
       "output_type": "stream",
       "stream": "stdout",
       "text": [
        "\r",
        "2726000\r",
        "2727000"
       ]
      },
      {
       "output_type": "stream",
       "stream": "stdout",
       "text": [
        "\r",
        "2728000\r",
        "2729000\r",
        "2730000\r",
        "2731000\r",
        "2732000\r",
        "2733000\r",
        "2734000\r",
        "2735000"
       ]
      },
      {
       "output_type": "stream",
       "stream": "stdout",
       "text": [
        "\r",
        "2736000\r",
        "2737000\r",
        "2738000\r",
        "2739000\r",
        "2740000\r",
        "2741000\r",
        "2742000"
       ]
      },
      {
       "output_type": "stream",
       "stream": "stdout",
       "text": [
        "\r",
        "2743000\r",
        "2744000\r",
        "2745000\r",
        "2746000\r",
        "2747000\r",
        "2748000\r",
        "2749000\r",
        "2750000"
       ]
      },
      {
       "output_type": "stream",
       "stream": "stdout",
       "text": [
        "\r",
        "2751000"
       ]
      },
      {
       "output_type": "stream",
       "stream": "stdout",
       "text": [
        "\r",
        "2752000\r",
        "2753000\r",
        "2754000\r",
        "2755000\r",
        "2756000\r",
        "2757000\r",
        "2758000\r",
        "2759000"
       ]
      },
      {
       "output_type": "stream",
       "stream": "stdout",
       "text": [
        "\r",
        "2760000\r",
        "2761000\r",
        "2762000\r",
        "2763000\r",
        "2764000\r",
        "2765000\r",
        "2766000"
       ]
      },
      {
       "output_type": "stream",
       "stream": "stdout",
       "text": [
        "\r",
        "2767000\r",
        "2768000\r",
        "2769000\r",
        "2770000\r",
        "2771000\r",
        "2772000\r",
        "2773000\r",
        "2774000"
       ]
      },
      {
       "output_type": "stream",
       "stream": "stdout",
       "text": [
        "\r",
        "2775000\r",
        "2776000"
       ]
      },
      {
       "output_type": "stream",
       "stream": "stdout",
       "text": [
        "\r",
        "2777000\r",
        "2778000\r",
        "2779000\r",
        "2780000\r",
        "2781000\r",
        "2782000\r",
        "2783000\r",
        "2784000"
       ]
      },
      {
       "output_type": "stream",
       "stream": "stdout",
       "text": [
        "\r",
        "2785000\r",
        "2786000\r",
        "2787000\r",
        "2788000\r",
        "2789000\r",
        "2790000\r",
        "2791000"
       ]
      },
      {
       "output_type": "stream",
       "stream": "stdout",
       "text": [
        "\r",
        "2792000\r",
        "2793000\r",
        "2794000\r",
        "2795000\r",
        "2796000\r",
        "2797000\r",
        "2798000\r",
        "2799000"
       ]
      },
      {
       "output_type": "stream",
       "stream": "stdout",
       "text": [
        "\r",
        "2800000"
       ]
      },
      {
       "output_type": "stream",
       "stream": "stdout",
       "text": [
        "\r",
        "2801000\r",
        "2802000\r",
        "2803000\r",
        "2804000\r",
        "2805000\r",
        "2806000\r",
        "2807000\r",
        "2808000"
       ]
      },
      {
       "output_type": "stream",
       "stream": "stdout",
       "text": [
        "\r",
        "2809000\r",
        "2810000\r",
        "2811000\r",
        "2812000\r",
        "2813000\r",
        "2814000\r",
        "2815000"
       ]
      },
      {
       "output_type": "stream",
       "stream": "stdout",
       "text": [
        "\r",
        "2816000\r",
        "2817000\r",
        "2818000\r",
        "2819000\r",
        "2820000\r",
        "2821000\r",
        "2822000\r",
        "2823000"
       ]
      },
      {
       "output_type": "stream",
       "stream": "stdout",
       "text": [
        "\r",
        "2824000\r",
        "2825000"
       ]
      },
      {
       "output_type": "stream",
       "stream": "stdout",
       "text": [
        "\r",
        "2826000\r",
        "2827000\r",
        "2828000\r",
        "2829000\r",
        "2830000\r",
        "2831000\r",
        "2832000\r",
        "2833000"
       ]
      },
      {
       "output_type": "stream",
       "stream": "stdout",
       "text": [
        "\r",
        "2834000\r",
        "2835000\r",
        "2836000\r",
        "2837000\r",
        "2838000\r",
        "2839000\r",
        "2840000"
       ]
      },
      {
       "output_type": "stream",
       "stream": "stdout",
       "text": [
        "\r",
        "2841000\r",
        "2842000\r",
        "2843000\r",
        "2844000\r",
        "2845000\r",
        "2846000\r",
        "2847000"
       ]
      },
      {
       "output_type": "stream",
       "stream": "stdout",
       "text": [
        "\r",
        "2848000\r",
        "2849000"
       ]
      },
      {
       "output_type": "stream",
       "stream": "stdout",
       "text": [
        "\r",
        "2850000\r",
        "2851000\r",
        "2852000\r",
        "2853000\r",
        "2854000\r",
        "2855000\r",
        "2856000\r",
        "2857000"
       ]
      },
      {
       "output_type": "stream",
       "stream": "stdout",
       "text": [
        "\r",
        "2858000\r",
        "2859000\r",
        "2860000\r",
        "2861000\r",
        "2862000\r",
        "2863000\r",
        "2864000"
       ]
      },
      {
       "output_type": "stream",
       "stream": "stdout",
       "text": [
        "\r",
        "2865000\r",
        "2866000\r",
        "2867000\r",
        "2868000\r",
        "2869000\r",
        "2870000\r",
        "2871000\r",
        "2872000"
       ]
      },
      {
       "output_type": "stream",
       "stream": "stdout",
       "text": [
        "\r",
        "2873000\r",
        "2874000"
       ]
      },
      {
       "output_type": "stream",
       "stream": "stdout",
       "text": [
        "\r",
        "2875000\r",
        "2876000\r",
        "2877000\r",
        "2878000\r",
        "2879000\r",
        "2880000\r",
        "2881000\r",
        "2882000"
       ]
      },
      {
       "output_type": "stream",
       "stream": "stdout",
       "text": [
        "\r",
        "2883000\r",
        "2884000\r",
        "2885000\r",
        "2886000\r",
        "2887000\r",
        "2888000\r",
        "2889000"
       ]
      },
      {
       "output_type": "stream",
       "stream": "stdout",
       "text": [
        "\r",
        "2890000\r",
        "2891000\r",
        "2892000\r",
        "2893000\r",
        "2894000\r",
        "2895000\r",
        "2896000\r",
        "2897000"
       ]
      },
      {
       "output_type": "stream",
       "stream": "stdout",
       "text": [
        "\r",
        "2898000"
       ]
      },
      {
       "output_type": "stream",
       "stream": "stdout",
       "text": [
        "\r",
        "2899000\r",
        "2900000\r",
        "2901000\r",
        "2902000\r",
        "2903000\r",
        "2904000\r",
        "2905000\r",
        "2906000"
       ]
      },
      {
       "output_type": "stream",
       "stream": "stdout",
       "text": [
        "\r",
        "2907000\r",
        "2908000\r",
        "2909000\r",
        "2910000\r",
        "2911000\r",
        "2912000\r",
        "2913000"
       ]
      },
      {
       "output_type": "stream",
       "stream": "stdout",
       "text": [
        "\r",
        "2914000\r",
        "2915000\r",
        "2916000\r",
        "2917000\r",
        "2918000\r",
        "2919000\r",
        "2920000\r",
        "2921000"
       ]
      },
      {
       "output_type": "stream",
       "stream": "stdout",
       "text": [
        "\r",
        "2922000\r",
        "2923000"
       ]
      },
      {
       "output_type": "stream",
       "stream": "stdout",
       "text": [
        "\r",
        "2924000\r",
        "2925000\r",
        "2926000\r",
        "2927000\r",
        "2928000\r",
        "2929000\r",
        "2930000\r",
        "2931000"
       ]
      },
      {
       "output_type": "stream",
       "stream": "stdout",
       "text": [
        "\r",
        "2932000\r",
        "2933000\r",
        "2934000\r",
        "2935000\r",
        "2936000\r",
        "2937000\r",
        "2938000"
       ]
      },
      {
       "output_type": "stream",
       "stream": "stdout",
       "text": [
        "\r",
        "2939000\r",
        "2940000\r",
        "2941000\r",
        "2942000\r",
        "2943000\r",
        "2944000\r",
        "2945000\r",
        "2946000"
       ]
      },
      {
       "output_type": "stream",
       "stream": "stdout",
       "text": [
        "\r",
        "2947000"
       ]
      },
      {
       "output_type": "stream",
       "stream": "stdout",
       "text": [
        "\r",
        "2948000\r",
        "2949000\r",
        "2950000\r",
        "2951000\r",
        "2952000\r",
        "2953000\r",
        "2954000\r",
        "2955000"
       ]
      },
      {
       "output_type": "stream",
       "stream": "stdout",
       "text": [
        "\r",
        "2956000\r",
        "2957000\r",
        "2958000\r",
        "2959000\r",
        "2960000\r",
        "2961000\r",
        "2962000"
       ]
      },
      {
       "output_type": "stream",
       "stream": "stdout",
       "text": [
        "\r",
        "2963000\r",
        "2964000\r",
        "2965000\r",
        "2966000\r",
        "2967000\r",
        "2968000\r",
        "2969000\r",
        "2970000"
       ]
      },
      {
       "output_type": "stream",
       "stream": "stdout",
       "text": [
        "\r",
        "2971000\r",
        "2972000"
       ]
      },
      {
       "output_type": "stream",
       "stream": "stdout",
       "text": [
        "\r",
        "2973000\r",
        "2974000\r",
        "2975000\r",
        "2976000\r",
        "2977000\r",
        "2978000\r",
        "2979000\r",
        "2980000"
       ]
      },
      {
       "output_type": "stream",
       "stream": "stdout",
       "text": [
        "\r",
        "2981000\r",
        "2982000\r",
        "2983000\r",
        "2984000\r",
        "2985000\r",
        "2986000\r",
        "2987000"
       ]
      },
      {
       "output_type": "stream",
       "stream": "stdout",
       "text": [
        "\r",
        "2988000\r",
        "2989000\r",
        "2990000\r",
        "2991000\r",
        "2992000\r",
        "2993000\r",
        "2994000\r",
        "2995000"
       ]
      },
      {
       "output_type": "stream",
       "stream": "stdout",
       "text": [
        "\r",
        "2996000\r",
        "2997000"
       ]
      },
      {
       "output_type": "stream",
       "stream": "stdout",
       "text": [
        "\r",
        "2998000\r",
        "2999000\r",
        "3000000\r",
        "3001000\r",
        "3002000\r",
        "3003000\r",
        "3004000"
       ]
      },
      {
       "output_type": "stream",
       "stream": "stdout",
       "text": [
        "\r",
        "3005000\r",
        "3006000\r",
        "3007000\r",
        "3008000\r",
        "3009000\r",
        "3010000\r",
        "3011000"
       ]
      },
      {
       "output_type": "stream",
       "stream": "stdout",
       "text": [
        "\r",
        "3012000\r",
        "3013000\r",
        "3014000\r",
        "3015000\r",
        "3016000\r",
        "3017000\r",
        "3018000\r",
        "3019000"
       ]
      },
      {
       "output_type": "stream",
       "stream": "stdout",
       "text": [
        "\r",
        "3020000\r",
        "3021000"
       ]
      },
      {
       "output_type": "stream",
       "stream": "stdout",
       "text": [
        "\r",
        "3022000\r",
        "3023000\r",
        "3024000\r",
        "3025000\r",
        "3026000\r",
        "3027000\r",
        "3028000"
       ]
      },
      {
       "output_type": "stream",
       "stream": "stdout",
       "text": [
        "\r",
        "3029000\r",
        "3030000\r",
        "3031000\r",
        "3032000\r",
        "3033000\r",
        "3034000"
       ]
      },
      {
       "output_type": "stream",
       "stream": "stdout",
       "text": [
        "\r",
        "3035000\r",
        "3036000\r",
        "3037000\r",
        "3038000\r",
        "3039000\r",
        "3040000\r",
        "3041000"
       ]
      },
      {
       "output_type": "stream",
       "stream": "stdout",
       "text": [
        "\r",
        "3042000\r",
        "3043000\r",
        "3044000\r",
        "3045000\r",
        "3046000"
       ]
      },
      {
       "output_type": "stream",
       "stream": "stdout",
       "text": [
        "\r",
        "3047000\r",
        "3048000\r",
        "3049000\r",
        "3050000\r",
        "3051000\r",
        "3052000\r",
        "3053000"
       ]
      },
      {
       "output_type": "stream",
       "stream": "stdout",
       "text": [
        "\r",
        "3054000\r",
        "3055000\r",
        "3056000\r",
        "3057000\r",
        "3058000\r",
        "3059000\r",
        "3060000"
       ]
      },
      {
       "output_type": "stream",
       "stream": "stdout",
       "text": [
        "\r",
        "3061000\r",
        "3062000\r",
        "3063000\r",
        "3064000\r",
        "3065000\r",
        "3066000\r",
        "3067000"
       ]
      },
      {
       "output_type": "stream",
       "stream": "stdout",
       "text": [
        "\r",
        "3068000\r",
        "3069000\r",
        "3070000\r",
        "3071000"
       ]
      },
      {
       "output_type": "stream",
       "stream": "stdout",
       "text": [
        "\r",
        "3072000\r",
        "3073000\r",
        "3074000\r",
        "3075000\r",
        "3076000\r",
        "3077000\r",
        "3078000\r",
        "3079000"
       ]
      },
      {
       "output_type": "stream",
       "stream": "stdout",
       "text": [
        "\r",
        "3080000\r",
        "3081000\r",
        "3082000\r",
        "3083000\r",
        "3084000\r",
        "3085000\r",
        "3086000"
       ]
      },
      {
       "output_type": "stream",
       "stream": "stdout",
       "text": [
        "\r",
        "3087000\r",
        "3088000\r",
        "3089000\r",
        "3090000\r",
        "3091000\r",
        "3092000\r",
        "3093000\r",
        "3094000"
       ]
      },
      {
       "output_type": "stream",
       "stream": "stdout",
       "text": [
        "\r",
        "3095000"
       ]
      },
      {
       "output_type": "stream",
       "stream": "stdout",
       "text": [
        "\r",
        "3096000\r",
        "3097000\r",
        "3098000\r",
        "3099000\r",
        "3100000\r",
        "3101000\r",
        "3102000\r",
        "3103000"
       ]
      },
      {
       "output_type": "stream",
       "stream": "stdout",
       "text": [
        "\r",
        "3104000\r",
        "3105000\r",
        "3106000\r",
        "3107000\r",
        "3108000\r",
        "3109000\r",
        "3110000"
       ]
      },
      {
       "output_type": "stream",
       "stream": "stdout",
       "text": [
        "\r",
        "3111000\r",
        "3112000\r",
        "3113000\r",
        "3114000\r",
        "3115000\r",
        "3116000\r",
        "3117000\r",
        "3118000"
       ]
      },
      {
       "output_type": "stream",
       "stream": "stdout",
       "text": [
        "\r",
        "3119000\r",
        "3120000"
       ]
      },
      {
       "output_type": "stream",
       "stream": "stdout",
       "text": [
        "\r",
        "3121000\r",
        "3122000\r",
        "3123000\r",
        "3124000\r",
        "3125000\r",
        "3126000\r",
        "3127000\r",
        "3128000"
       ]
      },
      {
       "output_type": "stream",
       "stream": "stdout",
       "text": [
        "\r",
        "3129000\r",
        "3130000\r",
        "3131000\r",
        "3132000\r",
        "3133000\r",
        "3134000\r",
        "3135000"
       ]
      },
      {
       "output_type": "stream",
       "stream": "stdout",
       "text": [
        "\r",
        "3136000\r",
        "3137000\r",
        "3138000\r",
        "3139000\r",
        "3140000\r",
        "3141000\r",
        "3142000\r",
        "3143000"
       ]
      },
      {
       "output_type": "stream",
       "stream": "stdout",
       "text": [
        "\r",
        "3144000"
       ]
      },
      {
       "output_type": "stream",
       "stream": "stdout",
       "text": [
        "\r",
        "3145000\r",
        "3146000\r",
        "3147000\r",
        "3148000\r",
        "3149000\r",
        "3150000\r",
        "3151000\r",
        "3152000"
       ]
      },
      {
       "output_type": "stream",
       "stream": "stdout",
       "text": [
        "\r",
        "3153000\r",
        "3154000\r",
        "3155000\r",
        "3156000\r",
        "3157000\r",
        "3158000\r",
        "3159000"
       ]
      },
      {
       "output_type": "stream",
       "stream": "stdout",
       "text": [
        "\r",
        "3160000\r",
        "3161000\r",
        "3162000\r",
        "3163000\r",
        "3164000\r",
        "3165000\r",
        "3166000"
       ]
      },
      {
       "output_type": "stream",
       "stream": "stdout",
       "text": [
        "\r",
        "3167000\r",
        "3168000\r",
        "3169000"
       ]
      },
      {
       "output_type": "stream",
       "stream": "stdout",
       "text": [
        "\r",
        "3170000\r",
        "3171000\r",
        "3172000\r",
        "3173000\r",
        "3174000\r",
        "3175000\r",
        "3176000\r",
        "3177000"
       ]
      },
      {
       "output_type": "stream",
       "stream": "stdout",
       "text": [
        "\r",
        "3178000\r",
        "3179000\r",
        "3180000\r",
        "3181000\r",
        "3182000\r",
        "3183000\r",
        "3184000"
       ]
      },
      {
       "output_type": "stream",
       "stream": "stdout",
       "text": [
        "\r",
        "3185000\r",
        "3186000\r",
        "3187000\r",
        "3188000\r",
        "3189000\r",
        "3190000\r",
        "3191000\r",
        "3192000"
       ]
      },
      {
       "output_type": "stream",
       "stream": "stdout",
       "text": [
        "\r",
        "3193000"
       ]
      },
      {
       "output_type": "stream",
       "stream": "stdout",
       "text": [
        "\r",
        "3194000\r",
        "3195000\r",
        "3196000\r",
        "3197000\r",
        "3198000\r",
        "3199000\r",
        "3200000\r",
        "3201000"
       ]
      },
      {
       "output_type": "stream",
       "stream": "stdout",
       "text": [
        "\r",
        "3202000\r",
        "3203000\r",
        "3204000\r",
        "3205000\r",
        "3206000\r",
        "3207000\r",
        "3208000"
       ]
      },
      {
       "output_type": "stream",
       "stream": "stdout",
       "text": [
        "\r",
        "3209000\r",
        "3210000\r",
        "3211000\r",
        "3212000\r",
        "3213000\r",
        "3214000\r",
        "3215000\r",
        "3216000"
       ]
      },
      {
       "output_type": "stream",
       "stream": "stdout",
       "text": [
        "\r",
        "3217000\r",
        "3218000"
       ]
      },
      {
       "output_type": "stream",
       "stream": "stdout",
       "text": [
        "\r",
        "3219000\r",
        "3220000\r",
        "3221000\r",
        "3222000\r",
        "3223000\r",
        "3224000\r",
        "3225000\r",
        "3226000"
       ]
      },
      {
       "output_type": "stream",
       "stream": "stdout",
       "text": [
        "\r",
        "3227000\r",
        "3228000\r",
        "3229000\r",
        "3230000\r",
        "3231000\r",
        "3232000\r",
        "3233000"
       ]
      },
      {
       "output_type": "stream",
       "stream": "stdout",
       "text": [
        "\r",
        "3234000\r",
        "3235000\r",
        "3236000\r",
        "3237000\r",
        "3238000\r",
        "3239000\r",
        "3240000\r",
        "3241000"
       ]
      },
      {
       "output_type": "stream",
       "stream": "stdout",
       "text": [
        "\r",
        "3242000"
       ]
      },
      {
       "output_type": "stream",
       "stream": "stdout",
       "text": [
        "\r",
        "3243000\r",
        "3244000\r",
        "3245000\r",
        "3246000\r",
        "3247000\r",
        "3248000\r",
        "3249000\r",
        "3250000"
       ]
      },
      {
       "output_type": "stream",
       "stream": "stdout",
       "text": [
        "\r",
        "3251000\r",
        "3252000\r",
        "3253000\r",
        "3254000\r",
        "3255000\r",
        "3256000\r",
        "3257000"
       ]
      },
      {
       "output_type": "stream",
       "stream": "stdout",
       "text": [
        "\r",
        "3258000\r",
        "3259000\r",
        "3260000\r",
        "3261000\r",
        "3262000\r",
        "3263000\r",
        "3264000\r",
        "3265000"
       ]
      },
      {
       "output_type": "stream",
       "stream": "stdout",
       "text": [
        "\r",
        "3266000\r",
        "3267000"
       ]
      },
      {
       "output_type": "stream",
       "stream": "stdout",
       "text": [
        "\r",
        "3268000\r",
        "3269000\r",
        "3270000\r",
        "3271000\r",
        "3272000\r",
        "3273000\r",
        "3274000\r",
        "3275000"
       ]
      },
      {
       "output_type": "stream",
       "stream": "stdout",
       "text": [
        "\r",
        "3276000\r",
        "3277000\r",
        "3278000\r",
        "3279000\r",
        "3280000\r",
        "3281000\r",
        "3282000"
       ]
      },
      {
       "output_type": "stream",
       "stream": "stdout",
       "text": [
        "\r",
        "3283000\r",
        "3284000\r",
        "3285000\r",
        "3286000\r",
        "3287000\r",
        "3288000\r",
        "3289000\r",
        "3290000"
       ]
      },
      {
       "output_type": "stream",
       "stream": "stdout",
       "text": [
        "\r",
        "3291000"
       ]
      },
      {
       "output_type": "stream",
       "stream": "stdout",
       "text": [
        "\r",
        "3292000\r",
        "3293000\r",
        "3294000\r",
        "3295000\r",
        "3296000\r",
        "3297000\r",
        "3298000\r",
        "3299000"
       ]
      },
      {
       "output_type": "stream",
       "stream": "stdout",
       "text": [
        "\r",
        "3300000\r",
        "3301000\r",
        "3302000\r",
        "3303000\r",
        "3304000\r",
        "3305000\r",
        "3306000"
       ]
      },
      {
       "output_type": "stream",
       "stream": "stdout",
       "text": [
        "\r",
        "3307000\r",
        "3308000\r",
        "3309000\r",
        "3310000\r",
        "3311000\r",
        "3312000\r",
        "3313000\r",
        "3314000"
       ]
      },
      {
       "output_type": "stream",
       "stream": "stdout",
       "text": [
        "\r",
        "3315000\r",
        "3316000"
       ]
      },
      {
       "output_type": "stream",
       "stream": "stdout",
       "text": [
        "\r",
        "3317000\r",
        "3318000\r",
        "3319000\r",
        "3320000\r",
        "3321000\r",
        "3322000\r",
        "3323000\r",
        "3324000"
       ]
      },
      {
       "output_type": "stream",
       "stream": "stdout",
       "text": [
        "\r",
        "3325000\r",
        "3326000\r",
        "3327000\r",
        "3328000\r",
        "3329000\r",
        "3330000\r",
        "3331000"
       ]
      },
      {
       "output_type": "stream",
       "stream": "stdout",
       "text": [
        "\r",
        "3332000\r",
        "3333000\r",
        "3334000\r",
        "3335000\r",
        "3336000\r",
        "3337000\r",
        "3338000\r",
        "3339000"
       ]
      },
      {
       "output_type": "stream",
       "stream": "stdout",
       "text": [
        "\r",
        "3340000"
       ]
      },
      {
       "output_type": "stream",
       "stream": "stdout",
       "text": [
        "\r",
        "3341000\r",
        "3342000\r",
        "3343000\r",
        "3344000\r",
        "3345000\r",
        "3346000\r",
        "3347000\r",
        "3348000"
       ]
      },
      {
       "output_type": "stream",
       "stream": "stdout",
       "text": [
        "\r",
        "3349000\r",
        "3350000\r",
        "3351000\r",
        "3352000\r",
        "3353000\r",
        "3354000\r",
        "3355000"
       ]
      },
      {
       "output_type": "stream",
       "stream": "stdout",
       "text": [
        "\r",
        "3356000\r",
        "3357000\r",
        "3358000\r",
        "3359000\r",
        "3360000\r",
        "3361000\r",
        "3362000\r",
        "3363000"
       ]
      },
      {
       "output_type": "stream",
       "stream": "stdout",
       "text": [
        "\r",
        "3364000\r",
        "3365000"
       ]
      },
      {
       "output_type": "stream",
       "stream": "stdout",
       "text": [
        "\r",
        "3366000\r",
        "3367000\r",
        "3368000\r",
        "3369000\r",
        "3370000\r",
        "3371000\r",
        "3372000\r",
        "3373000"
       ]
      },
      {
       "output_type": "stream",
       "stream": "stdout",
       "text": [
        "\r",
        "3374000\r",
        "3375000\r",
        "3376000\r",
        "3377000\r",
        "3378000\r",
        "3379000\r",
        "3380000"
       ]
      },
      {
       "output_type": "stream",
       "stream": "stdout",
       "text": [
        "\r",
        "3381000\r",
        "3382000\r",
        "3383000\r",
        "3384000\r",
        "3385000\r",
        "3386000\r",
        "3387000\r",
        "3388000"
       ]
      },
      {
       "output_type": "stream",
       "stream": "stdout",
       "text": [
        "\r",
        "3389000"
       ]
      },
      {
       "output_type": "stream",
       "stream": "stdout",
       "text": [
        "\r",
        "3390000\r",
        "3391000\r",
        "3392000\r",
        "3393000\r",
        "3394000\r",
        "3395000\r",
        "3396000\r",
        "3397000"
       ]
      },
      {
       "output_type": "stream",
       "stream": "stdout",
       "text": [
        "\r",
        "3398000\r",
        "3399000\r",
        "3400000\r",
        "3401000\r",
        "3402000\r",
        "3403000\r",
        "3404000"
       ]
      },
      {
       "output_type": "stream",
       "stream": "stdout",
       "text": [
        "\r",
        "3405000\r",
        "3406000\r",
        "3407000\r",
        "3408000\r",
        "3409000\r",
        "3410000\r",
        "3411000\r",
        "3412000"
       ]
      },
      {
       "output_type": "stream",
       "stream": "stdout",
       "text": [
        "\r",
        "3413000\r",
        "3414000"
       ]
      },
      {
       "output_type": "stream",
       "stream": "stdout",
       "text": [
        "\r",
        "3415000\r",
        "3416000\r",
        "3417000\r",
        "3418000\r",
        "3419000\r",
        "3420000\r",
        "3421000\r",
        "3422000"
       ]
      },
      {
       "output_type": "stream",
       "stream": "stdout",
       "text": [
        "\r",
        "3423000\r",
        "3424000\r",
        "3425000\r",
        "3426000\r",
        "3427000\r",
        "3428000\r",
        "3429000"
       ]
      },
      {
       "output_type": "stream",
       "stream": "stdout",
       "text": [
        "\r",
        "3430000\r",
        "3431000\r",
        "3432000\r",
        "3433000\r",
        "3434000\r",
        "3435000\r",
        "3436000\r",
        "3437000"
       ]
      },
      {
       "output_type": "stream",
       "stream": "stdout",
       "text": [
        "\r",
        "3438000\r",
        "3439000"
       ]
      },
      {
       "output_type": "stream",
       "stream": "stdout",
       "text": [
        "\r",
        "3440000\r",
        "3441000\r",
        "3442000\r",
        "3443000\r",
        "3444000\r",
        "3445000\r",
        "3446000\r",
        "3447000"
       ]
      },
      {
       "output_type": "stream",
       "stream": "stdout",
       "text": [
        "\r",
        "3448000\r",
        "3449000\r",
        "3450000\r",
        "3451000\r",
        "3452000\r",
        "3453000\r",
        "3454000"
       ]
      },
      {
       "output_type": "stream",
       "stream": "stdout",
       "text": [
        "\r",
        "3455000\r",
        "3456000\r",
        "3457000\r",
        "3458000\r",
        "3459000\r",
        "3460000\r",
        "3461000\r",
        "3462000"
       ]
      },
      {
       "output_type": "stream",
       "stream": "stdout",
       "text": [
        "\r",
        "3463000"
       ]
      },
      {
       "output_type": "stream",
       "stream": "stdout",
       "text": [
        "\r",
        "3464000\r",
        "3465000\r",
        "3466000\r",
        "3467000\r",
        "3468000\r",
        "3469000\r",
        "3470000\r",
        "3471000"
       ]
      },
      {
       "output_type": "stream",
       "stream": "stdout",
       "text": [
        "\r",
        "3472000\r",
        "3473000\r",
        "3474000\r",
        "3475000\r",
        "3476000\r",
        "3477000\r",
        "3478000"
       ]
      },
      {
       "output_type": "stream",
       "stream": "stdout",
       "text": [
        "\r",
        "3479000\r",
        "3480000\r",
        "3481000\r",
        "3482000\r",
        "3483000\r",
        "3484000\r",
        "3485000\r",
        "3486000"
       ]
      },
      {
       "output_type": "stream",
       "stream": "stdout",
       "text": [
        "\r",
        "3487000\r",
        "3488000"
       ]
      },
      {
       "output_type": "stream",
       "stream": "stdout",
       "text": [
        "\r",
        "3489000\r",
        "3490000\r",
        "3491000\r",
        "3492000\r",
        "3493000\r",
        "3494000\r",
        "3495000\r",
        "3496000"
       ]
      },
      {
       "output_type": "stream",
       "stream": "stdout",
       "text": [
        "\r",
        "3497000\r",
        "3498000\r",
        "3499000\r",
        "3500000\r",
        "3501000\r",
        "3502000\r",
        "3503000"
       ]
      },
      {
       "output_type": "stream",
       "stream": "stdout",
       "text": [
        "\r",
        "3504000\r",
        "3505000\r",
        "3506000\r",
        "3507000\r",
        "3508000\r",
        "3509000\r",
        "3510000\r",
        "3511000"
       ]
      },
      {
       "output_type": "stream",
       "stream": "stdout",
       "text": [
        "\r",
        "3512000"
       ]
      },
      {
       "output_type": "stream",
       "stream": "stdout",
       "text": [
        "\r",
        "3513000\r",
        "3514000\r",
        "3515000\r",
        "3516000\r",
        "3517000\r",
        "3518000\r",
        "3519000\r",
        "3520000"
       ]
      },
      {
       "output_type": "stream",
       "stream": "stdout",
       "text": [
        "\r",
        "3521000\r",
        "3522000\r",
        "3523000\r",
        "3524000\r",
        "3525000\r",
        "3526000\r",
        "3527000"
       ]
      },
      {
       "output_type": "stream",
       "stream": "stdout",
       "text": [
        "\r",
        "3528000\r",
        "3529000\r",
        "3530000\r",
        "3531000\r",
        "3532000\r",
        "3533000\r",
        "3534000\r",
        "3535000"
       ]
      },
      {
       "output_type": "stream",
       "stream": "stdout",
       "text": [
        "\r",
        "3536000\r",
        "3537000"
       ]
      },
      {
       "output_type": "stream",
       "stream": "stdout",
       "text": [
        "\r",
        "3538000\r",
        "3539000\r",
        "3540000\r",
        "3541000\r",
        "3542000\r",
        "3543000\r",
        "3544000\r",
        "3545000"
       ]
      },
      {
       "output_type": "stream",
       "stream": "stdout",
       "text": [
        "\r",
        "3546000\r",
        "3547000\r",
        "3548000\r",
        "3549000\r",
        "3550000\r",
        "3551000\r",
        "3552000"
       ]
      },
      {
       "output_type": "stream",
       "stream": "stdout",
       "text": [
        "\r",
        "3553000\r",
        "3554000\r",
        "3555000\r",
        "3556000\r",
        "3557000\r",
        "3558000\r",
        "3559000\r",
        "3560000"
       ]
      },
      {
       "output_type": "stream",
       "stream": "stdout",
       "text": [
        "\r",
        "3561000\r",
        "3562000"
       ]
      },
      {
       "output_type": "stream",
       "stream": "stdout",
       "text": [
        "\r",
        "3563000\r",
        "3564000\r",
        "3565000\r",
        "3566000\r",
        "3567000\r",
        "3568000\r",
        "3569000\r",
        "3570000"
       ]
      },
      {
       "output_type": "stream",
       "stream": "stdout",
       "text": [
        "\r",
        "3571000\r",
        "3572000\r",
        "3573000\r",
        "3574000\r",
        "3575000\r",
        "3576000\r",
        "3577000"
       ]
      },
      {
       "output_type": "stream",
       "stream": "stdout",
       "text": [
        "\r",
        "3578000\r",
        "3579000\r",
        "3580000\r",
        "3581000\r",
        "3582000\r",
        "3583000\r",
        "3584000\r",
        "3585000"
       ]
      },
      {
       "output_type": "stream",
       "stream": "stdout",
       "text": [
        "\r",
        "3586000"
       ]
      },
      {
       "output_type": "stream",
       "stream": "stdout",
       "text": [
        "\r",
        "3587000\r",
        "3588000\r",
        "3589000\r",
        "3590000\r",
        "3591000\r",
        "3592000\r",
        "3593000\r",
        "3594000"
       ]
      },
      {
       "output_type": "stream",
       "stream": "stdout",
       "text": [
        "\r",
        "3595000\r",
        "3596000\r",
        "3597000\r",
        "3598000\r",
        "3599000\r",
        "3600000\r",
        "3601000"
       ]
      },
      {
       "output_type": "stream",
       "stream": "stdout",
       "text": [
        "\r",
        "3602000\r",
        "3603000\r",
        "3604000\r",
        "3605000\r",
        "3606000\r",
        "3607000\r",
        "3608000\r",
        "3609000"
       ]
      },
      {
       "output_type": "stream",
       "stream": "stdout",
       "text": [
        "\r",
        "3610000\r",
        "3611000"
       ]
      },
      {
       "output_type": "stream",
       "stream": "stdout",
       "text": [
        "\r",
        "3612000\r",
        "3613000\r",
        "3614000\r",
        "3615000\r",
        "3616000\r",
        "3617000\r",
        "3618000\r",
        "3619000"
       ]
      },
      {
       "output_type": "stream",
       "stream": "stdout",
       "text": [
        "\r",
        "3620000\r",
        "3621000\r",
        "3622000\r",
        "3623000\r",
        "3624000\r",
        "3625000\r",
        "3626000"
       ]
      },
      {
       "output_type": "stream",
       "stream": "stdout",
       "text": [
        "\r",
        "3627000\r",
        "3628000\r",
        "3629000\r",
        "3630000\r",
        "3631000\r",
        "3632000\r",
        "3633000\r",
        "3634000"
       ]
      },
      {
       "output_type": "stream",
       "stream": "stdout",
       "text": [
        "\r",
        "3635000"
       ]
      },
      {
       "output_type": "stream",
       "stream": "stdout",
       "text": [
        "\r",
        "3636000\r",
        "3637000\r",
        "3638000\r",
        "3639000\r",
        "3640000\r",
        "3641000\r",
        "3642000\r",
        "3643000"
       ]
      },
      {
       "output_type": "stream",
       "stream": "stdout",
       "text": [
        "\r",
        "3644000\r",
        "3645000\r",
        "3646000\r",
        "3647000\r",
        "3648000\r",
        "3649000\r",
        "3650000"
       ]
      },
      {
       "output_type": "stream",
       "stream": "stdout",
       "text": [
        "\r",
        "3651000\r",
        "3652000\r",
        "3653000\r",
        "3654000\r",
        "3655000\r",
        "3656000\r",
        "3657000\r",
        "3658000"
       ]
      },
      {
       "output_type": "stream",
       "stream": "stdout",
       "text": [
        "\r",
        "3659000"
       ]
      },
      {
       "output_type": "stream",
       "stream": "stdout",
       "text": [
        "\r",
        "3660000\r",
        "3661000\r",
        "3662000\r",
        "3663000\r",
        "3664000\r",
        "3665000\r",
        "3666000\r",
        "3667000"
       ]
      },
      {
       "output_type": "stream",
       "stream": "stdout",
       "text": [
        "\r",
        "3668000\r",
        "3669000\r",
        "3670000\r",
        "3671000\r",
        "3672000\r",
        "3673000\r",
        "3674000"
       ]
      },
      {
       "output_type": "stream",
       "stream": "stdout",
       "text": [
        "\r",
        "3675000\r",
        "3676000\r",
        "3677000\r",
        "3678000\r",
        "3679000\r",
        "3680000\r",
        "3681000\r",
        "3682000"
       ]
      },
      {
       "output_type": "stream",
       "stream": "stdout",
       "text": [
        "\r",
        "3683000\r",
        "3684000"
       ]
      },
      {
       "output_type": "stream",
       "stream": "stdout",
       "text": [
        "\r",
        "3685000\r",
        "3686000\r",
        "3687000\r",
        "3688000\r",
        "3689000\r",
        "3690000\r",
        "3691000\r",
        "3692000"
       ]
      },
      {
       "output_type": "stream",
       "stream": "stdout",
       "text": [
        "\r",
        "3693000\r",
        "3694000\r",
        "3695000\r",
        "3696000\r",
        "3697000\r",
        "3698000\r",
        "3699000"
       ]
      },
      {
       "output_type": "stream",
       "stream": "stdout",
       "text": [
        "\r",
        "3700000\r",
        "3701000\r",
        "3702000\r",
        "3703000\r",
        "3704000\r",
        "3705000\r",
        "3706000\r",
        "3707000"
       ]
      },
      {
       "output_type": "stream",
       "stream": "stdout",
       "text": [
        "\r",
        "3708000"
       ]
      },
      {
       "output_type": "stream",
       "stream": "stdout",
       "text": [
        "\r",
        "3709000\r",
        "3710000\r",
        "3711000\r",
        "3712000\r",
        "3713000\r",
        "3714000\r",
        "3715000\r",
        "3716000"
       ]
      },
      {
       "output_type": "stream",
       "stream": "stdout",
       "text": [
        "\r",
        "3717000\r",
        "3718000\r",
        "3719000\r",
        "3720000\r",
        "3721000\r",
        "3722000\r",
        "3723000"
       ]
      },
      {
       "output_type": "stream",
       "stream": "stdout",
       "text": [
        "\r",
        "3724000\r",
        "3725000\r",
        "3726000\r",
        "3727000\r",
        "3728000\r",
        "3729000\r",
        "3730000\r",
        "3731000"
       ]
      },
      {
       "output_type": "stream",
       "stream": "stdout",
       "text": [
        "\r",
        "3732000\r",
        "3733000"
       ]
      },
      {
       "output_type": "stream",
       "stream": "stdout",
       "text": [
        "\r",
        "3734000\r",
        "3735000\r",
        "3736000\r",
        "3737000\r",
        "3738000\r",
        "3739000\r",
        "3740000\r",
        "3741000"
       ]
      },
      {
       "output_type": "stream",
       "stream": "stdout",
       "text": [
        "\r",
        "3742000\r",
        "3743000\r",
        "3744000\r",
        "3745000\r",
        "3746000\r",
        "3747000\r",
        "3748000"
       ]
      },
      {
       "output_type": "stream",
       "stream": "stdout",
       "text": [
        "\r",
        "3749000\r",
        "3750000\r",
        "3751000\r",
        "3752000\r",
        "3753000\r",
        "3754000\r",
        "3755000\r",
        "3756000"
       ]
      },
      {
       "output_type": "stream",
       "stream": "stdout",
       "text": [
        "\r",
        "3757000"
       ]
      },
      {
       "output_type": "stream",
       "stream": "stdout",
       "text": [
        "\r",
        "3758000\r",
        "3759000\r",
        "3760000\r",
        "3761000\r",
        "3762000\r",
        "3763000\r",
        "3764000\r",
        "3765000"
       ]
      },
      {
       "output_type": "stream",
       "stream": "stdout",
       "text": [
        "\r",
        "3766000\r",
        "3767000\r",
        "3768000\r",
        "3769000\r",
        "3770000\r",
        "3771000\r",
        "3772000"
       ]
      },
      {
       "output_type": "stream",
       "stream": "stdout",
       "text": [
        "\r",
        "3773000\r",
        "3774000\r",
        "3775000\r",
        "3776000\r",
        "3777000\r",
        "3778000\r",
        "3779000\r",
        "3780000"
       ]
      },
      {
       "output_type": "stream",
       "stream": "stdout",
       "text": [
        "\r",
        "3781000\r",
        "3782000"
       ]
      },
      {
       "output_type": "stream",
       "stream": "stdout",
       "text": [
        "\r",
        "3783000\r",
        "3784000\r",
        "3785000\r",
        "3786000\r",
        "3787000\r",
        "3788000\r",
        "3789000\r",
        "3790000"
       ]
      },
      {
       "output_type": "stream",
       "stream": "stdout",
       "text": [
        "\r",
        "3791000\r",
        "3792000\r",
        "3793000\r",
        "3794000\r",
        "3795000\r",
        "3796000\r",
        "3797000"
       ]
      },
      {
       "output_type": "stream",
       "stream": "stdout",
       "text": [
        "\r",
        "3798000\r",
        "3799000\r",
        "3800000\r",
        "3801000\r",
        "3802000\r",
        "3803000\r",
        "3804000\r",
        "3805000"
       ]
      },
      {
       "output_type": "stream",
       "stream": "stdout",
       "text": [
        "\r",
        "3806000"
       ]
      },
      {
       "output_type": "stream",
       "stream": "stdout",
       "text": [
        "\r",
        "3807000\r",
        "3808000\r",
        "3809000\r",
        "3810000\r",
        "3811000\r",
        "3812000\r",
        "3813000\r",
        "3814000"
       ]
      },
      {
       "output_type": "stream",
       "stream": "stdout",
       "text": [
        "\r",
        "3815000\r",
        "3816000\r",
        "3817000\r",
        "3818000\r",
        "3819000\r",
        "3820000\r",
        "3821000"
       ]
      },
      {
       "output_type": "stream",
       "stream": "stdout",
       "text": [
        "\r",
        "3822000\r",
        "3823000\r",
        "3824000\r",
        "3825000\r",
        "3826000\r",
        "3827000\r",
        "3828000\r",
        "3829000"
       ]
      },
      {
       "output_type": "stream",
       "stream": "stdout",
       "text": [
        "\r",
        "3830000\r",
        "3831000"
       ]
      },
      {
       "output_type": "stream",
       "stream": "stdout",
       "text": [
        "\r",
        "3832000\r",
        "3833000\r",
        "3834000\r",
        "3835000\r",
        "3836000\r",
        "3837000\r",
        "3838000\r",
        "3839000"
       ]
      },
      {
       "output_type": "stream",
       "stream": "stdout",
       "text": [
        "\r",
        "3840000\r",
        "3841000\r",
        "3842000\r",
        "3843000\r",
        "3844000\r",
        "3845000\r",
        "3846000"
       ]
      },
      {
       "output_type": "stream",
       "stream": "stdout",
       "text": [
        "\r",
        "3847000\r",
        "3848000\r",
        "3849000\r",
        "3850000\r",
        "3851000\r",
        "3852000\r",
        "3853000\r",
        "3854000"
       ]
      },
      {
       "output_type": "stream",
       "stream": "stdout",
       "text": [
        "\r",
        "3855000"
       ]
      },
      {
       "output_type": "stream",
       "stream": "stdout",
       "text": [
        "\r",
        "3856000\r",
        "3857000\r",
        "3858000\r",
        "3859000\r",
        "3860000\r",
        "3861000\r",
        "3862000\r",
        "3863000"
       ]
      },
      {
       "output_type": "stream",
       "stream": "stdout",
       "text": [
        "\r",
        "3864000\r",
        "3865000\r",
        "3866000\r",
        "3867000\r",
        "3868000\r",
        "3869000"
       ]
      },
      {
       "output_type": "stream",
       "stream": "stdout",
       "text": [
        "\r",
        "3870000\r",
        "3871000\r",
        "3872000\r",
        "3873000\r",
        "3874000\r",
        "3875000\r",
        "3876000"
       ]
      },
      {
       "output_type": "stream",
       "stream": "stdout",
       "text": [
        "\r",
        "3877000\r",
        "3878000\r",
        "3879000\r",
        "3880000"
       ]
      },
      {
       "output_type": "stream",
       "stream": "stdout",
       "text": [
        "\r",
        "3881000\r",
        "3882000\r",
        "3883000\r",
        "3884000\r",
        "3885000\r",
        "3886000\r",
        "3887000\r",
        "3888000"
       ]
      },
      {
       "output_type": "stream",
       "stream": "stdout",
       "text": [
        "\r",
        "3889000\r",
        "3890000\r",
        "3891000\r",
        "3892000\r",
        "3893000\r",
        "3894000"
       ]
      },
      {
       "output_type": "stream",
       "stream": "stdout",
       "text": [
        "\r",
        "3895000\r",
        "3896000\r",
        "3897000\r",
        "3898000\r",
        "3899000\r",
        "3900000\r",
        "3901000\r",
        "3902000"
       ]
      },
      {
       "output_type": "stream",
       "stream": "stdout",
       "text": [
        "\r",
        "3903000\r",
        "3904000"
       ]
      },
      {
       "output_type": "stream",
       "stream": "stdout",
       "text": [
        "\r",
        "3905000\r",
        "3906000\r",
        "3907000\r",
        "3908000\r",
        "3909000\r",
        "3910000\r",
        "3911000\r",
        "3912000"
       ]
      },
      {
       "output_type": "stream",
       "stream": "stdout",
       "text": [
        "\r",
        "3913000\r",
        "3914000\r",
        "3915000\r",
        "3916000\r",
        "3917000\r",
        "3918000\r",
        "3919000"
       ]
      },
      {
       "output_type": "stream",
       "stream": "stdout",
       "text": [
        "\r",
        "3920000\r",
        "3921000\r",
        "3922000\r",
        "3923000\r",
        "3924000\r",
        "3925000\r",
        "3926000\r",
        "3927000"
       ]
      },
      {
       "output_type": "stream",
       "stream": "stdout",
       "text": [
        "\r",
        "3928000\r",
        "3929000"
       ]
      },
      {
       "output_type": "stream",
       "stream": "stdout",
       "text": [
        "\r",
        "3930000\r",
        "3931000\r",
        "3932000\r",
        "3933000\r",
        "3934000\r",
        "3935000\r",
        "3936000"
       ]
      },
      {
       "output_type": "stream",
       "stream": "stdout",
       "text": [
        "\r",
        "3937000\r",
        "3938000\r",
        "3939000\r",
        "3940000\r",
        "3941000\r",
        "3942000\r",
        "3943000"
       ]
      },
      {
       "output_type": "stream",
       "stream": "stdout",
       "text": [
        "\r",
        "3944000\r",
        "3945000\r",
        "3946000\r",
        "3947000\r",
        "3948000\r",
        "3949000\r",
        "3950000"
       ]
      },
      {
       "output_type": "stream",
       "stream": "stdout",
       "text": [
        "\r",
        "3951000\r",
        "3952000\r",
        "3953000"
       ]
      },
      {
       "output_type": "stream",
       "stream": "stdout",
       "text": [
        "\r",
        "3954000\r",
        "3955000\r",
        "3956000\r",
        "3957000\r",
        "3958000\r",
        "3959000\r",
        "3960000"
       ]
      },
      {
       "output_type": "stream",
       "stream": "stdout",
       "text": [
        "\r",
        "3961000\r",
        "3962000\r",
        "3963000\r",
        "3964000\r",
        "3965000\r",
        "3966000\r",
        "3967000"
       ]
      },
      {
       "output_type": "stream",
       "stream": "stdout",
       "text": [
        "\r",
        "3968000\r",
        "3969000\r",
        "3970000\r",
        "3971000\r",
        "3972000\r",
        "3973000\r",
        "3974000"
       ]
      },
      {
       "output_type": "stream",
       "stream": "stdout",
       "text": [
        "\r",
        "3975000\r",
        "3976000\r",
        "3977000\r",
        "3978000"
       ]
      },
      {
       "output_type": "stream",
       "stream": "stdout",
       "text": [
        "\r",
        "3979000\r",
        "3980000\r",
        "3981000\r",
        "3982000\r",
        "3983000\r",
        "3984000\r",
        "3985000"
       ]
      },
      {
       "output_type": "stream",
       "stream": "stdout",
       "text": [
        "\r",
        "3986000\r",
        "3987000\r",
        "3988000\r",
        "3989000\r",
        "3990000\r",
        "3991000"
       ]
      },
      {
       "output_type": "stream",
       "stream": "stdout",
       "text": [
        "\r",
        "3992000\r",
        "3993000\r",
        "3994000\r",
        "3995000\r",
        "3996000\r",
        "3997000\r",
        "3998000"
       ]
      },
      {
       "output_type": "stream",
       "stream": "stdout",
       "text": [
        "\r",
        "3999000\r",
        "4000000\r",
        "4001000\r",
        "4002000"
       ]
      },
      {
       "output_type": "stream",
       "stream": "stdout",
       "text": [
        "\r",
        "4003000\r",
        "4004000\r",
        "4005000\r",
        "4006000\r",
        "4007000\r",
        "4008000\r",
        "4009000"
       ]
      },
      {
       "output_type": "stream",
       "stream": "stdout",
       "text": [
        "\r",
        "4010000\r",
        "4011000\r",
        "4012000\r",
        "4013000\r",
        "4014000\r",
        "4015000\r",
        "4016000"
       ]
      },
      {
       "output_type": "stream",
       "stream": "stdout",
       "text": [
        "\r",
        "4017000\r",
        "4018000\r",
        "4019000\r",
        "4020000\r",
        "4021000\r",
        "4022000\r",
        "4023000"
       ]
      },
      {
       "output_type": "stream",
       "stream": "stdout",
       "text": [
        "\r",
        "4024000\r",
        "4025000\r",
        "4026000\r",
        "4027000"
       ]
      },
      {
       "output_type": "stream",
       "stream": "stdout",
       "text": [
        "\r",
        "4028000\r",
        "4029000\r",
        "4030000\r",
        "4031000\r",
        "4032000\r",
        "4033000\r",
        "4034000"
       ]
      },
      {
       "output_type": "stream",
       "stream": "stdout",
       "text": [
        "\r",
        "4035000\r",
        "4036000\r",
        "4037000\r",
        "4038000\r",
        "4039000\r",
        "4040000\r",
        "4041000"
       ]
      },
      {
       "output_type": "stream",
       "stream": "stdout",
       "text": [
        "\r",
        "4042000\r",
        "4043000\r",
        "4044000\r",
        "4045000\r",
        "4046000\r",
        "4047000\r",
        "4048000"
       ]
      },
      {
       "output_type": "stream",
       "stream": "stdout",
       "text": [
        "\r",
        "4049000\r",
        "4050000\r",
        "4051000"
       ]
      },
      {
       "output_type": "stream",
       "stream": "stdout",
       "text": [
        "\r",
        "4052000\r",
        "4053000\r",
        "4054000\r",
        "4055000\r",
        "4056000\r",
        "4057000\r",
        "4058000"
       ]
      },
      {
       "output_type": "stream",
       "stream": "stdout",
       "text": [
        "\r",
        "4059000\r",
        "4060000\r",
        "4061000\r",
        "4062000\r",
        "4063000\r",
        "4064000\r",
        "4065000"
       ]
      },
      {
       "output_type": "stream",
       "stream": "stdout",
       "text": [
        "\r",
        "4066000\r",
        "4067000\r",
        "4068000\r",
        "4069000\r",
        "4070000\r",
        "4071000\r",
        "4072000"
       ]
      },
      {
       "output_type": "stream",
       "stream": "stdout",
       "text": [
        "\r",
        "4073000\r",
        "4074000\r",
        "4075000\r",
        "4076000"
       ]
      },
      {
       "output_type": "stream",
       "stream": "stdout",
       "text": [
        "\r",
        "4077000\r",
        "4078000\r",
        "4079000\r",
        "4080000\r",
        "4081000\r",
        "4082000\r",
        "4083000\r",
        "4084000"
       ]
      },
      {
       "output_type": "stream",
       "stream": "stdout",
       "text": [
        "\r",
        "4085000\r",
        "4086000\r",
        "4087000\r",
        "4088000\r",
        "4089000\r",
        "4090000\r",
        "4091000"
       ]
      },
      {
       "output_type": "stream",
       "stream": "stdout",
       "text": [
        "\r",
        "4092000\r",
        "4093000\r",
        "4094000\r",
        "4095000\r",
        "4096000\r",
        "4097000\r",
        "4098000\r",
        "4099000"
       ]
      },
      {
       "output_type": "stream",
       "stream": "stdout",
       "text": [
        "\r",
        "4100000"
       ]
      },
      {
       "output_type": "stream",
       "stream": "stdout",
       "text": [
        "\r",
        "4101000\r",
        "4102000\r",
        "4103000\r",
        "4104000\r",
        "4105000\r",
        "4106000\r",
        "4107000\r",
        "4108000"
       ]
      },
      {
       "output_type": "stream",
       "stream": "stdout",
       "text": [
        "\r",
        "4109000\r",
        "4110000\r",
        "4111000\r",
        "4112000\r",
        "4113000\r",
        "4114000\r",
        "4115000"
       ]
      },
      {
       "output_type": "stream",
       "stream": "stdout",
       "text": [
        "\r",
        "4116000\r",
        "4117000\r",
        "4118000\r",
        "4119000\r",
        "4120000\r",
        "4121000\r",
        "4122000\r",
        "4123000"
       ]
      },
      {
       "output_type": "stream",
       "stream": "stdout",
       "text": [
        "\r",
        "4124000\r",
        "4125000"
       ]
      },
      {
       "output_type": "stream",
       "stream": "stdout",
       "text": [
        "\r",
        "4126000\r",
        "4127000\r",
        "4128000\r",
        "4129000\r",
        "4130000\r",
        "4131000\r",
        "4132000"
       ]
      },
      {
       "output_type": "stream",
       "stream": "stdout",
       "text": [
        "\r",
        "4133000\r",
        "4134000\r",
        "4135000\r",
        "4136000\r",
        "4137000\r",
        "4138000\r",
        "4139000"
       ]
      },
      {
       "output_type": "stream",
       "stream": "stdout",
       "text": [
        "\r",
        "4140000\r",
        "4141000\r",
        "4142000\r",
        "4143000\r",
        "4144000\r",
        "4145000\r",
        "4146000"
       ]
      },
      {
       "output_type": "stream",
       "stream": "stdout",
       "text": [
        "\r",
        "4147000\r",
        "4148000\r",
        "4149000"
       ]
      },
      {
       "output_type": "stream",
       "stream": "stdout",
       "text": [
        "\r",
        "4150000\r",
        "4151000\r",
        "4152000\r",
        "4153000\r",
        "4154000\r",
        "4155000\r",
        "4156000"
       ]
      },
      {
       "output_type": "stream",
       "stream": "stdout",
       "text": [
        "\r",
        "4157000\r",
        "4158000\r",
        "4159000\r",
        "4160000\r",
        "4161000\r",
        "4162000\r",
        "4163000"
       ]
      },
      {
       "output_type": "stream",
       "stream": "stdout",
       "text": [
        "\r",
        "4164000\r",
        "4165000\r",
        "4166000\r",
        "4167000\r",
        "4168000\r",
        "4169000\r",
        "4170000\r",
        "4171000"
       ]
      },
      {
       "output_type": "stream",
       "stream": "stdout",
       "text": [
        "\r",
        "4172000\r",
        "4173000\r",
        "4174000"
       ]
      },
      {
       "output_type": "stream",
       "stream": "stdout",
       "text": [
        "\r",
        "4175000\r",
        "4176000\r",
        "4177000\r",
        "4178000\r",
        "4179000\r",
        "4180000\r",
        "4181000\r",
        "4182000"
       ]
      },
      {
       "output_type": "stream",
       "stream": "stdout",
       "text": [
        "\r",
        "4183000\r",
        "4184000\r",
        "4185000\r",
        "4186000\r",
        "4187000\r",
        "4188000\r",
        "4189000"
       ]
      },
      {
       "output_type": "stream",
       "stream": "stdout",
       "text": [
        "\r",
        "4190000\r",
        "4191000\r",
        "4192000\r",
        "4193000\r",
        "4194000\r",
        "4195000\r",
        "4196000\r",
        "4197000"
       ]
      },
      {
       "output_type": "stream",
       "stream": "stdout",
       "text": [
        "\r",
        "4198000"
       ]
      },
      {
       "output_type": "stream",
       "stream": "stdout",
       "text": [
        "\r",
        "4199000\r",
        "4200000\r",
        "4201000\r",
        "4202000\r",
        "4203000\r",
        "4204000\r",
        "4205000\r",
        "4206000"
       ]
      },
      {
       "output_type": "stream",
       "stream": "stdout",
       "text": [
        "\r",
        "4207000\r",
        "4208000\r",
        "4209000\r",
        "4210000\r",
        "4211000\r",
        "4212000\r",
        "4213000"
       ]
      },
      {
       "output_type": "stream",
       "stream": "stdout",
       "text": [
        "\r",
        "4214000\r",
        "4215000\r",
        "4216000\r",
        "4217000\r",
        "4218000\r",
        "4219000\r",
        "4220000\r",
        "4221000"
       ]
      },
      {
       "output_type": "stream",
       "stream": "stdout",
       "text": [
        "\r",
        "4222000\r",
        "4223000"
       ]
      },
      {
       "output_type": "stream",
       "stream": "stdout",
       "text": [
        "\r",
        "4224000\r",
        "4225000\r",
        "4226000\r",
        "4227000\r",
        "4228000\r",
        "4229000\r",
        "4230000\r",
        "4231000"
       ]
      },
      {
       "output_type": "stream",
       "stream": "stdout",
       "text": [
        "\r",
        "4232000\r",
        "4233000\r",
        "4234000\r",
        "4235000\r",
        "4236000\r",
        "4237000\r",
        "4238000"
       ]
      },
      {
       "output_type": "stream",
       "stream": "stdout",
       "text": [
        "\r",
        "4239000\r",
        "4240000\r",
        "4241000\r",
        "4242000\r",
        "4243000\r",
        "4244000\r",
        "4245000"
       ]
      },
      {
       "output_type": "stream",
       "stream": "stdout",
       "text": [
        "\r",
        "4246000\r",
        "4247000"
       ]
      },
      {
       "output_type": "stream",
       "stream": "stdout",
       "text": [
        "\r",
        "4248000\r",
        "4249000\r",
        "4250000\r",
        "4251000\r",
        "4252000\r",
        "4253000\r",
        "4254000\r",
        "4255000"
       ]
      },
      {
       "output_type": "stream",
       "stream": "stdout",
       "text": [
        "\r",
        "4256000\r",
        "4257000\r",
        "4258000\r",
        "4259000\r",
        "4260000\r",
        "4261000\r",
        "4262000"
       ]
      },
      {
       "output_type": "stream",
       "stream": "stdout",
       "text": [
        "\r",
        "4263000\r",
        "4264000\r",
        "4265000\r",
        "4266000\r",
        "4267000\r",
        "4268000\r",
        "4269000\r",
        "4270000"
       ]
      },
      {
       "output_type": "stream",
       "stream": "stdout",
       "text": [
        "\r",
        "4271000\r",
        "4272000"
       ]
      },
      {
       "output_type": "stream",
       "stream": "stdout",
       "text": [
        "\r",
        "4273000\r",
        "4274000\r",
        "4275000\r",
        "4276000\r",
        "4277000\r",
        "4278000\r",
        "4279000\r",
        "4280000"
       ]
      },
      {
       "output_type": "stream",
       "stream": "stdout",
       "text": [
        "\r",
        "4281000\r",
        "4282000\r",
        "4283000\r",
        "4284000\r",
        "4285000\r",
        "4286000\r",
        "4287000"
       ]
      },
      {
       "output_type": "stream",
       "stream": "stdout",
       "text": [
        "\r",
        "4288000\r",
        "4289000\r",
        "4290000\r",
        "4291000\r",
        "4292000\r",
        "4293000\r",
        "4294000\r",
        "4295000"
       ]
      },
      {
       "output_type": "stream",
       "stream": "stdout",
       "text": [
        "\r",
        "4296000"
       ]
      },
      {
       "output_type": "stream",
       "stream": "stdout",
       "text": [
        "\r",
        "4297000\r",
        "4298000\r",
        "4299000\r",
        "4300000\r",
        "4301000\r",
        "4302000\r",
        "4303000\r",
        "4304000"
       ]
      },
      {
       "output_type": "stream",
       "stream": "stdout",
       "text": [
        "\r",
        "4305000\r",
        "4306000\r",
        "4307000\r",
        "4308000\r",
        "4309000\r",
        "4310000\r",
        "4311000"
       ]
      },
      {
       "output_type": "stream",
       "stream": "stdout",
       "text": [
        "\r",
        "4312000\r",
        "4313000\r",
        "4314000\r",
        "4315000\r",
        "4316000\r",
        "4317000\r",
        "4318000\r",
        "4319000"
       ]
      },
      {
       "output_type": "stream",
       "stream": "stdout",
       "text": [
        "\r",
        "4320000\r",
        "4321000"
       ]
      },
      {
       "output_type": "stream",
       "stream": "stdout",
       "text": [
        "\r",
        "4322000\r",
        "4323000\r",
        "4324000\r",
        "4325000\r",
        "4326000\r",
        "4327000\r",
        "4328000\r",
        "4329000"
       ]
      },
      {
       "output_type": "stream",
       "stream": "stdout",
       "text": [
        "\r",
        "4330000\r",
        "4331000\r",
        "4332000\r",
        "4333000\r",
        "4334000\r",
        "4335000\r",
        "4336000"
       ]
      },
      {
       "output_type": "stream",
       "stream": "stdout",
       "text": [
        "\r",
        "4337000\r",
        "4338000\r",
        "4339000\r",
        "4340000\r",
        "4341000\r",
        "4342000\r",
        "4343000\r",
        "4344000"
       ]
      },
      {
       "output_type": "stream",
       "stream": "stdout",
       "text": [
        "\r",
        "4345000"
       ]
      },
      {
       "output_type": "stream",
       "stream": "stdout",
       "text": [
        "\r",
        "4346000\r",
        "4347000\r",
        "4348000\r",
        "4349000\r",
        "4350000\r",
        "4351000\r",
        "4352000\r",
        "4353000"
       ]
      },
      {
       "output_type": "stream",
       "stream": "stdout",
       "text": [
        "\r",
        "4354000\r",
        "4355000\r",
        "4356000\r",
        "4357000\r",
        "4358000\r",
        "4359000\r",
        "4360000"
       ]
      },
      {
       "output_type": "stream",
       "stream": "stdout",
       "text": [
        "\r",
        "4361000\r",
        "4362000\r",
        "4363000\r",
        "4364000\r",
        "4365000\r",
        "4366000\r",
        "4367000\r",
        "4368000"
       ]
      },
      {
       "output_type": "stream",
       "stream": "stdout",
       "text": [
        "\r",
        "4369000\r",
        "4370000"
       ]
      },
      {
       "output_type": "stream",
       "stream": "stdout",
       "text": [
        "\r",
        "4371000\r",
        "4372000\r",
        "4373000\r",
        "4374000\r",
        "4375000\r",
        "4376000\r",
        "4377000\r",
        "4378000"
       ]
      },
      {
       "output_type": "stream",
       "stream": "stdout",
       "text": [
        "\r",
        "4379000\r",
        "4380000\r",
        "4381000\r",
        "4382000\r",
        "4383000\r",
        "4384000\r",
        "4385000"
       ]
      },
      {
       "output_type": "stream",
       "stream": "stdout",
       "text": [
        "\r",
        "4386000\r",
        "4387000\r",
        "4388000\r",
        "4389000\r",
        "4390000\r",
        "4391000\r",
        "4392000\r",
        "4393000"
       ]
      },
      {
       "output_type": "stream",
       "stream": "stdout",
       "text": [
        "\r",
        "4394000"
       ]
      },
      {
       "output_type": "stream",
       "stream": "stdout",
       "text": [
        "\r",
        "4395000\r",
        "4396000\r",
        "4397000\r",
        "4398000\r",
        "4399000\r",
        "4400000\r",
        "4401000\r",
        "4402000"
       ]
      },
      {
       "output_type": "stream",
       "stream": "stdout",
       "text": [
        "\r",
        "4403000\r",
        "4404000\r",
        "4405000\r",
        "4406000\r",
        "4407000\r",
        "4408000\r",
        "4409000"
       ]
      },
      {
       "output_type": "stream",
       "stream": "stdout",
       "text": [
        "\r",
        "4410000\r",
        "4411000\r",
        "4412000\r",
        "4413000\r",
        "4414000\r",
        "4415000"
       ]
      },
      {
       "output_type": "stream",
       "stream": "stdout",
       "text": [
        "\r",
        "4416000\r",
        "4417000\r",
        "4418000\r",
        "4419000"
       ]
      },
      {
       "output_type": "stream",
       "stream": "stdout",
       "text": [
        "\r",
        "4420000\r",
        "4421000\r",
        "4422000\r",
        "4423000\r",
        "4424000\r",
        "4425000\r",
        "4426000\r",
        "4427000"
       ]
      },
      {
       "output_type": "stream",
       "stream": "stdout",
       "text": [
        "\r",
        "4428000\r",
        "4429000\r",
        "4430000\r",
        "4431000\r",
        "4432000\r",
        "4433000\r",
        "4434000"
       ]
      },
      {
       "output_type": "stream",
       "stream": "stdout",
       "text": [
        "\r",
        "4435000\r",
        "4436000\r",
        "4437000\r",
        "4438000\r",
        "4439000\r",
        "4440000\r",
        "4441000\r",
        "4442000"
       ]
      },
      {
       "output_type": "stream",
       "stream": "stdout",
       "text": [
        "\r",
        "4443000"
       ]
      },
      {
       "output_type": "stream",
       "stream": "stdout",
       "text": [
        "\r",
        "4444000\r",
        "4445000\r",
        "4446000\r",
        "4447000\r",
        "4448000\r",
        "4449000\r",
        "4450000\r",
        "4451000"
       ]
      },
      {
       "output_type": "stream",
       "stream": "stdout",
       "text": [
        "\r",
        "4452000\r",
        "4453000\r",
        "4454000\r",
        "4455000\r",
        "4456000"
       ]
      },
      {
       "output_type": "stream",
       "stream": "stdout",
       "text": [
        "\r",
        "4457000\r",
        "4458000\r",
        "4459000\r",
        "4460000\r",
        "4461000\r",
        "4462000\r",
        "4463000\r",
        "4464000"
       ]
      },
      {
       "output_type": "stream",
       "stream": "stdout",
       "text": [
        "\r",
        "4465000\r",
        "4466000\r",
        "4467000\r",
        "4468000"
       ]
      },
      {
       "output_type": "stream",
       "stream": "stdout",
       "text": [
        "\r",
        "4469000\r",
        "4470000\r",
        "4471000\r",
        "4472000\r",
        "4473000\r",
        "4474000\r",
        "4475000\r",
        "4476000"
       ]
      },
      {
       "output_type": "stream",
       "stream": "stdout",
       "text": [
        "\r",
        "4477000\r",
        "4478000\r",
        "4479000\r",
        "4480000\r",
        "4481000\r",
        "4482000\r",
        "4483000"
       ]
      },
      {
       "output_type": "stream",
       "stream": "stdout",
       "text": [
        "\r",
        "4484000\r",
        "4485000\r",
        "4486000\r",
        "4487000\r",
        "4488000\r",
        "4489000\r",
        "4490000\r",
        "4491000"
       ]
      },
      {
       "output_type": "stream",
       "stream": "stdout",
       "text": [
        "\r",
        "4492000"
       ]
      },
      {
       "output_type": "stream",
       "stream": "stdout",
       "text": [
        "\r",
        "4493000\r",
        "4494000\r",
        "4495000\r",
        "4496000\r",
        "4497000\r",
        "4498000"
       ]
      },
      {
       "output_type": "stream",
       "stream": "stdout",
       "text": [
        "\r",
        "4499000\r",
        "4500000\r",
        "4501000\r",
        "4502000\r",
        "4503000\r",
        "4504000\r",
        "4505000"
       ]
      },
      {
       "output_type": "stream",
       "stream": "stdout",
       "text": [
        "\r",
        "4506000\r",
        "4507000\r",
        "4508000\r",
        "4509000\r",
        "4510000\r",
        "4511000\r",
        "4512000\r",
        "4513000"
       ]
      },
      {
       "output_type": "stream",
       "stream": "stdout",
       "text": [
        "\r",
        "4514000\r",
        "4515000\r",
        "4516000\r",
        "4517000"
       ]
      },
      {
       "output_type": "stream",
       "stream": "stdout",
       "text": [
        "\r",
        "4518000\r",
        "4519000\r",
        "4520000\r",
        "4521000\r",
        "4522000\r",
        "4523000\r",
        "4524000\r",
        "4525000"
       ]
      },
      {
       "output_type": "stream",
       "stream": "stdout",
       "text": [
        "\r",
        "4526000\r",
        "4527000\r",
        "4528000\r",
        "4529000\r",
        "4530000\r",
        "4531000\r",
        "4532000"
       ]
      },
      {
       "output_type": "stream",
       "stream": "stdout",
       "text": [
        "\r",
        "4533000\r",
        "4534000\r",
        "4535000\r",
        "4536000\r",
        "4537000\r",
        "4538000\r",
        "4539000\r",
        "4540000"
       ]
      },
      {
       "output_type": "stream",
       "stream": "stdout",
       "text": [
        "\r",
        "4541000\r",
        "4542000"
       ]
      },
      {
       "output_type": "stream",
       "stream": "stdout",
       "text": [
        "\r",
        "4543000\r",
        "4544000\r",
        "4545000\r",
        "4546000\r",
        "4547000\r",
        "4548000\r",
        "4549000\r",
        "4550000"
       ]
      },
      {
       "output_type": "stream",
       "stream": "stdout",
       "text": [
        "\r",
        "4551000\r",
        "4552000\r",
        "4553000\r",
        "4554000\r",
        "4555000\r",
        "4556000\r",
        "4557000"
       ]
      },
      {
       "output_type": "stream",
       "stream": "stdout",
       "text": [
        "\r",
        "4558000\r",
        "4559000\r",
        "4560000\r",
        "4561000\r",
        "4562000\r",
        "4563000\r",
        "4564000\r",
        "4565000"
       ]
      },
      {
       "output_type": "stream",
       "stream": "stdout",
       "text": [
        "\r",
        "4566000"
       ]
      },
      {
       "output_type": "stream",
       "stream": "stdout",
       "text": [
        "\r",
        "4567000\r",
        "4568000\r",
        "4569000\r",
        "4570000\r",
        "4571000\r",
        "4572000\r",
        "4573000\r",
        "4574000"
       ]
      },
      {
       "output_type": "stream",
       "stream": "stdout",
       "text": [
        "\r",
        "4575000\r",
        "4576000\r",
        "4577000\r",
        "4578000\r",
        "4579000\r",
        "4580000\r",
        "4581000"
       ]
      },
      {
       "output_type": "stream",
       "stream": "stdout",
       "text": [
        "\r",
        "4582000\r",
        "4583000\r",
        "4584000\r",
        "4585000\r",
        "4586000\r",
        "4587000\r",
        "4588000\r",
        "4589000"
       ]
      },
      {
       "output_type": "stream",
       "stream": "stdout",
       "text": [
        "\r",
        "4590000\r",
        "4591000"
       ]
      },
      {
       "output_type": "stream",
       "stream": "stdout",
       "text": [
        "\r",
        "4592000\r",
        "4593000\r",
        "4594000\r",
        "4595000\r",
        "4596000\r",
        "4597000\r",
        "4598000\r",
        "4599000"
       ]
      },
      {
       "output_type": "stream",
       "stream": "stdout",
       "text": [
        "\r",
        "4600000\r",
        "4601000\r",
        "4602000\r",
        "4603000\r",
        "4604000\r",
        "4605000\r",
        "4606000"
       ]
      },
      {
       "output_type": "stream",
       "stream": "stdout",
       "text": [
        "\r",
        "4607000\r",
        "4608000\r",
        "4609000\r",
        "4610000\r",
        "4611000\r",
        "4612000\r",
        "4613000"
       ]
      },
      {
       "output_type": "stream",
       "stream": "stdout",
       "text": [
        "\r",
        "4614000\r",
        "4615000\r",
        "4616000"
       ]
      },
      {
       "output_type": "stream",
       "stream": "stdout",
       "text": [
        "\r",
        "4617000\r",
        "4618000\r",
        "4619000\r",
        "4620000\r",
        "4621000\r",
        "4622000\r",
        "4623000\r",
        "4624000"
       ]
      },
      {
       "output_type": "stream",
       "stream": "stdout",
       "text": [
        "\r",
        "4625000\r",
        "4626000\r",
        "4627000\r",
        "4628000\r",
        "4629000\r",
        "4630000"
       ]
      },
      {
       "output_type": "stream",
       "stream": "stdout",
       "text": [
        "\r",
        "4631000\r",
        "4632000\r",
        "4633000\r",
        "4634000\r",
        "4635000\r",
        "4636000\r",
        "4637000"
       ]
      },
      {
       "output_type": "stream",
       "stream": "stdout",
       "text": [
        "\r",
        "4638000\r",
        "4639000\r",
        "4640000"
       ]
      },
      {
       "output_type": "stream",
       "stream": "stdout",
       "text": [
        "\r",
        "4641000\r",
        "4642000\r",
        "4643000\r",
        "4644000\r",
        "4645000\r",
        "4646000"
       ]
      },
      {
       "output_type": "stream",
       "stream": "stdout",
       "text": [
        "\r",
        "4647000\r",
        "4648000\r",
        "4649000\r",
        "4650000\r",
        "4651000\r",
        "4652000\r",
        "4653000"
       ]
      },
      {
       "output_type": "stream",
       "stream": "stdout",
       "text": [
        "\r",
        "4654000\r",
        "4655000\r",
        "4656000\r",
        "4657000\r",
        "4658000\r",
        "4659000\r",
        "4660000\r",
        "4661000"
       ]
      },
      {
       "output_type": "stream",
       "stream": "stdout",
       "text": [
        "\r",
        "4662000\r",
        "4663000\r",
        "4664000"
       ]
      },
      {
       "output_type": "stream",
       "stream": "stdout",
       "text": [
        "\r",
        "4665000\r",
        "4666000\r",
        "4667000\r",
        "4668000\r",
        "4669000\r",
        "4670000\r",
        "4671000\r",
        "4672000"
       ]
      },
      {
       "output_type": "stream",
       "stream": "stdout",
       "text": [
        "\r",
        "4673000\r",
        "4674000\r",
        "4675000\r",
        "4676000\r",
        "4677000\r",
        "4678000\r",
        "4679000"
       ]
      },
      {
       "output_type": "stream",
       "stream": "stdout",
       "text": [
        "\r",
        "4680000\r",
        "4681000\r",
        "4682000\r",
        "4683000\r",
        "4684000\r",
        "4685000\r",
        "4686000\r",
        "4687000"
       ]
      },
      {
       "output_type": "stream",
       "stream": "stdout",
       "text": [
        "\r",
        "4688000\r",
        "4689000"
       ]
      },
      {
       "output_type": "stream",
       "stream": "stdout",
       "text": [
        "\r",
        "4690000\r",
        "4691000\r",
        "4692000\r",
        "4693000\r",
        "4694000\r",
        "4695000\r",
        "4696000\r",
        "4697000"
       ]
      },
      {
       "output_type": "stream",
       "stream": "stdout",
       "text": [
        "\r",
        "4698000\r",
        "4699000\r",
        "4700000\r",
        "4701000\r",
        "4702000\r",
        "4703000\r",
        "4704000"
       ]
      },
      {
       "output_type": "stream",
       "stream": "stdout",
       "text": [
        "\r",
        "4705000\r",
        "4706000\r",
        "4707000\r",
        "4708000\r",
        "4709000\r",
        "4710000\r",
        "4711000"
       ]
      },
      {
       "output_type": "stream",
       "stream": "stdout",
       "text": [
        "\r",
        "4712000\r",
        "4713000"
       ]
      },
      {
       "output_type": "stream",
       "stream": "stdout",
       "text": [
        "\r",
        "4714000\r",
        "4715000\r",
        "4716000\r",
        "4717000\r",
        "4718000\r",
        "4719000\r",
        "4720000"
       ]
      },
      {
       "output_type": "stream",
       "stream": "stdout",
       "text": [
        "\r",
        "4721000\r",
        "4722000\r",
        "4723000\r",
        "4724000\r",
        "4725000"
       ]
      },
      {
       "output_type": "stream",
       "stream": "stdout",
       "text": [
        "\r",
        "4726000\r",
        "4727000\r",
        "4728000\r",
        "4729000\r",
        "4730000"
       ]
      },
      {
       "output_type": "stream",
       "stream": "stdout",
       "text": [
        "\r",
        "4731000\r",
        "4732000\r",
        "4733000\r",
        "4734000\r",
        "4735000\r",
        "4736000\r",
        "4737000\r",
        "4738000"
       ]
      },
      {
       "output_type": "stream",
       "stream": "stdout",
       "text": [
        "\r",
        "4739000\r",
        "4740000\r",
        "4741000\r",
        "4742000\r",
        "4743000\r",
        "4744000\r",
        "4745000\r",
        "4746000"
       ]
      },
      {
       "output_type": "stream",
       "stream": "stdout",
       "text": [
        "\r",
        "4747000\r",
        "4748000\r",
        "4749000\r",
        "4750000\r",
        "4751000\r",
        "4752000\r",
        "4753000"
       ]
      },
      {
       "output_type": "stream",
       "stream": "stdout",
       "text": [
        "\r",
        "4754000\r",
        "4755000\r",
        "4756000\r",
        "4757000\r",
        "4758000\r",
        "4759000\r",
        "4760000\r",
        "4761000"
       ]
      },
      {
       "output_type": "stream",
       "stream": "stdout",
       "text": [
        "\r",
        "4762000"
       ]
      },
      {
       "output_type": "stream",
       "stream": "stdout",
       "text": [
        "\r",
        "4763000\r",
        "4764000\r",
        "4765000\r",
        "4766000\r",
        "4767000\r",
        "4768000\r",
        "4769000\r",
        "4770000"
       ]
      },
      {
       "output_type": "stream",
       "stream": "stdout",
       "text": [
        "\r",
        "4771000\r",
        "4772000\r",
        "4773000\r",
        "4774000\r",
        "4775000\r",
        "4776000\r",
        "4777000"
       ]
      },
      {
       "output_type": "stream",
       "stream": "stdout",
       "text": [
        "\r",
        "4778000\r",
        "4779000\r",
        "4780000\r",
        "4781000\r",
        "4782000\r",
        "4783000\r",
        "4784000"
       ]
      },
      {
       "output_type": "stream",
       "stream": "stdout",
       "text": [
        "\r",
        "4785000\r",
        "4786000\r",
        "4787000"
       ]
      },
      {
       "output_type": "stream",
       "stream": "stdout",
       "text": [
        "\r",
        "4788000\r",
        "4789000\r",
        "4790000\r",
        "4791000\r",
        "4792000\r",
        "4793000\r",
        "4794000"
       ]
      },
      {
       "output_type": "stream",
       "stream": "stdout",
       "text": [
        "\r",
        "4795000\r",
        "4796000\r",
        "4797000\r",
        "4798000\r",
        "4799000\r",
        "4800000"
       ]
      },
      {
       "output_type": "stream",
       "stream": "stdout",
       "text": [
        "\r",
        "4801000\r",
        "4802000\r",
        "4803000\r",
        "4804000\r",
        "4805000\r",
        "4806000\r",
        "4807000"
       ]
      },
      {
       "output_type": "stream",
       "stream": "stdout",
       "text": [
        "\r",
        "4808000\r",
        "4809000\r",
        "4810000\r",
        "4811000\r",
        "4812000"
       ]
      },
      {
       "output_type": "stream",
       "stream": "stdout",
       "text": [
        "\r",
        "4813000\r",
        "4814000\r",
        "4815000\r",
        "4816000\r",
        "4817000\r",
        "4818000\r",
        "4819000\r",
        "4820000"
       ]
      },
      {
       "output_type": "stream",
       "stream": "stdout",
       "text": [
        "\r",
        "4821000\r",
        "4822000\r",
        "4823000\r",
        "4824000\r",
        "4825000\r",
        "4826000\r",
        "4827000"
       ]
      },
      {
       "output_type": "stream",
       "stream": "stdout",
       "text": [
        "\r",
        "4828000\r",
        "4829000\r",
        "4830000\r",
        "4831000\r",
        "4832000\r",
        "4833000\r",
        "4834000\r",
        "4835000"
       ]
      },
      {
       "output_type": "stream",
       "stream": "stdout",
       "text": [
        "\r",
        "4836000"
       ]
      },
      {
       "output_type": "stream",
       "stream": "stdout",
       "text": [
        "\r",
        "4837000\r",
        "4838000\r",
        "4839000\r",
        "4840000\r",
        "4841000\r",
        "4842000\r",
        "4843000\r",
        "4844000"
       ]
      },
      {
       "output_type": "stream",
       "stream": "stdout",
       "text": [
        "\r",
        "4845000\r",
        "4846000\r",
        "4847000\r",
        "4848000\r",
        "4849000\r",
        "4850000\r",
        "4851000"
       ]
      },
      {
       "output_type": "stream",
       "stream": "stdout",
       "text": [
        "\r",
        "4852000\r",
        "4853000\r",
        "4854000\r",
        "4855000\r",
        "4856000\r",
        "4857000\r",
        "4858000\r",
        "4859000"
       ]
      },
      {
       "output_type": "stream",
       "stream": "stdout",
       "text": [
        "\r",
        "4860000\r",
        "4861000"
       ]
      },
      {
       "output_type": "stream",
       "stream": "stdout",
       "text": [
        "\r",
        "4862000\r",
        "4863000\r",
        "4864000\r",
        "4865000\r",
        "4866000\r",
        "4867000\r",
        "4868000\r",
        "4869000"
       ]
      },
      {
       "output_type": "stream",
       "stream": "stdout",
       "text": [
        "\r",
        "4870000\r",
        "4871000\r",
        "4872000\r",
        "4873000\r",
        "4874000\r",
        "4875000\r",
        "4876000"
       ]
      },
      {
       "output_type": "stream",
       "stream": "stdout",
       "text": [
        "\r",
        "4877000\r",
        "4878000\r",
        "4879000\r",
        "4880000\r",
        "4881000\r",
        "4882000\r",
        "4883000\r",
        "4884000"
       ]
      },
      {
       "output_type": "stream",
       "stream": "stdout",
       "text": [
        "\r",
        "4885000"
       ]
      },
      {
       "output_type": "stream",
       "stream": "stdout",
       "text": [
        "\r",
        "4886000\r",
        "4887000\r",
        "4888000\r",
        "4889000\r",
        "4890000\r",
        "4891000\r",
        "4892000\r",
        "4893000"
       ]
      },
      {
       "output_type": "stream",
       "stream": "stdout",
       "text": [
        "\r",
        "4894000\r",
        "4895000\r",
        "4896000\r",
        "4897000\r",
        "4898000\r",
        "4899000\r",
        "4900000"
       ]
      },
      {
       "output_type": "stream",
       "stream": "stdout",
       "text": [
        "\r",
        "4901000\r",
        "4902000\r",
        "4903000\r",
        "4904000\r",
        "4905000\r",
        "4906000\r",
        "4907000\r",
        "4908000"
       ]
      },
      {
       "output_type": "stream",
       "stream": "stdout",
       "text": [
        "\r",
        "4909000\r",
        "4910000"
       ]
      },
      {
       "output_type": "stream",
       "stream": "stdout",
       "text": [
        "\r",
        "4911000\r",
        "4912000\r",
        "4913000\r",
        "4914000\r",
        "4915000\r",
        "4916000\r",
        "4917000\r",
        "4918000"
       ]
      },
      {
       "output_type": "stream",
       "stream": "stdout",
       "text": [
        "\r",
        "4919000\r",
        "4920000\r",
        "4921000\r",
        "4922000\r",
        "4923000\r",
        "4924000\r",
        "4925000"
       ]
      },
      {
       "output_type": "stream",
       "stream": "stdout",
       "text": [
        "\r",
        "4926000\r",
        "4927000\r",
        "4928000\r",
        "4929000\r",
        "4930000\r",
        "4931000\r",
        "4932000\r",
        "4933000"
       ]
      },
      {
       "output_type": "stream",
       "stream": "stdout",
       "text": [
        "\r",
        "4934000"
       ]
      },
      {
       "output_type": "stream",
       "stream": "stdout",
       "text": [
        "\r",
        "4935000\r",
        "4936000\r",
        "4937000\r",
        "4938000\r",
        "4939000\r",
        "4940000\r",
        "4941000\r",
        "4942000"
       ]
      },
      {
       "output_type": "stream",
       "stream": "stdout",
       "text": [
        "\r",
        "4943000\r",
        "4944000\r",
        "4945000\r",
        "4946000\r",
        "4947000\r",
        "4948000\r",
        "4949000"
       ]
      },
      {
       "output_type": "stream",
       "stream": "stdout",
       "text": [
        "\r",
        "4950000\r",
        "4951000\r",
        "4952000\r",
        "4953000\r",
        "4954000\r",
        "4955000\r",
        "4956000\r",
        "4957000"
       ]
      },
      {
       "output_type": "stream",
       "stream": "stdout",
       "text": [
        "\r",
        "4958000\r",
        "4959000"
       ]
      },
      {
       "output_type": "stream",
       "stream": "stdout",
       "text": [
        "\r",
        "4960000\r",
        "4961000\r",
        "4962000\r",
        "4963000\r",
        "4964000\r",
        "4965000\r",
        "4966000\r",
        "4967000"
       ]
      },
      {
       "output_type": "stream",
       "stream": "stdout",
       "text": [
        "\r",
        "4968000\r",
        "4969000\r",
        "4970000\r",
        "4971000\r",
        "4972000\r",
        "4973000\r",
        "4974000"
       ]
      },
      {
       "output_type": "stream",
       "stream": "stdout",
       "text": [
        "\r",
        "4975000\r",
        "4976000\r",
        "4977000\r",
        "4978000\r",
        "4979000\r",
        "4980000\r",
        "4981000"
       ]
      },
      {
       "output_type": "stream",
       "stream": "stdout",
       "text": [
        "\r",
        "4982000\r",
        "4983000"
       ]
      },
      {
       "output_type": "stream",
       "stream": "stdout",
       "text": [
        "\r",
        "4984000\r",
        "4985000\r",
        "4986000\r",
        "4987000\r",
        "4988000\r",
        "4989000\r",
        "4990000\r",
        "4991000"
       ]
      },
      {
       "output_type": "stream",
       "stream": "stdout",
       "text": [
        "\r",
        "4992000\r",
        "4993000\r",
        "4994000\r",
        "4995000\r",
        "4996000\r",
        "4997000\r",
        "4998000"
       ]
      },
      {
       "output_type": "stream",
       "stream": "stdout",
       "text": [
        "\r",
        "4999000\r",
        "5000000\r",
        "5001000\r",
        "5002000\r",
        "5003000\r",
        "5004000\r",
        "5005000"
       ]
      },
      {
       "output_type": "stream",
       "stream": "stdout",
       "text": [
        "\r",
        "5006000\r",
        "5007000\r",
        "5008000"
       ]
      },
      {
       "output_type": "stream",
       "stream": "stdout",
       "text": [
        "\r",
        "5009000\r",
        "5010000\r",
        "5011000\r",
        "5012000\r",
        "5013000\r",
        "5014000\r",
        "5015000\r",
        "5016000"
       ]
      },
      {
       "output_type": "stream",
       "stream": "stdout",
       "text": [
        "\r",
        "5017000\r",
        "5018000\r",
        "5019000\r",
        "5020000\r",
        "5021000\r",
        "5022000\r",
        "5023000"
       ]
      },
      {
       "output_type": "stream",
       "stream": "stdout",
       "text": [
        "\r",
        "5024000\r",
        "5025000\r",
        "5026000\r",
        "5027000\r",
        "5028000\r",
        "5029000\r",
        "5030000\r",
        "5031000"
       ]
      },
      {
       "output_type": "stream",
       "stream": "stdout",
       "text": [
        "\r",
        "5032000"
       ]
      },
      {
       "output_type": "stream",
       "stream": "stdout",
       "text": [
        "\r",
        "5033000\r",
        "5034000\r",
        "5035000\r",
        "5036000\r",
        "5037000\r",
        "5038000\r",
        "5039000"
       ]
      },
      {
       "output_type": "stream",
       "stream": "stdout",
       "text": [
        "\r",
        "5040000\r",
        "5041000\r",
        "5042000\r",
        "5043000\r",
        "5044000\r",
        "5045000\r",
        "5046000"
       ]
      },
      {
       "output_type": "stream",
       "stream": "stdout",
       "text": [
        "\r",
        "5047000\r",
        "5048000\r",
        "5049000\r",
        "5050000\r",
        "5051000\r",
        "5052000\r",
        "5053000\r",
        "5054000"
       ]
      },
      {
       "output_type": "stream",
       "stream": "stdout",
       "text": [
        "\r",
        "5055000\r",
        "5056000\r",
        "5057000"
       ]
      },
      {
       "output_type": "stream",
       "stream": "stdout",
       "text": [
        "\r",
        "5058000\r",
        "5059000\r",
        "5060000\r",
        "5061000\r",
        "5062000\r",
        "5063000\r",
        "5064000\r",
        "5065000"
       ]
      },
      {
       "output_type": "stream",
       "stream": "stdout",
       "text": [
        "\r",
        "5066000\r",
        "5067000\r",
        "5068000\r",
        "5069000\r",
        "5070000\r",
        "5071000\r",
        "5072000"
       ]
      },
      {
       "output_type": "stream",
       "stream": "stdout",
       "text": [
        "\r",
        "5073000\r",
        "5074000\r",
        "5075000\r",
        "5076000\r",
        "5077000\r",
        "5078000\r",
        "5079000\r",
        "5080000"
       ]
      },
      {
       "output_type": "stream",
       "stream": "stdout",
       "text": [
        "\r",
        "5081000"
       ]
      },
      {
       "output_type": "stream",
       "stream": "stdout",
       "text": [
        "\r",
        "5082000\r",
        "5083000\r",
        "5084000\r",
        "5085000\r",
        "5086000\r",
        "5087000\r",
        "5088000"
       ]
      },
      {
       "output_type": "stream",
       "stream": "stdout",
       "text": [
        "\r",
        "5089000\r",
        "5090000\r",
        "5091000\r",
        "5092000\r",
        "5093000\r",
        "5094000\r",
        "5095000"
       ]
      },
      {
       "output_type": "stream",
       "stream": "stdout",
       "text": [
        "\r",
        "5096000\r",
        "5097000\r",
        "5098000\r",
        "5099000\r",
        "5100000\r",
        "5101000\r",
        "5102000\r",
        "5103000"
       ]
      },
      {
       "output_type": "stream",
       "stream": "stdout",
       "text": [
        "\r",
        "5104000\r",
        "5105000\r",
        "5106000"
       ]
      },
      {
       "output_type": "stream",
       "stream": "stdout",
       "text": [
        "\r",
        "5107000\r",
        "5108000\r",
        "5109000\r",
        "5110000\r",
        "5111000\r",
        "5112000\r",
        "5113000"
       ]
      },
      {
       "output_type": "stream",
       "stream": "stdout",
       "text": [
        "\r",
        "5114000\r",
        "5115000\r",
        "5116000\r",
        "5117000\r",
        "5118000\r",
        "5119000\r",
        "5120000"
       ]
      },
      {
       "output_type": "stream",
       "stream": "stdout",
       "text": [
        "\r",
        "5121000\r",
        "5122000\r",
        "5123000\r",
        "5124000\r",
        "5125000\r",
        "5126000\r",
        "5127000"
       ]
      },
      {
       "output_type": "stream",
       "stream": "stdout",
       "text": [
        "\r",
        "5128000\r",
        "5129000\r",
        "5130000"
       ]
      },
      {
       "output_type": "stream",
       "stream": "stdout",
       "text": [
        "\r",
        "5131000\r",
        "5132000\r",
        "5133000\r",
        "5134000\r",
        "5135000\r",
        "5136000\r",
        "5137000"
       ]
      },
      {
       "output_type": "stream",
       "stream": "stdout",
       "text": [
        "\r",
        "5138000\r",
        "5139000\r",
        "5140000\r",
        "5141000\r",
        "5142000\r",
        "5143000\r",
        "5144000"
       ]
      },
      {
       "output_type": "stream",
       "stream": "stdout",
       "text": [
        "\r",
        "5145000\r",
        "5146000\r",
        "5147000\r",
        "5148000\r",
        "5149000\r",
        "5150000\r",
        "5151000"
       ]
      },
      {
       "output_type": "stream",
       "stream": "stdout",
       "text": [
        "\r",
        "5152000\r",
        "5153000\r",
        "5154000\r",
        "5155000"
       ]
      },
      {
       "output_type": "stream",
       "stream": "stdout",
       "text": [
        "\r",
        "5156000\r",
        "5157000\r",
        "5158000\r",
        "5159000\r",
        "5160000\r",
        "5161000\r",
        "5162000\r",
        "5163000"
       ]
      },
      {
       "output_type": "stream",
       "stream": "stdout",
       "text": [
        "\r",
        "5164000\r",
        "5165000\r",
        "5166000\r",
        "5167000\r",
        "5168000\r",
        "5169000\r",
        "5170000"
       ]
      },
      {
       "output_type": "stream",
       "stream": "stdout",
       "text": [
        "\r",
        "5171000\r",
        "5172000\r",
        "5173000\r",
        "5174000\r",
        "5175000\r",
        "5176000\r",
        "5177000"
       ]
      },
      {
       "output_type": "stream",
       "stream": "stdout",
       "text": [
        "\r",
        "5178000\r",
        "5179000\r",
        "5180000"
       ]
      },
      {
       "output_type": "stream",
       "stream": "stdout",
       "text": [
        "\r",
        "5181000\r",
        "5182000\r",
        "5183000\r",
        "5184000\r",
        "5185000\r",
        "5186000\r",
        "5187000\r",
        "5188000"
       ]
      },
      {
       "output_type": "stream",
       "stream": "stdout",
       "text": [
        "\r",
        "5189000\r",
        "5190000\r",
        "5191000\r",
        "5192000\r",
        "5193000\r",
        "5194000\r",
        "5195000"
       ]
      },
      {
       "output_type": "stream",
       "stream": "stdout",
       "text": [
        "\r",
        "5196000\r",
        "5197000\r",
        "5198000\r",
        "5199000\r",
        "5200000\r",
        "5201000\r",
        "5202000"
       ]
      },
      {
       "output_type": "stream",
       "stream": "stdout",
       "text": [
        "\r",
        "5203000\r",
        "5204000"
       ]
      },
      {
       "output_type": "stream",
       "stream": "stdout",
       "text": [
        "\r",
        "5205000\r",
        "5206000\r",
        "5207000\r",
        "5208000\r",
        "5209000\r",
        "5210000\r",
        "5211000"
       ]
      },
      {
       "output_type": "stream",
       "stream": "stdout",
       "text": [
        "\r",
        "5212000\r",
        "5213000\r",
        "5214000\r",
        "5215000\r",
        "5216000\r",
        "5217000\r",
        "5218000"
       ]
      },
      {
       "output_type": "stream",
       "stream": "stdout",
       "text": [
        "\r",
        "5219000\r",
        "5220000\r",
        "5221000\r",
        "5222000\r",
        "5223000\r",
        "5224000\r",
        "5225000"
       ]
      },
      {
       "output_type": "stream",
       "stream": "stdout",
       "text": [
        "\r",
        "5226000\r",
        "5227000\r",
        "5228000\r",
        "5229000"
       ]
      },
      {
       "output_type": "stream",
       "stream": "stdout",
       "text": [
        "\r",
        "5230000\r",
        "5231000\r",
        "5232000\r",
        "5233000\r",
        "5234000\r",
        "5235000\r",
        "5236000"
       ]
      },
      {
       "output_type": "stream",
       "stream": "stdout",
       "text": [
        "\r",
        "5237000\r",
        "5238000\r",
        "5239000\r",
        "5240000\r",
        "5241000\r",
        "5242000\r",
        "5243000"
       ]
      },
      {
       "output_type": "stream",
       "stream": "stdout",
       "text": [
        "\r",
        "5244000\r",
        "5245000\r",
        "5246000\r",
        "5247000\r",
        "5248000\r",
        "5249000\r",
        "5250000"
       ]
      },
      {
       "output_type": "stream",
       "stream": "stdout",
       "text": [
        "\r",
        "5251000\r",
        "5252000\r",
        "5253000\r",
        "5254000"
       ]
      },
      {
       "output_type": "stream",
       "stream": "stdout",
       "text": [
        "\r",
        "5255000\r",
        "5256000\r",
        "5257000\r",
        "5258000\r",
        "5259000\r",
        "5260000\r",
        "5261000"
       ]
      },
      {
       "output_type": "stream",
       "stream": "stdout",
       "text": [
        "\r",
        "5262000\r",
        "5263000\r",
        "5264000\r",
        "5265000\r",
        "5266000\r",
        "5267000\r",
        "5268000"
       ]
      },
      {
       "output_type": "stream",
       "stream": "stdout",
       "text": [
        "\r",
        "5269000\r",
        "5270000\r",
        "5271000\r",
        "5272000\r",
        "5273000\r",
        "5274000\r",
        "5275000"
       ]
      },
      {
       "output_type": "stream",
       "stream": "stdout",
       "text": [
        "\r",
        "5276000\r",
        "5277000\r",
        "5278000"
       ]
      },
      {
       "output_type": "stream",
       "stream": "stdout",
       "text": [
        "\r",
        "5279000\r",
        "5280000\r",
        "5281000\r",
        "5282000\r",
        "5283000\r",
        "5284000\r",
        "5285000\r",
        "5286000"
       ]
      },
      {
       "output_type": "stream",
       "stream": "stdout",
       "text": [
        "\r",
        "5287000\r",
        "5288000\r",
        "5289000\r",
        "5290000\r",
        "5291000\r",
        "5292000\r",
        "5293000"
       ]
      },
      {
       "output_type": "stream",
       "stream": "stdout",
       "text": [
        "\r",
        "5294000\r",
        "5295000\r",
        "5296000\r",
        "5297000\r",
        "5298000\r",
        "5299000\r",
        "5300000\r",
        "5301000"
       ]
      },
      {
       "output_type": "stream",
       "stream": "stdout",
       "text": [
        "\r",
        "5302000\r",
        "5303000"
       ]
      },
      {
       "output_type": "stream",
       "stream": "stdout",
       "text": [
        "\r",
        "5304000\r",
        "5305000\r",
        "5306000\r",
        "5307000\r",
        "5308000\r",
        "5309000\r",
        "5310000\r",
        "5311000"
       ]
      },
      {
       "output_type": "stream",
       "stream": "stdout",
       "text": [
        "\r",
        "5312000\r",
        "5313000\r",
        "5314000\r",
        "5315000\r",
        "5316000\r",
        "5317000\r",
        "5318000"
       ]
      },
      {
       "output_type": "stream",
       "stream": "stdout",
       "text": [
        "\r",
        "5319000\r",
        "5320000\r",
        "5321000\r",
        "5322000\r",
        "5323000\r",
        "5324000"
       ]
      },
      {
       "output_type": "stream",
       "stream": "stdout",
       "text": [
        "\r",
        "5325000\r",
        "5326000\r",
        "5327000"
       ]
      },
      {
       "output_type": "stream",
       "stream": "stdout",
       "text": [
        "\r",
        "5328000\r",
        "5329000\r",
        "5330000\r",
        "5331000\r",
        "5332000\r",
        "5333000\r",
        "5334000\r",
        "5335000"
       ]
      },
      {
       "output_type": "stream",
       "stream": "stdout",
       "text": [
        "\r",
        "5336000\r",
        "5337000\r",
        "5338000\r",
        "5339000\r",
        "5340000\r",
        "5341000\r",
        "5342000"
       ]
      },
      {
       "output_type": "stream",
       "stream": "stdout",
       "text": [
        "\r",
        "5343000\r",
        "5344000\r",
        "5345000\r",
        "5346000\r",
        "5347000\r",
        "5348000\r",
        "5349000\r",
        "5350000"
       ]
      },
      {
       "output_type": "stream",
       "stream": "stdout",
       "text": [
        "\r",
        "5351000\r",
        "5352000"
       ]
      },
      {
       "output_type": "stream",
       "stream": "stdout",
       "text": [
        "\r",
        "5353000\r",
        "5354000\r",
        "5355000\r",
        "5356000\r",
        "5357000\r",
        "5358000\r",
        "5359000\r",
        "5360000"
       ]
      },
      {
       "output_type": "stream",
       "stream": "stdout",
       "text": [
        "\r",
        "5361000\r",
        "5362000\r",
        "5363000\r",
        "5364000\r",
        "5365000\r",
        "5366000\r",
        "5367000"
       ]
      },
      {
       "output_type": "stream",
       "stream": "stdout",
       "text": [
        "\r",
        "5368000\r",
        "5369000\r",
        "5370000\r",
        "5371000\r",
        "5372000\r",
        "5373000"
       ]
      },
      {
       "output_type": "stream",
       "stream": "stdout",
       "text": [
        "\r",
        "5374000\r",
        "5375000\r",
        "5376000"
       ]
      },
      {
       "output_type": "stream",
       "stream": "stdout",
       "text": [
        "\r",
        "5377000\r",
        "5378000\r",
        "5379000\r",
        "5380000\r",
        "5381000\r",
        "5382000\r",
        "5383000"
       ]
      },
      {
       "output_type": "stream",
       "stream": "stdout",
       "text": [
        "\r",
        "5384000\r",
        "5385000\r",
        "5386000\r",
        "5387000\r",
        "5388000\r",
        "5389000\r",
        "5390000"
       ]
      },
      {
       "output_type": "stream",
       "stream": "stdout",
       "text": [
        "\r",
        "5391000\r",
        "5392000\r",
        "5393000\r",
        "5394000\r",
        "5395000\r",
        "5396000\r",
        "5397000"
       ]
      },
      {
       "output_type": "stream",
       "stream": "stdout",
       "text": [
        "\r",
        "5398000\r",
        "5399000\r",
        "5400000\r",
        "5401000"
       ]
      },
      {
       "output_type": "stream",
       "stream": "stdout",
       "text": [
        "\r",
        "5402000\r",
        "5403000\r",
        "5404000\r",
        "5405000\r",
        "5406000\r",
        "5407000\r",
        "5408000"
       ]
      },
      {
       "output_type": "stream",
       "stream": "stdout",
       "text": [
        "\r",
        "5409000\r",
        "5410000\r",
        "5411000\r",
        "5412000\r",
        "5413000\r",
        "5414000"
       ]
      },
      {
       "output_type": "stream",
       "stream": "stdout",
       "text": [
        "\r",
        "5415000\r",
        "5416000\r",
        "5417000\r",
        "5418000"
       ]
      },
      {
       "output_type": "stream",
       "stream": "stdout",
       "text": [
        "\r",
        "5419000\r",
        "5420000\r",
        "5421000\r",
        "5422000\r",
        "5423000\r",
        "5424000\r",
        "5425000"
       ]
      },
      {
       "output_type": "stream",
       "stream": "stdout",
       "text": [
        "\r",
        "5426000\r",
        "5427000\r",
        "5428000\r",
        "5429000\r",
        "5430000\r",
        "5431000\r",
        "5432000\r",
        "5433000"
       ]
      },
      {
       "output_type": "stream",
       "stream": "stdout",
       "text": [
        "\r",
        "5434000\r",
        "5435000\r",
        "5436000\r",
        "5437000\r",
        "5438000\r",
        "5439000\r",
        "5440000"
       ]
      },
      {
       "output_type": "stream",
       "stream": "stdout",
       "text": [
        "\r",
        "5441000\r",
        "5442000\r",
        "5443000\r",
        "5444000\r",
        "5445000\r",
        "5446000\r",
        "5447000\r",
        "5448000"
       ]
      },
      {
       "output_type": "stream",
       "stream": "stdout",
       "text": [
        "\r",
        "5449000\r",
        "5450000"
       ]
      },
      {
       "output_type": "stream",
       "stream": "stdout",
       "text": [
        "\r",
        "5451000\r",
        "5452000\r",
        "5453000\r",
        "5454000\r",
        "5455000\r",
        "5456000\r",
        "5457000\r",
        "5458000"
       ]
      },
      {
       "output_type": "stream",
       "stream": "stdout",
       "text": [
        "\r",
        "5459000\r",
        "5460000\r",
        "5461000\r",
        "5462000\r",
        "5463000\r",
        "5464000\r",
        "5465000"
       ]
      },
      {
       "output_type": "stream",
       "stream": "stdout",
       "text": [
        "\r",
        "5466000\r",
        "5467000\r",
        "5468000\r",
        "5469000\r",
        "5470000\r",
        "5471000\r",
        "5472000\r",
        "5473000"
       ]
      },
      {
       "output_type": "stream",
       "stream": "stdout",
       "text": [
        "\r",
        "5474000"
       ]
      },
      {
       "output_type": "stream",
       "stream": "stdout",
       "text": [
        "\r",
        "5475000\r",
        "5476000\r",
        "5477000\r",
        "5478000\r",
        "5479000\r",
        "5480000\r",
        "5481000\r",
        "5482000"
       ]
      },
      {
       "output_type": "stream",
       "stream": "stdout",
       "text": [
        "\r",
        "5483000\r",
        "5484000\r",
        "5485000\r",
        "5486000\r",
        "5487000\r",
        "5488000\r",
        "5489000"
       ]
      },
      {
       "output_type": "stream",
       "stream": "stdout",
       "text": [
        "\r",
        "5490000\r",
        "5491000\r",
        "5492000\r",
        "5493000\r",
        "5494000\r",
        "5495000\r",
        "5496000\r",
        "5497000"
       ]
      },
      {
       "output_type": "stream",
       "stream": "stdout",
       "text": [
        "\r",
        "5498000\r",
        "5499000"
       ]
      },
      {
       "output_type": "stream",
       "stream": "stdout",
       "text": [
        "\r",
        "5500000\r",
        "5501000\r",
        "5502000\r",
        "5503000\r",
        "5504000\r",
        "5505000\r",
        "5506000\r",
        "5507000"
       ]
      },
      {
       "output_type": "stream",
       "stream": "stdout",
       "text": [
        "\r",
        "5508000\r",
        "5509000\r",
        "5510000\r",
        "5511000\r",
        "5512000\r",
        "5513000\r",
        "5514000"
       ]
      },
      {
       "output_type": "stream",
       "stream": "stdout",
       "text": [
        "\r",
        "5515000\r",
        "5516000\r",
        "5517000\r",
        "5518000\r",
        "5519000\r",
        "5520000\r",
        "5521000\r",
        "5522000"
       ]
      },
      {
       "output_type": "stream",
       "stream": "stdout",
       "text": [
        "\r",
        "5523000\r",
        "5524000"
       ]
      },
      {
       "output_type": "stream",
       "stream": "stdout",
       "text": [
        "\r",
        "5525000\r",
        "5526000\r",
        "5527000\r",
        "5528000\r",
        "5529000\r",
        "5530000\r",
        "5531000\r",
        "5532000"
       ]
      },
      {
       "output_type": "stream",
       "stream": "stdout",
       "text": [
        "\r",
        "5533000\r",
        "5534000\r",
        "5535000\r",
        "5536000\r",
        "5537000\r",
        "5538000\r",
        "5539000"
       ]
      },
      {
       "output_type": "stream",
       "stream": "stdout",
       "text": [
        "\r",
        "5540000\r",
        "5541000\r",
        "5542000\r",
        "5543000\r",
        "5544000\r",
        "5545000\r",
        "5546000\r",
        "5547000"
       ]
      },
      {
       "output_type": "stream",
       "stream": "stdout",
       "text": [
        "\r",
        "5548000"
       ]
      },
      {
       "output_type": "stream",
       "stream": "stdout",
       "text": [
        "\r",
        "5549000\r",
        "5550000\r",
        "5551000\r",
        "5552000\r",
        "5553000\r",
        "5554000\r",
        "5555000\r",
        "5556000"
       ]
      },
      {
       "output_type": "stream",
       "stream": "stdout",
       "text": [
        "\r",
        "5557000\r",
        "5558000\r",
        "5559000\r",
        "5560000\r",
        "5561000\r",
        "5562000\r",
        "5563000"
       ]
      },
      {
       "output_type": "stream",
       "stream": "stdout",
       "text": [
        "\r",
        "5564000\r",
        "5565000\r",
        "5566000\r",
        "5567000\r",
        "5568000\r",
        "5569000\r",
        "5570000\r",
        "5571000"
       ]
      },
      {
       "output_type": "stream",
       "stream": "stdout",
       "text": [
        "\r",
        "5572000\r",
        "5573000"
       ]
      },
      {
       "output_type": "stream",
       "stream": "stdout",
       "text": [
        "\r",
        "5574000\r",
        "5575000\r",
        "5576000\r",
        "5577000\r",
        "5578000\r",
        "5579000\r",
        "5580000\r",
        "5581000"
       ]
      },
      {
       "output_type": "stream",
       "stream": "stdout",
       "text": [
        "\r",
        "5582000\r",
        "5583000\r",
        "5584000\r",
        "5585000\r",
        "5586000\r",
        "5587000\r",
        "5588000"
       ]
      },
      {
       "output_type": "stream",
       "stream": "stdout",
       "text": [
        "\r",
        "5589000\r",
        "5590000\r",
        "5591000\r",
        "5592000\r",
        "5593000\r",
        "5594000\r",
        "5595000\r",
        "5596000"
       ]
      },
      {
       "output_type": "stream",
       "stream": "stdout",
       "text": [
        "\r",
        "5597000"
       ]
      },
      {
       "output_type": "stream",
       "stream": "stdout",
       "text": [
        "\r",
        "5598000\r",
        "5599000\r",
        "5600000\r",
        "5601000\r",
        "5602000\r",
        "5603000\r",
        "5604000\r",
        "5605000"
       ]
      },
      {
       "output_type": "stream",
       "stream": "stdout",
       "text": [
        "\r",
        "5606000\r",
        "5607000\r",
        "5608000\r",
        "5609000\r",
        "5610000\r",
        "5611000\r",
        "5612000"
       ]
      },
      {
       "output_type": "stream",
       "stream": "stdout",
       "text": [
        "\r",
        "5613000\r",
        "5614000\r",
        "5615000\r",
        "5616000\r",
        "5617000\r",
        "5618000\r",
        "5619000\r",
        "5620000"
       ]
      },
      {
       "output_type": "stream",
       "stream": "stdout",
       "text": [
        "\r",
        "5621000\r",
        "5622000"
       ]
      },
      {
       "output_type": "stream",
       "stream": "stdout",
       "text": [
        "\r",
        "5623000\r",
        "5624000\r",
        "5625000\r",
        "5626000\r",
        "5627000\r",
        "5628000\r",
        "5629000\r",
        "5630000"
       ]
      },
      {
       "output_type": "stream",
       "stream": "stdout",
       "text": [
        "\r",
        "5631000\r",
        "5632000\r",
        "5633000\r",
        "5634000\r",
        "5635000\r",
        "5636000\r",
        "5637000"
       ]
      },
      {
       "output_type": "stream",
       "stream": "stdout",
       "text": [
        "\r",
        "5638000\r",
        "5639000\r",
        "5640000\r",
        "5641000\r",
        "5642000\r",
        "5643000\r",
        "5644000\r",
        "5645000"
       ]
      },
      {
       "output_type": "stream",
       "stream": "stdout",
       "text": [
        "\r",
        "5646000"
       ]
      },
      {
       "output_type": "stream",
       "stream": "stdout",
       "text": [
        "\r",
        "5647000\r",
        "5648000\r",
        "5649000\r",
        "5650000\r",
        "5651000\r",
        "5652000\r",
        "5653000\r",
        "5654000"
       ]
      },
      {
       "output_type": "stream",
       "stream": "stdout",
       "text": [
        "\r",
        "5655000\r",
        "5656000\r",
        "5657000\r",
        "5658000\r",
        "5659000\r",
        "5660000\r",
        "5661000"
       ]
      },
      {
       "output_type": "stream",
       "stream": "stdout",
       "text": [
        "\r",
        "5662000\r",
        "5663000\r",
        "5664000\r",
        "5665000\r",
        "5666000\r",
        "5667000\r",
        "5668000\r",
        "5669000"
       ]
      },
      {
       "output_type": "stream",
       "stream": "stdout",
       "text": [
        "\r",
        "5670000\r",
        "5671000"
       ]
      },
      {
       "output_type": "stream",
       "stream": "stdout",
       "text": [
        "\r",
        "5672000\r",
        "5673000\r",
        "5674000\r",
        "5675000\r",
        "5676000\r",
        "5677000\r",
        "5678000\r",
        "5679000"
       ]
      },
      {
       "output_type": "stream",
       "stream": "stdout",
       "text": [
        "\r",
        "5680000\r",
        "5681000\r",
        "5682000\r",
        "5683000\r",
        "5684000\r",
        "5685000\r",
        "5686000"
       ]
      },
      {
       "output_type": "stream",
       "stream": "stdout",
       "text": [
        "\r",
        "5687000\r",
        "5688000\r",
        "5689000\r",
        "5690000\r",
        "5691000\r",
        "5692000\r",
        "5693000\r",
        "5694000"
       ]
      },
      {
       "output_type": "stream",
       "stream": "stdout",
       "text": [
        "\r",
        "5695000"
       ]
      },
      {
       "output_type": "stream",
       "stream": "stdout",
       "text": [
        "\r",
        "5696000\r",
        "5697000\r",
        "5698000\r",
        "5699000\r",
        "5700000\r",
        "5701000\r",
        "5702000\r",
        "5703000"
       ]
      },
      {
       "output_type": "stream",
       "stream": "stdout",
       "text": [
        "\r",
        "5704000\r",
        "5705000\r",
        "5706000\r",
        "5707000\r",
        "5708000\r",
        "5709000\r",
        "5710000"
       ]
      },
      {
       "output_type": "stream",
       "stream": "stdout",
       "text": [
        "\r",
        "5711000\r",
        "5712000\r",
        "5713000\r",
        "5714000\r",
        "5715000\r",
        "5716000\r",
        "5717000\r",
        "5718000"
       ]
      },
      {
       "output_type": "stream",
       "stream": "stdout",
       "text": [
        "\r",
        "5719000\r",
        "5720000"
       ]
      },
      {
       "output_type": "stream",
       "stream": "stdout",
       "text": [
        "\r",
        "5721000\r",
        "5722000\r",
        "5723000\r",
        "5724000\r",
        "5725000\r",
        "5726000\r",
        "5727000\r",
        "5728000"
       ]
      },
      {
       "output_type": "stream",
       "stream": "stdout",
       "text": [
        "\r",
        "5729000\r",
        "5730000\r",
        "5731000\r",
        "5732000\r",
        "5733000\r",
        "5734000\r",
        "5735000"
       ]
      },
      {
       "output_type": "stream",
       "stream": "stdout",
       "text": [
        "\r",
        "5736000\r",
        "5737000\r",
        "5738000\r",
        "5739000\r",
        "5740000\r",
        "5741000\r",
        "5742000\r",
        "5743000"
       ]
      },
      {
       "output_type": "stream",
       "stream": "stdout",
       "text": [
        "\r",
        "5744000"
       ]
      },
      {
       "output_type": "stream",
       "stream": "stdout",
       "text": [
        "\r",
        "5745000\r",
        "5746000\r",
        "5747000\r",
        "5748000\r",
        "5749000\r",
        "5750000\r",
        "5751000"
       ]
      },
      {
       "output_type": "stream",
       "stream": "stdout",
       "text": [
        "\r",
        "5752000\r",
        "5753000\r",
        "5754000\r",
        "5755000\r",
        "5756000\r",
        "5757000\r",
        "5758000"
       ]
      },
      {
       "output_type": "stream",
       "stream": "stdout",
       "text": [
        "\r",
        "5759000\r",
        "5760000\r",
        "5761000\r",
        "5762000\r",
        "5763000\r",
        "5764000\r",
        "5765000\r",
        "5766000"
       ]
      },
      {
       "output_type": "stream",
       "stream": "stdout",
       "text": [
        "\r",
        "5767000\r",
        "5768000\r",
        "5769000"
       ]
      },
      {
       "output_type": "stream",
       "stream": "stdout",
       "text": [
        "\r",
        "5770000\r",
        "5771000\r",
        "5772000\r",
        "5773000\r",
        "5774000\r",
        "5775000\r",
        "5776000\r",
        "5777000"
       ]
      },
      {
       "output_type": "stream",
       "stream": "stdout",
       "text": [
        "\r",
        "5778000\r",
        "5779000\r",
        "5780000\r",
        "5781000\r",
        "5782000\r",
        "5783000\r",
        "5784000"
       ]
      },
      {
       "output_type": "stream",
       "stream": "stdout",
       "text": [
        "\r",
        "5785000\r",
        "5786000\r",
        "5787000\r",
        "5788000\r",
        "5789000\r",
        "5790000\r",
        "5791000\r",
        "5792000"
       ]
      },
      {
       "output_type": "stream",
       "stream": "stdout",
       "text": [
        "\r",
        "5793000"
       ]
      },
      {
       "output_type": "stream",
       "stream": "stdout",
       "text": [
        "\r",
        "5794000\r",
        "5795000\r",
        "5796000\r",
        "5797000\r",
        "5798000\r",
        "5799000\r",
        "5800000\r",
        "5801000"
       ]
      },
      {
       "output_type": "stream",
       "stream": "stdout",
       "text": [
        "\r",
        "5802000\r",
        "5803000\r",
        "5804000\r",
        "5805000\r",
        "5806000\r",
        "5807000\r",
        "5808000"
       ]
      },
      {
       "output_type": "stream",
       "stream": "stdout",
       "text": [
        "\r",
        "5809000\r",
        "5810000\r",
        "5811000\r",
        "5812000\r",
        "5813000\r",
        "5814000\r",
        "5815000\r",
        "5816000"
       ]
      },
      {
       "output_type": "stream",
       "stream": "stdout",
       "text": [
        "\r",
        "5817000\r",
        "5818000"
       ]
      },
      {
       "output_type": "stream",
       "stream": "stdout",
       "text": [
        "\r",
        "5819000\r",
        "5820000\r",
        "5821000\r",
        "5822000\r",
        "5823000\r",
        "5824000\r",
        "5825000"
       ]
      },
      {
       "output_type": "stream",
       "stream": "stdout",
       "text": [
        "\r",
        "5826000\r",
        "5827000\r",
        "5828000\r",
        "5829000\r",
        "5830000\r",
        "5831000\r",
        "5832000"
       ]
      },
      {
       "output_type": "stream",
       "stream": "stdout",
       "text": [
        "\r",
        "5833000\r",
        "5834000\r",
        "5835000\r",
        "5836000\r",
        "5837000\r",
        "5838000\r",
        "5839000\r",
        "5840000"
       ]
      },
      {
       "output_type": "stream",
       "stream": "stdout",
       "text": [
        "\r",
        "5841000\r",
        "5842000"
       ]
      },
      {
       "output_type": "stream",
       "stream": "stdout",
       "text": [
        "\r",
        "5843000\r",
        "5844000\r",
        "5845000\r",
        "5846000\r",
        "5847000\r",
        "5848000\r",
        "5849000"
       ]
      },
      {
       "output_type": "stream",
       "stream": "stdout",
       "text": [
        "\r",
        "5850000\r",
        "5851000\r",
        "5852000\r",
        "5853000\r",
        "5854000\r",
        "5855000\r",
        "5856000"
       ]
      },
      {
       "output_type": "stream",
       "stream": "stdout",
       "text": [
        "\r",
        "5857000\r",
        "5858000\r",
        "5859000\r",
        "5860000\r",
        "5861000\r",
        "5862000\r",
        "5863000"
       ]
      },
      {
       "output_type": "stream",
       "stream": "stdout",
       "text": [
        "\r",
        "5864000\r",
        "5865000\r",
        "5866000\r",
        "5867000"
       ]
      },
      {
       "output_type": "stream",
       "stream": "stdout",
       "text": [
        "\r",
        "5868000\r",
        "5869000\r",
        "5870000\r",
        "5871000\r",
        "5872000\r",
        "5873000\r",
        "5874000"
       ]
      },
      {
       "output_type": "stream",
       "stream": "stdout",
       "text": [
        "\r",
        "5875000\r",
        "5876000\r",
        "5877000\r",
        "5878000\r",
        "5879000\r",
        "5880000\r",
        "5881000"
       ]
      },
      {
       "output_type": "stream",
       "stream": "stdout",
       "text": [
        "\r",
        "5882000\r",
        "5883000\r",
        "5884000\r",
        "5885000\r",
        "5886000\r",
        "5887000\r",
        "5888000"
       ]
      },
      {
       "output_type": "stream",
       "stream": "stdout",
       "text": [
        "\r",
        "5889000\r",
        "5890000\r",
        "5891000\r",
        "5892000"
       ]
      },
      {
       "output_type": "stream",
       "stream": "stdout",
       "text": [
        "\r",
        "5893000\r",
        "5894000\r",
        "5895000\r",
        "5896000\r",
        "5897000\r",
        "5898000"
       ]
      },
      {
       "output_type": "stream",
       "stream": "stdout",
       "text": [
        "\r",
        "5899000\r",
        "5900000\r",
        "5901000\r",
        "5902000\r",
        "5903000\r",
        "5904000\r",
        "5905000"
       ]
      },
      {
       "output_type": "stream",
       "stream": "stdout",
       "text": [
        "\r",
        "5906000\r",
        "5907000\r",
        "5908000\r",
        "5909000\r",
        "5910000\r",
        "5911000\r",
        "5912000"
       ]
      },
      {
       "output_type": "stream",
       "stream": "stdout",
       "text": [
        "\r",
        "5913000\r",
        "5914000\r",
        "5915000\r",
        "5916000"
       ]
      },
      {
       "output_type": "stream",
       "stream": "stdout",
       "text": [
        "\r",
        "5917000\r",
        "5918000\r",
        "5919000\r",
        "5920000\r",
        "5921000\r",
        "5922000\r",
        "5923000\r",
        "5924000"
       ]
      },
      {
       "output_type": "stream",
       "stream": "stdout",
       "text": [
        "\r",
        "5925000\r",
        "5926000\r",
        "5927000\r",
        "5928000\r",
        "5929000\r",
        "5930000\r",
        "5931000"
       ]
      },
      {
       "output_type": "stream",
       "stream": "stdout",
       "text": [
        "\r",
        "5932000\r",
        "5933000\r",
        "5934000\r",
        "5935000\r",
        "5936000\r",
        "5937000\r",
        "5938000"
       ]
      },
      {
       "output_type": "stream",
       "stream": "stdout",
       "text": [
        "\r",
        "5939000\r",
        "5940000\r",
        "5941000"
       ]
      },
      {
       "output_type": "stream",
       "stream": "stdout",
       "text": [
        "\r",
        "5942000\r",
        "5943000\r",
        "5944000\r",
        "5945000\r",
        "5946000\r",
        "5947000\r",
        "5948000\r",
        "5949000"
       ]
      },
      {
       "output_type": "stream",
       "stream": "stdout",
       "text": [
        "\r",
        "5950000\r",
        "5951000\r",
        "5952000\r",
        "5953000\r",
        "5954000\r",
        "5955000\r",
        "5956000"
       ]
      },
      {
       "output_type": "stream",
       "stream": "stdout",
       "text": [
        "\r",
        "5957000\r",
        "5958000\r",
        "5959000\r",
        "5960000\r",
        "5961000\r",
        "5962000\r",
        "5963000\r",
        "5964000"
       ]
      },
      {
       "output_type": "stream",
       "stream": "stdout",
       "text": [
        "\r",
        "5965000\r",
        "5966000"
       ]
      },
      {
       "output_type": "stream",
       "stream": "stdout",
       "text": [
        "\r",
        "5967000\r",
        "5968000\r",
        "5969000\r",
        "5970000"
       ]
      },
      {
       "output_type": "stream",
       "stream": "stdout",
       "text": [
        "\r",
        "5971000\r",
        "5972000\r",
        "5973000\r",
        "5974000\r",
        "5975000"
       ]
      },
      {
       "output_type": "stream",
       "stream": "stdout",
       "text": [
        "\r",
        "5976000\r",
        "5977000\r",
        "5978000\r",
        "5979000"
       ]
      },
      {
       "output_type": "stream",
       "stream": "stdout",
       "text": [
        "\r",
        "5980000\r",
        "5981000\r",
        "5982000\r",
        "5983000\r",
        "5984000\r",
        "5985000"
       ]
      },
      {
       "output_type": "stream",
       "stream": "stdout",
       "text": [
        "\r",
        "5986000\r",
        "5987000\r",
        "5988000\r",
        "5989000\r",
        "5990000"
       ]
      },
      {
       "output_type": "stream",
       "stream": "stdout",
       "text": [
        "\r",
        "5991000\r",
        "5992000\r",
        "5993000\r",
        "5994000\r",
        "5995000\r",
        "5996000\r",
        "5997000"
       ]
      },
      {
       "output_type": "stream",
       "stream": "stdout",
       "text": [
        "\r",
        "5998000\r",
        "5999000\r",
        "6000000\r",
        "6001000\r",
        "6002000\r",
        "6003000\r",
        "6004000"
       ]
      },
      {
       "output_type": "stream",
       "stream": "stdout",
       "text": [
        "\r",
        "6005000\r",
        "6006000\r",
        "6007000\r",
        "6008000\r",
        "6009000\r",
        "6010000\r",
        "6011000"
       ]
      },
      {
       "output_type": "stream",
       "stream": "stdout",
       "text": [
        "\r",
        "6012000\r",
        "6013000\r",
        "6014000\r",
        "6015000"
       ]
      },
      {
       "output_type": "stream",
       "stream": "stdout",
       "text": [
        "\r",
        "6016000\r",
        "6017000\r",
        "6018000\r",
        "6019000\r",
        "6020000\r",
        "6021000\r",
        "6022000\r",
        "6023000"
       ]
      },
      {
       "output_type": "stream",
       "stream": "stdout",
       "text": [
        "\r",
        "6024000\r",
        "6025000\r",
        "6026000\r",
        "6027000\r",
        "6028000\r",
        "6029000\r",
        "6030000"
       ]
      },
      {
       "output_type": "stream",
       "stream": "stdout",
       "text": [
        "\r",
        "6031000\r",
        "6032000\r",
        "6033000\r",
        "6034000\r",
        "6035000\r",
        "6036000\r",
        "6037000\r",
        "6038000"
       ]
      },
      {
       "output_type": "stream",
       "stream": "stdout",
       "text": [
        "\r",
        "6039000"
       ]
      },
      {
       "output_type": "stream",
       "stream": "stdout",
       "text": [
        "\r",
        "6040000\r",
        "6041000\r",
        "6042000\r",
        "6043000\r",
        "6044000\r",
        "6045000\r",
        "6046000\r",
        "6047000"
       ]
      },
      {
       "output_type": "stream",
       "stream": "stdout",
       "text": [
        "\r",
        "6048000\r",
        "6049000\r",
        "6050000\r",
        "6051000\r",
        "6052000\r",
        "6053000\r",
        "6054000"
       ]
      },
      {
       "output_type": "stream",
       "stream": "stdout",
       "text": [
        "\r",
        "6055000\r",
        "6056000\r",
        "6057000\r",
        "6058000\r",
        "6059000\r",
        "6060000\r",
        "6061000\r",
        "6062000"
       ]
      },
      {
       "output_type": "stream",
       "stream": "stdout",
       "text": [
        "\r",
        "6063000\r",
        "6064000"
       ]
      },
      {
       "output_type": "stream",
       "stream": "stdout",
       "text": [
        "\r",
        "6065000\r",
        "6066000\r",
        "6067000\r",
        "6068000\r",
        "6069000\r",
        "6070000\r",
        "6071000\r",
        "6072000"
       ]
      },
      {
       "output_type": "stream",
       "stream": "stdout",
       "text": [
        "\r",
        "6073000\r",
        "6074000\r",
        "6075000\r",
        "6076000\r",
        "6077000\r",
        "6078000\r",
        "6079000"
       ]
      },
      {
       "output_type": "stream",
       "stream": "stdout",
       "text": [
        "\r",
        "6080000\r",
        "6081000\r",
        "6082000\r",
        "6083000\r",
        "6084000\r",
        "6085000\r",
        "6086000\r",
        "6087000"
       ]
      },
      {
       "output_type": "stream",
       "stream": "stdout",
       "text": [
        "\r",
        "6088000"
       ]
      },
      {
       "output_type": "stream",
       "stream": "stdout",
       "text": [
        "\r",
        "6089000\r",
        "6090000\r",
        "6091000\r",
        "6092000\r",
        "6093000\r",
        "6094000\r",
        "6095000"
       ]
      },
      {
       "output_type": "stream",
       "stream": "stdout",
       "text": [
        "\r",
        "6096000\r",
        "6097000\r",
        "6098000\r",
        "6099000\r",
        "6100000"
       ]
      },
      {
       "output_type": "stream",
       "stream": "stdout",
       "text": [
        "\r",
        "6101000\r",
        "6102000\r",
        "6103000\r",
        "6104000\r",
        "6105000\r",
        "6106000\r",
        "6107000"
       ]
      },
      {
       "output_type": "stream",
       "stream": "stdout",
       "text": [
        "\r",
        "6108000\r",
        "6109000\r",
        "6110000\r",
        "6111000\r",
        "6112000\r",
        "6113000"
       ]
      },
      {
       "output_type": "stream",
       "stream": "stdout",
       "text": [
        "\r",
        "6114000\r",
        "6115000\r",
        "6116000\r",
        "6117000\r",
        "6118000\r",
        "6119000\r",
        "6120000\r",
        "6121000"
       ]
      },
      {
       "output_type": "stream",
       "stream": "stdout",
       "text": [
        "\r",
        "6122000\r",
        "6123000\r",
        "6124000\r",
        "6125000\r",
        "6126000\r",
        "6127000\r",
        "6128000"
       ]
      },
      {
       "output_type": "stream",
       "stream": "stdout",
       "text": [
        "\r",
        "6129000\r",
        "6130000\r",
        "6131000\r",
        "6132000\r",
        "6133000\r",
        "6134000\r",
        "6135000"
       ]
      },
      {
       "output_type": "stream",
       "stream": "stdout",
       "text": [
        "\r",
        "6136000\r",
        "6137000"
       ]
      },
      {
       "output_type": "stream",
       "stream": "stdout",
       "text": [
        "\r",
        "6138000\r",
        "6139000\r",
        "6140000\r",
        "6141000\r",
        "6142000\r",
        "6143000\r",
        "6144000"
       ]
      },
      {
       "output_type": "stream",
       "stream": "stdout",
       "text": [
        "\r",
        "6145000\r",
        "6146000\r",
        "6147000\r",
        "6148000\r",
        "6149000\r",
        "6150000\r",
        "6151000"
       ]
      },
      {
       "output_type": "stream",
       "stream": "stdout",
       "text": [
        "\r",
        "6152000\r",
        "6153000\r",
        "6154000\r",
        "6155000\r",
        "6156000\r",
        "6157000\r",
        "6158000\r",
        "6159000"
       ]
      },
      {
       "output_type": "stream",
       "stream": "stdout",
       "text": [
        "\r",
        "6160000\r",
        "6161000\r",
        "6162000"
       ]
      },
      {
       "output_type": "stream",
       "stream": "stdout",
       "text": [
        "\r",
        "6163000\r",
        "6164000\r",
        "6165000\r",
        "6166000\r",
        "6167000\r",
        "6168000\r",
        "6169000\r",
        "6170000"
       ]
      },
      {
       "output_type": "stream",
       "stream": "stdout",
       "text": [
        "\r",
        "6171000\r",
        "6172000\r",
        "6173000\r",
        "6174000\r",
        "6175000\r",
        "6176000\r",
        "6177000"
       ]
      },
      {
       "output_type": "stream",
       "stream": "stdout",
       "text": [
        "\r",
        "6178000\r",
        "6179000\r",
        "6180000\r",
        "6181000\r",
        "6182000\r",
        "6183000\r",
        "6184000\r",
        "6185000"
       ]
      },
      {
       "output_type": "stream",
       "stream": "stdout",
       "text": [
        "\r",
        "6186000"
       ]
      },
      {
       "output_type": "stream",
       "stream": "stdout",
       "text": [
        "\r",
        "6187000\r",
        "6188000\r",
        "6189000\r",
        "6190000\r",
        "6191000\r",
        "6192000\r",
        "6193000\r",
        "6194000"
       ]
      },
      {
       "output_type": "stream",
       "stream": "stdout",
       "text": [
        "\r",
        "6195000\r",
        "6196000\r",
        "6197000\r",
        "6198000\r",
        "6199000\r",
        "6200000\r",
        "6201000"
       ]
      },
      {
       "output_type": "stream",
       "stream": "stdout",
       "text": [
        "\r",
        "6202000\r",
        "6203000\r",
        "6204000\r",
        "6205000\r",
        "6206000\r",
        "6207000\r",
        "6208000\r",
        "6209000"
       ]
      },
      {
       "output_type": "stream",
       "stream": "stdout",
       "text": [
        "\r",
        "6210000\r",
        "6211000"
       ]
      },
      {
       "output_type": "stream",
       "stream": "stdout",
       "text": [
        "\r",
        "6212000\r",
        "6213000\r",
        "6214000\r",
        "6215000\r",
        "6216000\r",
        "6217000\r",
        "6218000\r",
        "6219000"
       ]
      },
      {
       "output_type": "stream",
       "stream": "stdout",
       "text": [
        "\r",
        "6220000\r",
        "6221000\r",
        "6222000\r",
        "6223000\r",
        "6224000\r",
        "6225000\r",
        "6226000"
       ]
      },
      {
       "output_type": "stream",
       "stream": "stdout",
       "text": [
        "\r",
        "6227000\r",
        "6228000\r",
        "6229000\r",
        "6230000\r",
        "6231000\r",
        "6232000\r",
        "6233000\r",
        "6234000"
       ]
      },
      {
       "output_type": "stream",
       "stream": "stdout",
       "text": [
        "\r",
        "6235000\r",
        "6236000"
       ]
      },
      {
       "output_type": "stream",
       "stream": "stdout",
       "text": [
        "\r",
        "6237000\r",
        "6238000\r",
        "6239000\r",
        "6240000\r",
        "6241000\r",
        "6242000\r",
        "6243000\r",
        "6244000"
       ]
      },
      {
       "output_type": "stream",
       "stream": "stdout",
       "text": [
        "\r",
        "6245000\r",
        "6246000\r",
        "6247000\r",
        "6248000\r",
        "6249000\r",
        "6250000\r",
        "6251000"
       ]
      },
      {
       "output_type": "stream",
       "stream": "stdout",
       "text": [
        "\r",
        "6252000\r",
        "6253000\r",
        "6254000\r",
        "6255000\r",
        "6256000\r",
        "6257000\r",
        "6258000\r",
        "6259000"
       ]
      },
      {
       "output_type": "stream",
       "stream": "stdout",
       "text": [
        "\r",
        "6260000"
       ]
      },
      {
       "output_type": "stream",
       "stream": "stdout",
       "text": [
        "\r",
        "6261000\r",
        "6262000\r",
        "6263000\r",
        "6264000\r",
        "6265000\r",
        "6266000\r",
        "6267000\r",
        "6268000"
       ]
      },
      {
       "output_type": "stream",
       "stream": "stdout",
       "text": [
        "\r",
        "6269000\r",
        "6270000\r",
        "6271000\r",
        "6272000\r",
        "6273000\r",
        "6274000\r",
        "6275000"
       ]
      },
      {
       "output_type": "stream",
       "stream": "stdout",
       "text": [
        "\r",
        "6276000\r",
        "6277000\r",
        "6278000\r",
        "6279000\r",
        "6280000\r",
        "6281000\r",
        "6282000\r",
        "6283000"
       ]
      },
      {
       "output_type": "stream",
       "stream": "stdout",
       "text": [
        "\r",
        "6284000\r",
        "6285000"
       ]
      },
      {
       "output_type": "stream",
       "stream": "stdout",
       "text": [
        "\r",
        "6286000\r",
        "6287000\r",
        "6288000\r",
        "6289000\r",
        "6290000\r",
        "6291000\r",
        "6292000\r",
        "6293000"
       ]
      },
      {
       "output_type": "stream",
       "stream": "stdout",
       "text": [
        "\r",
        "6294000\r",
        "6295000\r",
        "6296000\r",
        "6297000\r",
        "6298000\r",
        "6299000\r",
        "6300000"
       ]
      },
      {
       "output_type": "stream",
       "stream": "stdout",
       "text": [
        "\r",
        "6301000\r",
        "6302000\r",
        "6303000\r",
        "6304000\r",
        "6305000\r",
        "6306000\r",
        "6307000\r",
        "6308000"
       ]
      },
      {
       "output_type": "stream",
       "stream": "stdout",
       "text": [
        "\r",
        "6309000"
       ]
      },
      {
       "output_type": "stream",
       "stream": "stdout",
       "text": [
        "\r",
        "6310000\r",
        "6311000\r",
        "6312000\r",
        "6313000\r",
        "6314000\r",
        "6315000\r",
        "6316000\r",
        "6317000"
       ]
      },
      {
       "output_type": "stream",
       "stream": "stdout",
       "text": [
        "\r",
        "6318000\r",
        "6319000\r",
        "6320000\r",
        "6321000\r",
        "6322000\r",
        "6323000\r",
        "6324000"
       ]
      },
      {
       "output_type": "stream",
       "stream": "stdout",
       "text": [
        "\r",
        "6325000\r",
        "6326000\r",
        "6327000\r",
        "6328000\r",
        "6329000\r",
        "6330000\r",
        "6331000\r",
        "6332000"
       ]
      },
      {
       "output_type": "stream",
       "stream": "stdout",
       "text": [
        "\r",
        "6333000\r",
        "6334000"
       ]
      },
      {
       "output_type": "stream",
       "stream": "stdout",
       "text": [
        "\r",
        "6335000\r",
        "6336000\r",
        "6337000\r",
        "6338000\r",
        "6339000\r",
        "6340000\r",
        "6341000\r",
        "6342000"
       ]
      },
      {
       "output_type": "stream",
       "stream": "stdout",
       "text": [
        "\r",
        "6343000\r",
        "6344000\r",
        "6345000\r",
        "6346000\r",
        "6347000\r",
        "6348000\r",
        "6349000"
       ]
      },
      {
       "output_type": "stream",
       "stream": "stdout",
       "text": [
        "\r",
        "6350000\r",
        "6351000\r",
        "6352000\r",
        "6353000\r",
        "6354000\r",
        "6355000\r",
        "6356000\r",
        "6357000"
       ]
      },
      {
       "output_type": "stream",
       "stream": "stdout",
       "text": [
        "\r",
        "6358000"
       ]
      },
      {
       "output_type": "stream",
       "stream": "stdout",
       "text": [
        "\r",
        "6359000\r",
        "6360000\r",
        "6361000\r",
        "6362000\r",
        "6363000\r",
        "6364000\r",
        "6365000"
       ]
      },
      {
       "output_type": "stream",
       "stream": "stdout",
       "text": [
        "\r",
        "6366000\r",
        "6367000\r",
        "6368000\r",
        "6369000\r",
        "6370000\r",
        "6371000\r",
        "6372000"
       ]
      },
      {
       "output_type": "stream",
       "stream": "stdout",
       "text": [
        "\r",
        "6373000\r",
        "6374000\r",
        "6375000\r",
        "6376000\r",
        "6377000\r",
        "6378000\r",
        "6379000\r",
        "6380000"
       ]
      },
      {
       "output_type": "stream",
       "stream": "stdout",
       "text": [
        "\r",
        "6381000\r",
        "6382000\r",
        "6383000"
       ]
      },
      {
       "output_type": "stream",
       "stream": "stdout",
       "text": [
        "\r",
        "6384000\r",
        "6385000\r",
        "6386000\r",
        "6387000\r",
        "6388000\r",
        "6389000\r",
        "6390000"
       ]
      },
      {
       "output_type": "stream",
       "stream": "stdout",
       "text": [
        "\r",
        "6391000\r",
        "6392000\r",
        "6393000\r",
        "6394000\r",
        "6395000\r",
        "6396000\r",
        "6397000"
       ]
      },
      {
       "output_type": "stream",
       "stream": "stdout",
       "text": [
        "\r",
        "6398000\r",
        "6399000\r",
        "6400000\r",
        "6401000\r",
        "6402000"
       ]
      },
      {
       "output_type": "stream",
       "stream": "stdout",
       "text": [
        "\r",
        "6403000\r",
        "6404000\r",
        "6405000\r",
        "6406000\r",
        "6407000"
       ]
      },
      {
       "output_type": "stream",
       "stream": "stdout",
       "text": [
        "\r",
        "6408000\r",
        "6409000\r",
        "6410000\r",
        "6411000\r",
        "6412000\r",
        "6413000\r",
        "6414000"
       ]
      },
      {
       "output_type": "stream",
       "stream": "stdout",
       "text": [
        "\r",
        "6415000\r",
        "6416000\r",
        "6417000\r",
        "6418000\r",
        "6419000\r",
        "6420000\r",
        "6421000"
       ]
      },
      {
       "output_type": "stream",
       "stream": "stdout",
       "text": [
        "\r",
        "6422000\r",
        "6423000\r",
        "6424000\r",
        "6425000\r",
        "6426000\r",
        "6427000\r",
        "6428000"
       ]
      },
      {
       "output_type": "stream",
       "stream": "stdout",
       "text": [
        "\r",
        "6429000\r",
        "6430000\r",
        "6431000"
       ]
      },
      {
       "output_type": "stream",
       "stream": "stdout",
       "text": [
        "\r",
        "6432000\r",
        "6433000\r",
        "6434000\r",
        "6435000\r",
        "6436000\r",
        "6437000\r",
        "6438000\r",
        "6439000"
       ]
      },
      {
       "output_type": "stream",
       "stream": "stdout",
       "text": [
        "\r",
        "6440000\r",
        "6441000\r",
        "6442000\r",
        "6443000\r",
        "6444000\r",
        "6445000\r",
        "6446000"
       ]
      },
      {
       "output_type": "stream",
       "stream": "stdout",
       "text": [
        "\r",
        "6447000\r",
        "6448000\r",
        "6449000\r",
        "6450000\r",
        "6451000\r",
        "6452000\r",
        "6453000\r",
        "6454000"
       ]
      },
      {
       "output_type": "stream",
       "stream": "stdout",
       "text": [
        "\r",
        "6455000\r",
        "6456000"
       ]
      },
      {
       "output_type": "stream",
       "stream": "stdout",
       "text": [
        "\r",
        "6457000\r",
        "6458000\r",
        "6459000\r",
        "6460000\r",
        "6461000\r",
        "6462000\r",
        "6463000\r",
        "6464000"
       ]
      },
      {
       "output_type": "stream",
       "stream": "stdout",
       "text": [
        "\r",
        "6465000\r",
        "6466000\r",
        "6467000\r",
        "6468000\r",
        "6469000\r",
        "6470000\r",
        "6471000"
       ]
      },
      {
       "output_type": "stream",
       "stream": "stdout",
       "text": [
        "\r",
        "6472000\r",
        "6473000\r",
        "6474000\r",
        "6475000\r",
        "6476000\r",
        "6477000\r",
        "6478000\r",
        "6479000"
       ]
      },
      {
       "output_type": "stream",
       "stream": "stdout",
       "text": [
        "\r",
        "6480000"
       ]
      },
      {
       "output_type": "stream",
       "stream": "stdout",
       "text": [
        "\r",
        "6481000\r",
        "6482000\r",
        "6483000\r",
        "6484000\r",
        "6485000\r",
        "6486000\r",
        "6487000\r",
        "6488000"
       ]
      },
      {
       "output_type": "stream",
       "stream": "stdout",
       "text": [
        "\r",
        "6489000\r",
        "6490000\r",
        "6491000\r",
        "6492000\r",
        "6493000\r",
        "6494000\r",
        "6495000"
       ]
      },
      {
       "output_type": "stream",
       "stream": "stdout",
       "text": [
        "\r",
        "6496000\r",
        "6497000\r",
        "6498000\r",
        "6499000\r",
        "6500000\r",
        "6501000\r",
        "6502000\r",
        "6503000"
       ]
      },
      {
       "output_type": "stream",
       "stream": "stdout",
       "text": [
        "\r",
        "6504000\r",
        "6505000"
       ]
      },
      {
       "output_type": "stream",
       "stream": "stdout",
       "text": [
        "\r",
        "6506000\r",
        "6507000\r",
        "6508000\r",
        "6509000\r",
        "6510000\r",
        "6511000\r",
        "6512000\r",
        "6513000"
       ]
      },
      {
       "output_type": "stream",
       "stream": "stdout",
       "text": [
        "\r",
        "6514000\r",
        "6515000\r",
        "6516000\r",
        "6517000\r",
        "6518000\r",
        "6519000\r",
        "6520000"
       ]
      },
      {
       "output_type": "stream",
       "stream": "stdout",
       "text": [
        "\r",
        "6521000\r",
        "6522000\r",
        "6523000\r",
        "6524000\r",
        "6525000\r",
        "6526000\r",
        "6527000\r",
        "6528000"
       ]
      },
      {
       "output_type": "stream",
       "stream": "stdout",
       "text": [
        "\r",
        "6529000\r",
        "6530000"
       ]
      },
      {
       "output_type": "stream",
       "stream": "stdout",
       "text": [
        "\r",
        "6531000\r",
        "6532000\r",
        "6533000\r",
        "6534000\r",
        "6535000\r",
        "6536000\r",
        "6537000\r",
        "6538000"
       ]
      },
      {
       "output_type": "stream",
       "stream": "stdout",
       "text": [
        "\r",
        "6539000\r",
        "6540000\r",
        "6541000\r",
        "6542000\r",
        "6543000\r",
        "6544000\r",
        "6545000"
       ]
      },
      {
       "output_type": "stream",
       "stream": "stdout",
       "text": [
        "\r",
        "6546000\r",
        "6547000\r",
        "6548000\r",
        "6549000\r",
        "6550000\r",
        "6551000\r",
        "6552000\r",
        "6553000"
       ]
      },
      {
       "output_type": "stream",
       "stream": "stdout",
       "text": [
        "\r",
        "6554000"
       ]
      },
      {
       "output_type": "stream",
       "stream": "stdout",
       "text": [
        "\r",
        "6555000\r",
        "6556000\r",
        "6557000\r",
        "6558000\r",
        "6559000\r",
        "6560000\r",
        "6561000\r",
        "6562000"
       ]
      },
      {
       "output_type": "stream",
       "stream": "stdout",
       "text": [
        "\r",
        "6563000\r",
        "6564000\r",
        "6565000\r",
        "6566000\r",
        "6567000\r",
        "6568000\r",
        "6569000"
       ]
      },
      {
       "output_type": "stream",
       "stream": "stdout",
       "text": [
        "\r",
        "6570000\r",
        "6571000\r",
        "6572000\r",
        "6573000\r",
        "6574000\r",
        "6575000\r",
        "6576000"
       ]
      },
      {
       "output_type": "stream",
       "stream": "stdout",
       "text": [
        "\r",
        "6577000\r",
        "6578000\r",
        "6579000"
       ]
      },
      {
       "output_type": "stream",
       "stream": "stdout",
       "text": [
        "\r",
        "6580000\r",
        "6581000\r",
        "6582000\r",
        "6583000\r",
        "6584000\r",
        "6585000\r",
        "6586000\r",
        "6587000"
       ]
      },
      {
       "output_type": "stream",
       "stream": "stdout",
       "text": [
        "\r",
        "6588000\r",
        "6589000\r",
        "6590000\r",
        "6591000\r",
        "6592000\r",
        "6593000\r",
        "6594000"
       ]
      },
      {
       "output_type": "stream",
       "stream": "stdout",
       "text": [
        "\r",
        "6595000\r",
        "6596000\r",
        "6597000\r",
        "6598000\r",
        "6599000\r",
        "6600000\r",
        "6601000\r",
        "6602000"
       ]
      },
      {
       "output_type": "stream",
       "stream": "stdout",
       "text": [
        "\r",
        "6603000"
       ]
      },
      {
       "output_type": "stream",
       "stream": "stdout",
       "text": [
        "\r",
        "6604000\r",
        "6605000\r",
        "6606000\r",
        "6607000\r",
        "6608000\r",
        "6609000\r",
        "6610000\r",
        "6611000"
       ]
      },
      {
       "output_type": "stream",
       "stream": "stdout",
       "text": [
        "\r",
        "6612000\r",
        "6613000\r",
        "6614000\r",
        "6615000\r",
        "6616000\r",
        "6617000\r",
        "6618000"
       ]
      },
      {
       "output_type": "stream",
       "stream": "stdout",
       "text": [
        "\r",
        "6619000\r",
        "6620000\r",
        "6621000\r",
        "6622000\r",
        "6623000\r",
        "6624000\r",
        "6625000\r",
        "6626000"
       ]
      },
      {
       "output_type": "stream",
       "stream": "stdout",
       "text": [
        "\r",
        "6627000\r",
        "6628000"
       ]
      },
      {
       "output_type": "stream",
       "stream": "stdout",
       "text": [
        "\r",
        "6629000\r",
        "6630000\r",
        "6631000\r",
        "6632000\r",
        "6633000\r",
        "6634000\r",
        "6635000\r",
        "6636000"
       ]
      },
      {
       "output_type": "stream",
       "stream": "stdout",
       "text": [
        "\r",
        "6637000\r",
        "6638000\r",
        "6639000\r",
        "6640000\r",
        "6641000\r",
        "6642000\r",
        "6643000"
       ]
      },
      {
       "output_type": "stream",
       "stream": "stdout",
       "text": [
        "\r",
        "6644000\r",
        "6645000\r",
        "6646000\r",
        "6647000\r",
        "6648000\r",
        "6649000\r",
        "6650000\r",
        "6651000"
       ]
      },
      {
       "output_type": "stream",
       "stream": "stdout",
       "text": [
        "\r",
        "6652000\r",
        "6653000"
       ]
      },
      {
       "output_type": "stream",
       "stream": "stdout",
       "text": [
        "\r",
        "6654000\r",
        "6655000\r",
        "6656000\r",
        "6657000\r",
        "6658000\r",
        "6659000\r",
        "6660000\r",
        "6661000"
       ]
      },
      {
       "output_type": "stream",
       "stream": "stdout",
       "text": [
        "\r",
        "6662000\r",
        "6663000\r",
        "6664000\r",
        "6665000\r",
        "6666000\r",
        "6667000\r",
        "6668000"
       ]
      },
      {
       "output_type": "stream",
       "stream": "stdout",
       "text": [
        "\r",
        "6669000\r",
        "6670000\r",
        "6671000\r",
        "6672000\r",
        "6673000\r",
        "6674000\r",
        "6675000\r",
        "6676000"
       ]
      },
      {
       "output_type": "stream",
       "stream": "stdout",
       "text": [
        "\r",
        "6677000"
       ]
      },
      {
       "output_type": "stream",
       "stream": "stdout",
       "text": [
        "\r",
        "6678000\r",
        "6679000\r",
        "6680000\r",
        "6681000\r",
        "6682000\r",
        "6683000\r",
        "6684000\r",
        "6685000"
       ]
      },
      {
       "output_type": "stream",
       "stream": "stdout",
       "text": [
        "\r",
        "6686000\r",
        "6687000\r",
        "6688000\r",
        "6689000\r",
        "6690000\r",
        "6691000\r",
        "6692000"
       ]
      },
      {
       "output_type": "stream",
       "stream": "stdout",
       "text": [
        "\r",
        "6693000\r",
        "6694000\r",
        "6695000\r",
        "6696000\r",
        "6697000\r",
        "6698000\r",
        "6699000\r",
        "6700000"
       ]
      },
      {
       "output_type": "stream",
       "stream": "stdout",
       "text": [
        "\r",
        "6701000\r",
        "6702000"
       ]
      },
      {
       "output_type": "stream",
       "stream": "stdout",
       "text": [
        "\r",
        "6703000\r",
        "6704000\r",
        "6705000\r",
        "6706000\r",
        "6707000\r",
        "6708000\r",
        "6709000\r",
        "6710000"
       ]
      },
      {
       "output_type": "stream",
       "stream": "stdout",
       "text": [
        "\r",
        "6711000\r",
        "6712000\r",
        "6713000\r",
        "6714000\r",
        "6715000\r",
        "6716000\r",
        "6717000"
       ]
      },
      {
       "output_type": "stream",
       "stream": "stdout",
       "text": [
        "\r",
        "6718000\r",
        "6719000\r",
        "6720000\r",
        "6721000\r",
        "6722000\r",
        "6723000\r",
        "6724000"
       ]
      },
      {
       "output_type": "stream",
       "stream": "stdout",
       "text": [
        "\r",
        "6725000\r",
        "6726000"
       ]
      },
      {
       "output_type": "stream",
       "stream": "stdout",
       "text": [
        "\r",
        "6727000\r",
        "6728000\r",
        "6729000\r",
        "6730000\r",
        "6731000\r",
        "6732000\r",
        "6733000\r",
        "6734000"
       ]
      },
      {
       "output_type": "stream",
       "stream": "stdout",
       "text": [
        "\r",
        "6735000\r",
        "6736000\r",
        "6737000\r",
        "6738000\r",
        "6739000\r",
        "6740000\r",
        "6741000"
       ]
      },
      {
       "output_type": "stream",
       "stream": "stdout",
       "text": [
        "\r",
        "6742000\r",
        "6743000\r",
        "6744000\r",
        "6745000\r",
        "6746000\r",
        "6747000\r",
        "6748000\r",
        "6749000"
       ]
      },
      {
       "output_type": "stream",
       "stream": "stdout",
       "text": [
        "\r",
        "6750000\r",
        "6751000"
       ]
      },
      {
       "output_type": "stream",
       "stream": "stdout",
       "text": [
        "\r",
        "6752000\r",
        "6753000\r",
        "6754000\r",
        "6755000\r",
        "6756000\r",
        "6757000\r",
        "6758000\r",
        "6759000"
       ]
      },
      {
       "output_type": "stream",
       "stream": "stdout",
       "text": [
        "\r",
        "6760000\r",
        "6761000\r",
        "6762000\r",
        "6763000\r",
        "6764000\r",
        "6765000\r",
        "6766000"
       ]
      },
      {
       "output_type": "stream",
       "stream": "stdout",
       "text": [
        "\r",
        "6767000\r",
        "6768000\r",
        "6769000\r",
        "6770000\r",
        "6771000\r",
        "6772000\r",
        "6773000\r",
        "6774000"
       ]
      },
      {
       "output_type": "stream",
       "stream": "stdout",
       "text": [
        "\r",
        "6775000"
       ]
      },
      {
       "output_type": "stream",
       "stream": "stdout",
       "text": [
        "\r",
        "6776000\r",
        "6777000\r",
        "6778000\r",
        "6779000\r",
        "6780000\r",
        "6781000\r",
        "6782000\r",
        "6783000"
       ]
      },
      {
       "output_type": "stream",
       "stream": "stdout",
       "text": [
        "\r",
        "6784000\r",
        "6785000\r",
        "6786000\r",
        "6787000\r",
        "6788000\r",
        "6789000\r",
        "6790000"
       ]
      },
      {
       "output_type": "stream",
       "stream": "stdout",
       "text": [
        "\r",
        "6791000\r",
        "6792000\r",
        "6793000\r",
        "6794000\r",
        "6795000\r",
        "6796000\r",
        "6797000\r",
        "6798000"
       ]
      },
      {
       "output_type": "stream",
       "stream": "stdout",
       "text": [
        "\r",
        "6799000\r",
        "6800000"
       ]
      },
      {
       "output_type": "stream",
       "stream": "stdout",
       "text": [
        "\r",
        "6801000\r",
        "6802000\r",
        "6803000\r",
        "6804000\r",
        "6805000\r",
        "6806000\r",
        "6807000\r",
        "6808000"
       ]
      },
      {
       "output_type": "stream",
       "stream": "stdout",
       "text": [
        "\r",
        "6809000\r",
        "6810000\r",
        "6811000\r",
        "6812000\r",
        "6813000\r",
        "6814000\r",
        "6815000"
       ]
      },
      {
       "output_type": "stream",
       "stream": "stdout",
       "text": [
        "\r",
        "6816000\r",
        "6817000\r",
        "6818000\r",
        "6819000\r",
        "6820000\r",
        "6821000\r",
        "6822000\r",
        "6823000"
       ]
      },
      {
       "output_type": "stream",
       "stream": "stdout",
       "text": [
        "\r",
        "6824000"
       ]
      },
      {
       "output_type": "stream",
       "stream": "stdout",
       "text": [
        "\r",
        "6825000\r",
        "6826000\r",
        "6827000\r",
        "6828000\r",
        "6829000\r",
        "6830000\r",
        "6831000\r",
        "6832000"
       ]
      },
      {
       "output_type": "stream",
       "stream": "stdout",
       "text": [
        "\r",
        "6833000\r",
        "6834000\r",
        "6835000\r",
        "6836000\r",
        "6837000"
       ]
      },
      {
       "output_type": "stream",
       "stream": "stdout",
       "text": [
        "\r",
        "6838000\r",
        "6839000\r",
        "6840000\r",
        "6841000\r",
        "6842000\r",
        "6843000\r",
        "6844000"
       ]
      },
      {
       "output_type": "stream",
       "stream": "stdout",
       "text": [
        "\r",
        "6845000\r",
        "6846000\r",
        "6847000\r",
        "6848000\r",
        "6849000"
       ]
      },
      {
       "output_type": "stream",
       "stream": "stdout",
       "text": [
        "\r",
        "6850000\r",
        "6851000\r",
        "6852000\r",
        "6853000\r",
        "6854000\r",
        "6855000\r",
        "6856000\r",
        "6857000"
       ]
      },
      {
       "output_type": "stream",
       "stream": "stdout",
       "text": [
        "\r",
        "6858000\r",
        "6859000\r",
        "6860000\r",
        "6861000\r",
        "6862000\r",
        "6863000\r",
        "6864000"
       ]
      },
      {
       "output_type": "stream",
       "stream": "stdout",
       "text": [
        "\r",
        "6865000\r",
        "6866000\r",
        "6867000\r",
        "6868000\r",
        "6869000\r",
        "6870000\r",
        "6871000\r",
        "6872000"
       ]
      },
      {
       "output_type": "stream",
       "stream": "stdout",
       "text": [
        "\r",
        "6873000"
       ]
      },
      {
       "output_type": "stream",
       "stream": "stdout",
       "text": [
        "\r",
        "6874000\r",
        "6875000\r",
        "6876000\r",
        "6877000\r",
        "6878000\r",
        "6879000\r",
        "6880000"
       ]
      },
      {
       "output_type": "stream",
       "stream": "stdout",
       "text": [
        "\r",
        "6881000\r",
        "6882000\r",
        "6883000\r",
        "6884000\r",
        "6885000\r",
        "6886000\r",
        "6887000"
       ]
      },
      {
       "output_type": "stream",
       "stream": "stdout",
       "text": [
        "\r",
        "6888000\r",
        "6889000\r",
        "6890000\r",
        "6891000\r",
        "6892000\r",
        "6893000\r",
        "6894000"
       ]
      },
      {
       "output_type": "stream",
       "stream": "stdout",
       "text": [
        "\r",
        "6895000\r",
        "6896000\r",
        "6897000\r",
        "6898000"
       ]
      },
      {
       "output_type": "stream",
       "stream": "stdout",
       "text": [
        "\r",
        "6899000\r",
        "6900000\r",
        "6901000\r",
        "6902000\r",
        "6903000\r",
        "6904000\r",
        "6905000\r",
        "6906000"
       ]
      },
      {
       "output_type": "stream",
       "stream": "stdout",
       "text": [
        "\r",
        "6907000\r",
        "6908000\r",
        "6909000\r",
        "6910000\r",
        "6911000\r",
        "6912000\r",
        "6913000"
       ]
      },
      {
       "output_type": "stream",
       "stream": "stdout",
       "text": [
        "\r",
        "6914000\r",
        "6915000\r",
        "6916000\r",
        "6917000\r",
        "6918000\r",
        "6919000\r",
        "6920000"
       ]
      },
      {
       "output_type": "stream",
       "stream": "stdout",
       "text": [
        "\r",
        "6921000\r",
        "6922000"
       ]
      },
      {
       "output_type": "stream",
       "stream": "stdout",
       "text": [
        "\r",
        "6923000\r",
        "6924000\r",
        "6925000\r",
        "6926000\r",
        "6927000\r",
        "6928000\r",
        "6929000\r",
        "6930000"
       ]
      },
      {
       "output_type": "stream",
       "stream": "stdout",
       "text": [
        "\r",
        "6931000\r",
        "6932000\r",
        "6933000\r",
        "6934000\r",
        "6935000\r",
        "6936000\r",
        "6937000"
       ]
      },
      {
       "output_type": "stream",
       "stream": "stdout",
       "text": [
        "\r",
        "6938000\r",
        "6939000\r",
        "6940000\r",
        "6941000\r",
        "6942000\r",
        "6943000\r",
        "6944000\r",
        "6945000"
       ]
      },
      {
       "output_type": "stream",
       "stream": "stdout",
       "text": [
        "\r",
        "6946000\r",
        "6947000"
       ]
      },
      {
       "output_type": "stream",
       "stream": "stdout",
       "text": [
        "\r",
        "6948000\r",
        "6949000\r",
        "6950000\r",
        "6951000\r",
        "6952000\r",
        "6953000\r",
        "6954000\r",
        "6955000"
       ]
      },
      {
       "output_type": "stream",
       "stream": "stdout",
       "text": [
        "\r",
        "6956000\r",
        "6957000\r",
        "6958000\r",
        "6959000\r",
        "6960000\r",
        "6961000\r",
        "6962000"
       ]
      },
      {
       "output_type": "stream",
       "stream": "stdout",
       "text": [
        "\r",
        "6963000\r",
        "6964000\r",
        "6965000\r",
        "6966000\r",
        "6967000\r",
        "6968000\r",
        "6969000\r",
        "6970000"
       ]
      },
      {
       "output_type": "stream",
       "stream": "stdout",
       "text": [
        "\r",
        "6971000\r",
        "6972000"
       ]
      },
      {
       "output_type": "stream",
       "stream": "stdout",
       "text": [
        "\r",
        "6973000\r",
        "6974000\r",
        "6975000\r",
        "6976000\r",
        "6977000\r",
        "6978000\r",
        "6979000\r",
        "6980000"
       ]
      },
      {
       "output_type": "stream",
       "stream": "stdout",
       "text": [
        "\r",
        "6981000\r",
        "6982000\r",
        "6983000\r",
        "6984000\r",
        "6985000\r",
        "6986000\r",
        "6987000"
       ]
      },
      {
       "output_type": "stream",
       "stream": "stdout",
       "text": [
        "\r",
        "6988000\r",
        "6989000\r",
        "6990000\r",
        "6991000\r",
        "6992000\r",
        "6993000\r",
        "6994000"
       ]
      },
      {
       "output_type": "stream",
       "stream": "stdout",
       "text": [
        "\r",
        "6995000\r",
        "6996000"
       ]
      },
      {
       "output_type": "stream",
       "stream": "stdout",
       "text": [
        "\r",
        "6997000\r",
        "6998000\r",
        "6999000\r",
        "7000000\r",
        "7001000\r",
        "7002000\r",
        "7003000\r",
        "7004000"
       ]
      },
      {
       "output_type": "stream",
       "stream": "stdout",
       "text": [
        "\r",
        "7005000\r",
        "7006000\r",
        "7007000\r",
        "7008000\r",
        "7009000\r",
        "7010000\r",
        "7011000"
       ]
      },
      {
       "output_type": "stream",
       "stream": "stdout",
       "text": [
        "\r",
        "7012000\r",
        "7013000\r",
        "7014000\r",
        "7015000\r",
        "7016000\r",
        "7017000\r",
        "7018000\r",
        "7019000"
       ]
      },
      {
       "output_type": "stream",
       "stream": "stdout",
       "text": [
        "\r",
        "7020000\r",
        "7021000"
       ]
      },
      {
       "output_type": "stream",
       "stream": "stdout",
       "text": [
        "\r",
        "7022000\r",
        "7023000\r",
        "7024000\r",
        "7025000\r",
        "7026000\r",
        "7027000\r",
        "7028000\r",
        "7029000"
       ]
      },
      {
       "output_type": "stream",
       "stream": "stdout",
       "text": [
        "\r",
        "7030000\r",
        "7031000\r",
        "7032000\r",
        "7033000\r",
        "7034000\r",
        "7035000\r",
        "7036000"
       ]
      },
      {
       "output_type": "stream",
       "stream": "stdout",
       "text": [
        "\r",
        "7037000\r",
        "7038000\r",
        "7039000\r",
        "7040000\r",
        "7041000\r",
        "7042000\r",
        "7043000\r",
        "7044000"
       ]
      },
      {
       "output_type": "stream",
       "stream": "stdout",
       "text": [
        "\r",
        "7045000"
       ]
      },
      {
       "output_type": "stream",
       "stream": "stdout",
       "text": [
        "\r",
        "7046000\r",
        "7047000\r",
        "7048000\r",
        "7049000\r",
        "7050000\r",
        "7051000\r",
        "7052000\r",
        "7053000"
       ]
      },
      {
       "output_type": "stream",
       "stream": "stdout",
       "text": [
        "\r",
        "7054000\r",
        "7055000\r",
        "7056000\r",
        "7057000\r",
        "7058000\r",
        "7059000\r",
        "7060000"
       ]
      },
      {
       "output_type": "stream",
       "stream": "stdout",
       "text": [
        "\r",
        "7061000\r",
        "7062000\r",
        "7063000\r",
        "7064000\r",
        "7065000\r",
        "7066000\r",
        "7067000\r",
        "7068000"
       ]
      },
      {
       "output_type": "stream",
       "stream": "stdout",
       "text": [
        "\r",
        "7069000\r",
        "7070000"
       ]
      },
      {
       "output_type": "stream",
       "stream": "stdout",
       "text": [
        "\r",
        "7071000\r",
        "7072000\r",
        "7073000\r",
        "7074000\r",
        "7075000\r",
        "7076000\r",
        "7077000\r",
        "7078000"
       ]
      },
      {
       "output_type": "stream",
       "stream": "stdout",
       "text": [
        "\r",
        "7079000\r",
        "7080000\r",
        "7081000\r",
        "7082000\r",
        "7083000\r",
        "7084000\r",
        "7085000"
       ]
      },
      {
       "output_type": "stream",
       "stream": "stdout",
       "text": [
        "\r",
        "7086000\r",
        "7087000\r",
        "7088000\r",
        "7089000\r",
        "7090000\r",
        "7091000\r",
        "7092000"
       ]
      },
      {
       "output_type": "stream",
       "stream": "stdout",
       "text": [
        "\r",
        "7093000\r",
        "7094000"
       ]
      },
      {
       "output_type": "stream",
       "stream": "stdout",
       "text": [
        "\r",
        "7095000\r",
        "7096000\r",
        "7097000\r",
        "7098000\r",
        "7099000\r",
        "7100000\r",
        "7101000\r",
        "7102000"
       ]
      },
      {
       "output_type": "stream",
       "stream": "stdout",
       "text": [
        "\r",
        "7103000\r",
        "7104000\r",
        "7105000\r",
        "7106000\r",
        "7107000\r",
        "7108000\r",
        "7109000"
       ]
      },
      {
       "output_type": "stream",
       "stream": "stdout",
       "text": [
        "\r",
        "7110000\r",
        "7111000\r",
        "7112000\r",
        "7113000\r",
        "7114000\r",
        "7115000\r",
        "7116000\r",
        "7117000"
       ]
      },
      {
       "output_type": "stream",
       "stream": "stdout",
       "text": [
        "\r",
        "7118000\r",
        "7119000"
       ]
      },
      {
       "output_type": "stream",
       "stream": "stdout",
       "text": [
        "\r",
        "7120000\r",
        "7121000\r",
        "7122000\r",
        "7123000\r",
        "7124000\r",
        "7125000\r",
        "7126000\r",
        "7127000"
       ]
      },
      {
       "output_type": "stream",
       "stream": "stdout",
       "text": [
        "\r",
        "7128000\r",
        "7129000\r",
        "7130000\r",
        "7131000\r",
        "7132000\r",
        "7133000\r",
        "7134000"
       ]
      },
      {
       "output_type": "stream",
       "stream": "stdout",
       "text": [
        "\r",
        "7135000\r",
        "7136000\r",
        "7137000\r",
        "7138000\r",
        "7139000\r",
        "7140000\r",
        "7141000\r",
        "7142000"
       ]
      },
      {
       "output_type": "stream",
       "stream": "stdout",
       "text": [
        "\r",
        "7143000"
       ]
      },
      {
       "output_type": "stream",
       "stream": "stdout",
       "text": [
        "\r",
        "7144000\r",
        "7145000\r",
        "7146000\r",
        "7147000\r",
        "7148000\r",
        "7149000\r",
        "7150000\r",
        "7151000"
       ]
      },
      {
       "output_type": "stream",
       "stream": "stdout",
       "text": [
        "\r",
        "7152000\r",
        "7153000\r",
        "7154000\r",
        "7155000\r",
        "7156000\r",
        "7157000\r",
        "7158000"
       ]
      },
      {
       "output_type": "stream",
       "stream": "stdout",
       "text": [
        "\r",
        "7159000\r",
        "7160000\r",
        "7161000\r",
        "7162000\r",
        "7163000\r",
        "7164000\r",
        "7165000\r",
        "7166000"
       ]
      },
      {
       "output_type": "stream",
       "stream": "stdout",
       "text": [
        "\r",
        "7167000\r",
        "7168000"
       ]
      },
      {
       "output_type": "stream",
       "stream": "stdout",
       "text": [
        "\r",
        "7169000\r",
        "7170000\r",
        "7171000\r",
        "7172000\r",
        "7173000\r",
        "7174000\r",
        "7175000\r",
        "7176000"
       ]
      },
      {
       "output_type": "stream",
       "stream": "stdout",
       "text": [
        "\r",
        "7177000\r",
        "7178000\r",
        "7179000\r",
        "7180000\r",
        "7181000\r",
        "7182000\r",
        "7183000"
       ]
      },
      {
       "output_type": "stream",
       "stream": "stdout",
       "text": [
        "\r",
        "7184000\r",
        "7185000\r",
        "7186000\r",
        "7187000\r",
        "7188000\r",
        "7189000\r",
        "7190000\r",
        "7191000"
       ]
      },
      {
       "output_type": "stream",
       "stream": "stdout",
       "text": [
        "\r",
        "7192000"
       ]
      },
      {
       "output_type": "stream",
       "stream": "stdout",
       "text": [
        "\r",
        "7193000\r",
        "7194000\r",
        "7195000\r",
        "7196000\r",
        "7197000\r",
        "7198000\r",
        "7199000\r",
        "7200000"
       ]
      },
      {
       "output_type": "stream",
       "stream": "stdout",
       "text": [
        "\r",
        "7201000\r",
        "7202000\r",
        "7203000\r",
        "7204000\r",
        "7205000\r",
        "7206000\r",
        "7207000"
       ]
      },
      {
       "output_type": "stream",
       "stream": "stdout",
       "text": [
        "\r",
        "7208000\r",
        "7209000\r",
        "7210000\r",
        "7211000\r",
        "7212000\r",
        "7213000\r",
        "7214000\r",
        "7215000"
       ]
      },
      {
       "output_type": "stream",
       "stream": "stdout",
       "text": [
        "\r",
        "7216000\r",
        "7217000"
       ]
      },
      {
       "output_type": "stream",
       "stream": "stdout",
       "text": [
        "\r",
        "7218000\r",
        "7219000\r",
        "7220000\r",
        "7221000\r",
        "7222000\r",
        "7223000\r",
        "7224000\r",
        "7225000"
       ]
      },
      {
       "output_type": "stream",
       "stream": "stdout",
       "text": [
        "\r",
        "7226000\r",
        "7227000\r",
        "7228000\r",
        "7229000\r",
        "7230000\r",
        "7231000\r",
        "7232000"
       ]
      },
      {
       "output_type": "stream",
       "stream": "stdout",
       "text": [
        "\r",
        "7233000\r",
        "7234000\r",
        "7235000\r",
        "7236000\r",
        "7237000\r",
        "7238000\r",
        "7239000\r",
        "7240000"
       ]
      },
      {
       "output_type": "stream",
       "stream": "stdout",
       "text": [
        "\r",
        "7241000"
       ]
      },
      {
       "output_type": "stream",
       "stream": "stdout",
       "text": [
        "\r",
        "7242000\r",
        "7243000\r",
        "7244000\r",
        "7245000\r",
        "7246000\r",
        "7247000\r",
        "7248000"
       ]
      },
      {
       "output_type": "stream",
       "stream": "stdout",
       "text": [
        "\r",
        "7249000\r",
        "7250000\r",
        "7251000\r",
        "7252000\r",
        "7253000\r",
        "7254000\r",
        "7255000"
       ]
      },
      {
       "output_type": "stream",
       "stream": "stdout",
       "text": [
        "\r",
        "7256000\r",
        "7257000\r",
        "7258000\r",
        "7259000\r",
        "7260000\r",
        "7261000\r",
        "7262000\r",
        "7263000"
       ]
      },
      {
       "output_type": "stream",
       "stream": "stdout",
       "text": [
        "\r",
        "7264000\r",
        "7265000\r",
        "7266000"
       ]
      },
      {
       "output_type": "stream",
       "stream": "stdout",
       "text": [
        "\r",
        "7267000\r",
        "7268000\r",
        "7269000\r",
        "7270000\r",
        "7271000\r",
        "7272000\r",
        "7273000\r",
        "7274000"
       ]
      },
      {
       "output_type": "stream",
       "stream": "stdout",
       "text": [
        "\r",
        "7275000\r",
        "7276000\r",
        "7277000\r",
        "7278000\r",
        "7279000\r",
        "7280000\r",
        "7281000"
       ]
      },
      {
       "output_type": "stream",
       "stream": "stdout",
       "text": [
        "\r",
        "7282000\r",
        "7283000\r",
        "7284000\r",
        "7285000\r",
        "7286000\r",
        "7287000\r",
        "7288000\r",
        "7289000"
       ]
      },
      {
       "output_type": "stream",
       "stream": "stdout",
       "text": [
        "\r",
        "7290000\r",
        "7291000"
       ]
      },
      {
       "output_type": "stream",
       "stream": "stdout",
       "text": [
        "\r",
        "7292000\r",
        "7293000\r",
        "7294000\r",
        "7295000\r",
        "7296000\r",
        "7297000\r",
        "7298000\r",
        "7299000"
       ]
      },
      {
       "output_type": "stream",
       "stream": "stdout",
       "text": [
        "\r",
        "7300000\r",
        "7301000\r",
        "7302000\r",
        "7303000\r",
        "7304000\r",
        "7305000\r",
        "7306000"
       ]
      },
      {
       "output_type": "stream",
       "stream": "stdout",
       "text": [
        "\r",
        "7307000\r",
        "7308000\r",
        "7309000\r",
        "7310000\r",
        "7311000\r",
        "7312000\r",
        "7313000\r",
        "7314000"
       ]
      },
      {
       "output_type": "stream",
       "stream": "stdout",
       "text": [
        "\r",
        "7315000"
       ]
      },
      {
       "output_type": "stream",
       "stream": "stdout",
       "text": [
        "\r",
        "7316000\r",
        "7317000\r",
        "7318000\r",
        "7319000\r",
        "7320000\r",
        "7321000\r",
        "7322000"
       ]
      },
      {
       "output_type": "stream",
       "stream": "stdout",
       "text": [
        "\r",
        "7323000\r",
        "7324000\r",
        "7325000\r",
        "7326000\r",
        "7327000\r",
        "7328000"
       ]
      },
      {
       "output_type": "stream",
       "stream": "stdout",
       "text": [
        "\r",
        "7329000\r",
        "7330000\r",
        "7331000\r",
        "7332000\r",
        "7333000\r",
        "7334000"
       ]
      },
      {
       "output_type": "stream",
       "stream": "stdout",
       "text": [
        "\r",
        "7335000\r",
        "7336000\r",
        "7337000\r",
        "7338000\r",
        "7339000\r",
        "7340000"
       ]
      },
      {
       "output_type": "stream",
       "stream": "stdout",
       "text": [
        "\r",
        "7341000\r",
        "7342000\r",
        "7343000\r",
        "7344000\r",
        "7345000\r",
        "7346000\r",
        "7347000\r",
        "7348000"
       ]
      },
      {
       "output_type": "stream",
       "stream": "stdout",
       "text": [
        "\r",
        "7349000\r",
        "7350000\r",
        "7351000\r",
        "7352000\r",
        "7353000\r",
        "7354000\r",
        "7355000"
       ]
      },
      {
       "output_type": "stream",
       "stream": "stdout",
       "text": [
        "\r",
        "7356000\r",
        "7357000\r",
        "7358000\r",
        "7359000\r",
        "7360000"
       ]
      },
      {
       "output_type": "stream",
       "stream": "stdout",
       "text": [
        "\r",
        "7361000\r",
        "7362000\r",
        "7363000\r",
        "7364000\r",
        "7365000"
       ]
      },
      {
       "output_type": "stream",
       "stream": "stdout",
       "text": [
        "\r",
        "7366000\r",
        "7367000\r",
        "7368000\r",
        "7369000\r",
        "7370000\r",
        "7371000\r",
        "7372000\r",
        "7373000"
       ]
      },
      {
       "output_type": "stream",
       "stream": "stdout",
       "text": [
        "\r",
        "7374000\r",
        "7375000\r",
        "7376000\r",
        "7377000\r",
        "7378000\r",
        "7379000\r",
        "7380000"
       ]
      },
      {
       "output_type": "stream",
       "stream": "stdout",
       "text": [
        "\r",
        "7381000\r",
        "7382000\r",
        "7383000\r",
        "7384000\r",
        "7385000\r",
        "7386000\r",
        "7387000\r",
        "7388000"
       ]
      },
      {
       "output_type": "stream",
       "stream": "stdout",
       "text": [
        "\r",
        "7389000"
       ]
      },
      {
       "output_type": "stream",
       "stream": "stdout",
       "text": [
        "\r",
        "7390000\r",
        "7391000\r",
        "7392000\r",
        "7393000\r",
        "7394000\r",
        "7395000\r",
        "7396000\r",
        "7397000"
       ]
      },
      {
       "output_type": "stream",
       "stream": "stdout",
       "text": [
        "\r",
        "7398000\r",
        "7399000\r",
        "7400000\r",
        "7401000\r",
        "7402000\r",
        "7403000\r",
        "7404000"
       ]
      },
      {
       "output_type": "stream",
       "stream": "stdout",
       "text": [
        "\r",
        "7405000\r",
        "7406000\r",
        "7407000\r",
        "7408000\r",
        "7409000\r",
        "7410000\r",
        "7411000\r",
        "7412000"
       ]
      },
      {
       "output_type": "stream",
       "stream": "stdout",
       "text": [
        "\r",
        "7413000\r",
        "7414000"
       ]
      },
      {
       "output_type": "stream",
       "stream": "stdout",
       "text": [
        "\r",
        "7415000\r",
        "7416000\r",
        "7417000\r",
        "7418000\r",
        "7419000\r",
        "7420000\r",
        "7421000\r",
        "7422000"
       ]
      },
      {
       "output_type": "stream",
       "stream": "stdout",
       "text": [
        "\r",
        "7423000\r",
        "7424000\r",
        "7425000\r",
        "7426000\r",
        "7427000\r",
        "7428000\r",
        "7429000"
       ]
      },
      {
       "output_type": "stream",
       "stream": "stdout",
       "text": [
        "\r",
        "7430000\r",
        "7431000\r",
        "7432000\r",
        "7433000\r",
        "7434000\r",
        "7435000\r",
        "7436000\r",
        "7437000"
       ]
      },
      {
       "output_type": "stream",
       "stream": "stdout",
       "text": [
        "\r",
        "7438000"
       ]
      },
      {
       "output_type": "stream",
       "stream": "stdout",
       "text": [
        "\r",
        "7439000\r",
        "7440000\r",
        "7441000\r",
        "7442000\r",
        "7443000\r",
        "7444000\r",
        "7445000\r",
        "7446000"
       ]
      },
      {
       "output_type": "stream",
       "stream": "stdout",
       "text": [
        "\r",
        "7447000\r",
        "7448000\r",
        "7449000\r",
        "7450000\r",
        "7451000\r",
        "7452000\r",
        "7453000"
       ]
      },
      {
       "output_type": "stream",
       "stream": "stdout",
       "text": [
        "\r",
        "7454000\r",
        "7455000\r",
        "7456000\r",
        "7457000\r",
        "7458000\r",
        "7459000\r",
        "7460000"
       ]
      },
      {
       "output_type": "stream",
       "stream": "stdout",
       "text": [
        "\r",
        "7461000\r",
        "7462000\r",
        "7463000"
       ]
      },
      {
       "output_type": "stream",
       "stream": "stdout",
       "text": [
        "\r",
        "7464000\r",
        "7465000\r",
        "7466000\r",
        "7467000\r",
        "7468000\r",
        "7469000\r",
        "7470000"
       ]
      },
      {
       "output_type": "stream",
       "stream": "stdout",
       "text": [
        "\r",
        "7471000\r",
        "7472000\r",
        "7473000\r",
        "7474000\r",
        "7475000\r",
        "7476000\r",
        "7477000"
       ]
      },
      {
       "output_type": "stream",
       "stream": "stdout",
       "text": [
        "\r",
        "7478000\r",
        "7479000\r",
        "7480000\r",
        "7481000\r",
        "7482000\r",
        "7483000\r",
        "7484000"
       ]
      },
      {
       "output_type": "stream",
       "stream": "stdout",
       "text": [
        "\r",
        "7485000\r",
        "7486000\r",
        "7487000"
       ]
      },
      {
       "output_type": "stream",
       "stream": "stdout",
       "text": [
        "\r",
        "7488000\r",
        "7489000\r",
        "7490000\r",
        "7491000\r",
        "7492000\r",
        "7493000\r",
        "7494000\r",
        "7495000"
       ]
      },
      {
       "output_type": "stream",
       "stream": "stdout",
       "text": [
        "\r",
        "7496000\r",
        "7497000\r",
        "7498000\r",
        "7499000\r",
        "7500000\r",
        "7501000\r",
        "7502000"
       ]
      },
      {
       "output_type": "stream",
       "stream": "stdout",
       "text": [
        "\r",
        "7503000\r",
        "7504000\r",
        "7505000\r",
        "7506000\r",
        "7507000\r",
        "7508000\r",
        "7509000"
       ]
      },
      {
       "output_type": "stream",
       "stream": "stdout",
       "text": [
        "\r",
        "7510000\r",
        "7511000\r",
        "7512000"
       ]
      },
      {
       "output_type": "stream",
       "stream": "stdout",
       "text": [
        "\r",
        "7513000\r",
        "7514000\r",
        "7515000\r",
        "7516000\r",
        "7517000\r",
        "7518000\r",
        "7519000\r",
        "7520000"
       ]
      },
      {
       "output_type": "stream",
       "stream": "stdout",
       "text": [
        "\r",
        "7521000\r",
        "7522000\r",
        "7523000\r",
        "7524000\r",
        "7525000\r",
        "7526000\r",
        "7527000"
       ]
      },
      {
       "output_type": "stream",
       "stream": "stdout",
       "text": [
        "\r",
        "7528000\r",
        "7529000\r",
        "7530000\r",
        "7531000\r",
        "7532000\r",
        "7533000\r",
        "7534000\r",
        "7535000"
       ]
      },
      {
       "output_type": "stream",
       "stream": "stdout",
       "text": [
        "\r",
        "7536000"
       ]
      },
      {
       "output_type": "stream",
       "stream": "stdout",
       "text": [
        "\r",
        "7537000\r",
        "7538000\r",
        "7539000\r",
        "7540000\r",
        "7541000\r",
        "7542000\r",
        "7543000\r",
        "7544000"
       ]
      },
      {
       "output_type": "stream",
       "stream": "stdout",
       "text": [
        "\r",
        "7545000\r",
        "7546000\r",
        "7547000\r",
        "7548000\r",
        "7549000\r",
        "7550000\r",
        "7551000"
       ]
      },
      {
       "output_type": "stream",
       "stream": "stdout",
       "text": [
        "\r",
        "7552000\r",
        "7553000\r",
        "7554000\r",
        "7555000\r",
        "7556000\r",
        "7557000\r",
        "7558000\r",
        "7559000"
       ]
      },
      {
       "output_type": "stream",
       "stream": "stdout",
       "text": [
        "\r",
        "7560000\r",
        "7561000"
       ]
      },
      {
       "output_type": "stream",
       "stream": "stdout",
       "text": [
        "\r",
        "7562000\r",
        "7563000\r",
        "7564000\r",
        "7565000\r",
        "7566000\r",
        "7567000\r",
        "7568000\r",
        "7569000"
       ]
      },
      {
       "output_type": "stream",
       "stream": "stdout",
       "text": [
        "\r",
        "7570000\r",
        "7571000\r",
        "7572000\r",
        "7573000\r",
        "7574000\r",
        "7575000\r",
        "7576000"
       ]
      },
      {
       "output_type": "stream",
       "stream": "stdout",
       "text": [
        "\r",
        "7577000\r",
        "7578000\r",
        "7579000\r",
        "7580000\r",
        "7581000\r",
        "7582000\r",
        "7583000\r",
        "7584000"
       ]
      },
      {
       "output_type": "stream",
       "stream": "stdout",
       "text": [
        "\r",
        "7585000"
       ]
      },
      {
       "output_type": "stream",
       "stream": "stdout",
       "text": [
        "\r",
        "7586000\r",
        "7587000\r",
        "7588000\r",
        "7589000\r",
        "7590000\r",
        "7591000\r",
        "7592000\r",
        "7593000"
       ]
      },
      {
       "output_type": "stream",
       "stream": "stdout",
       "text": [
        "\r",
        "7594000\r",
        "7595000\r",
        "7596000\r",
        "7597000\r",
        "7598000\r",
        "7599000\r",
        "7600000"
       ]
      },
      {
       "output_type": "stream",
       "stream": "stdout",
       "text": [
        "\r",
        "7601000\r",
        "7602000\r",
        "7603000\r",
        "7604000\r",
        "7605000\r",
        "7606000\r",
        "7607000\r",
        "7608000"
       ]
      },
      {
       "output_type": "stream",
       "stream": "stdout",
       "text": [
        "\r",
        "7609000\r",
        "7610000"
       ]
      },
      {
       "output_type": "stream",
       "stream": "stdout",
       "text": [
        "\r",
        "7611000\r",
        "7612000\r",
        "7613000\r",
        "7614000\r",
        "7615000\r",
        "7616000\r",
        "7617000\r",
        "7618000"
       ]
      },
      {
       "output_type": "stream",
       "stream": "stdout",
       "text": [
        "\r",
        "7619000\r",
        "7620000\r",
        "7621000\r",
        "7622000\r",
        "7623000\r",
        "7624000\r",
        "7625000"
       ]
      },
      {
       "output_type": "stream",
       "stream": "stdout",
       "text": [
        "\r",
        "7626000\r",
        "7627000\r",
        "7628000\r",
        "7629000\r",
        "7630000\r",
        "7631000\r",
        "7632000\r",
        "7633000"
       ]
      },
      {
       "output_type": "stream",
       "stream": "stdout",
       "text": [
        "\r",
        "7634000"
       ]
      },
      {
       "output_type": "stream",
       "stream": "stdout",
       "text": [
        "\r",
        "7635000\r",
        "7636000\r",
        "7637000\r",
        "7638000\r",
        "7639000\r",
        "7640000\r",
        "7641000\r",
        "7642000"
       ]
      },
      {
       "output_type": "stream",
       "stream": "stdout",
       "text": [
        "\r",
        "7643000\r",
        "7644000\r",
        "7645000\r",
        "7646000\r",
        "7647000\r",
        "7648000\r",
        "7649000"
       ]
      },
      {
       "output_type": "stream",
       "stream": "stdout",
       "text": [
        "\r",
        "7650000\r",
        "7651000\r",
        "7652000\r",
        "7653000\r",
        "7654000\r",
        "7655000\r",
        "7656000\r",
        "7657000"
       ]
      },
      {
       "output_type": "stream",
       "stream": "stdout",
       "text": [
        "\r",
        "7658000\r",
        "7659000"
       ]
      },
      {
       "output_type": "stream",
       "stream": "stdout",
       "text": [
        "\r",
        "7660000\r",
        "7661000\r",
        "7662000\r",
        "7663000\r",
        "7664000\r",
        "7665000\r",
        "7666000\r",
        "7667000"
       ]
      },
      {
       "output_type": "stream",
       "stream": "stdout",
       "text": [
        "\r",
        "7668000\r",
        "7669000\r",
        "7670000\r",
        "7671000\r",
        "7672000\r",
        "7673000\r",
        "7674000"
       ]
      },
      {
       "output_type": "stream",
       "stream": "stdout",
       "text": [
        "\r",
        "7675000\r",
        "7676000\r",
        "7677000\r",
        "7678000\r",
        "7679000\r",
        "7680000\r",
        "7681000\r",
        "7682000"
       ]
      },
      {
       "output_type": "stream",
       "stream": "stdout",
       "text": [
        "\r",
        "7683000"
       ]
      },
      {
       "output_type": "stream",
       "stream": "stdout",
       "text": [
        "\r",
        "7684000\r",
        "7685000\r",
        "7686000\r",
        "7687000\r",
        "7688000\r",
        "7689000\r",
        "7690000"
       ]
      },
      {
       "output_type": "stream",
       "stream": "stdout",
       "text": [
        "\r",
        "7691000\r",
        "7692000\r",
        "7693000\r",
        "7694000\r",
        "7695000\r",
        "7696000\r",
        "7697000"
       ]
      },
      {
       "output_type": "stream",
       "stream": "stdout",
       "text": [
        "\r",
        "7698000\r",
        "7699000\r",
        "7700000\r",
        "7701000\r",
        "7702000\r",
        "7703000\r",
        "7704000\r",
        "7705000"
       ]
      },
      {
       "output_type": "stream",
       "stream": "stdout",
       "text": [
        "\r",
        "7706000\r",
        "7707000\r",
        "7708000"
       ]
      },
      {
       "output_type": "stream",
       "stream": "stdout",
       "text": [
        "\r",
        "7709000\r",
        "7710000\r",
        "7711000\r",
        "7712000\r",
        "7713000\r",
        "7714000\r",
        "7715000"
       ]
      },
      {
       "output_type": "stream",
       "stream": "stdout",
       "text": [
        "\r",
        "7716000\r",
        "7717000\r",
        "7718000\r",
        "7719000\r",
        "7720000\r",
        "7721000\r",
        "7722000"
       ]
      },
      {
       "output_type": "stream",
       "stream": "stdout",
       "text": [
        "\r",
        "7723000\r",
        "7724000\r",
        "7725000\r",
        "7726000\r",
        "7727000\r",
        "7728000\r",
        "7729000\r",
        "7730000"
       ]
      },
      {
       "output_type": "stream",
       "stream": "stdout",
       "text": [
        "\r",
        "7731000\r",
        "7732000\r",
        "7733000"
       ]
      },
      {
       "output_type": "stream",
       "stream": "stdout",
       "text": [
        "\r",
        "7734000\r",
        "7735000\r",
        "7736000\r",
        "7737000\r",
        "7738000\r",
        "7739000\r",
        "7740000\r",
        "7741000"
       ]
      },
      {
       "output_type": "stream",
       "stream": "stdout",
       "text": [
        "\r",
        "7742000\r",
        "7743000\r",
        "7744000\r",
        "7745000\r",
        "7746000\r",
        "7747000\r",
        "7748000"
       ]
      },
      {
       "output_type": "stream",
       "stream": "stdout",
       "text": [
        "\r",
        "7749000\r",
        "7750000\r",
        "7751000\r",
        "7752000\r",
        "7753000\r",
        "7754000\r",
        "7755000\r",
        "7756000"
       ]
      },
      {
       "output_type": "stream",
       "stream": "stdout",
       "text": [
        "\r",
        "7757000"
       ]
      },
      {
       "output_type": "stream",
       "stream": "stdout",
       "text": [
        "\r",
        "7758000\r",
        "7759000\r",
        "7760000\r",
        "7761000\r",
        "7762000\r",
        "7763000\r",
        "7764000\r",
        "7765000"
       ]
      },
      {
       "output_type": "stream",
       "stream": "stdout",
       "text": [
        "\r",
        "7766000\r",
        "7767000\r",
        "7768000\r",
        "7769000\r",
        "7770000\r",
        "7771000"
       ]
      },
      {
       "output_type": "stream",
       "stream": "stdout",
       "text": [
        "\r",
        "7772000\r",
        "7773000\r",
        "7774000\r",
        "7775000\r",
        "7776000\r",
        "7777000\r",
        "7778000"
       ]
      },
      {
       "output_type": "stream",
       "stream": "stdout",
       "text": [
        "\r",
        "7779000\r",
        "7780000\r",
        "7781000\r",
        "7782000"
       ]
      },
      {
       "output_type": "stream",
       "stream": "stdout",
       "text": [
        "\r",
        "7783000\r",
        "7784000\r",
        "7785000\r",
        "7786000\r",
        "7787000\r",
        "7788000\r",
        "7789000\r",
        "7790000"
       ]
      },
      {
       "output_type": "stream",
       "stream": "stdout",
       "text": [
        "\r",
        "7791000\r",
        "7792000\r",
        "7793000\r",
        "7794000\r",
        "7795000\r",
        "7796000\r",
        "7797000"
       ]
      },
      {
       "output_type": "stream",
       "stream": "stdout",
       "text": [
        "\r",
        "7798000\r",
        "7799000\r",
        "7800000\r",
        "7801000\r",
        "7802000\r",
        "7803000\r",
        "7804000\r",
        "7805000"
       ]
      },
      {
       "output_type": "stream",
       "stream": "stdout",
       "text": [
        "\r",
        "7806000\r",
        "7807000"
       ]
      },
      {
       "output_type": "stream",
       "stream": "stdout",
       "text": [
        "\r",
        "7808000\r",
        "7809000\r",
        "7810000\r",
        "7811000\r",
        "7812000\r",
        "7813000\r",
        "7814000\r",
        "7815000"
       ]
      },
      {
       "output_type": "stream",
       "stream": "stdout",
       "text": [
        "\r",
        "7816000\r",
        "7817000\r",
        "7818000\r",
        "7819000\r",
        "7820000\r",
        "7821000\r",
        "7822000"
       ]
      },
      {
       "output_type": "stream",
       "stream": "stdout",
       "text": [
        "\r",
        "7823000\r",
        "7824000\r",
        "7825000\r",
        "7826000\r",
        "7827000\r",
        "7828000\r",
        "7829000\r",
        "7830000"
       ]
      },
      {
       "output_type": "stream",
       "stream": "stdout",
       "text": [
        "\r",
        "7831000"
       ]
      },
      {
       "output_type": "stream",
       "stream": "stdout",
       "text": [
        "\r",
        "7832000\r",
        "7833000\r",
        "7834000\r",
        "7835000\r",
        "7836000\r",
        "7837000\r",
        "7838000\r",
        "7839000"
       ]
      },
      {
       "output_type": "stream",
       "stream": "stdout",
       "text": [
        "\r",
        "7840000\r",
        "7841000\r",
        "7842000\r",
        "7843000\r",
        "7844000\r",
        "7845000\r",
        "7846000"
       ]
      },
      {
       "output_type": "stream",
       "stream": "stdout",
       "text": [
        "\r",
        "7847000\r",
        "7848000\r",
        "7849000\r",
        "7850000\r",
        "7851000\r",
        "7852000\r",
        "7853000\r",
        "7854000"
       ]
      },
      {
       "output_type": "stream",
       "stream": "stdout",
       "text": [
        "\r",
        "7855000\r",
        "7856000"
       ]
      },
      {
       "output_type": "stream",
       "stream": "stdout",
       "text": [
        "\r",
        "7857000\r",
        "7858000\r",
        "7859000\r",
        "7860000\r",
        "7861000\r",
        "7862000\r",
        "7863000\r",
        "7864000"
       ]
      },
      {
       "output_type": "stream",
       "stream": "stdout",
       "text": [
        "\r",
        "7865000\r",
        "7866000\r",
        "7867000\r",
        "7868000\r",
        "7869000\r",
        "7870000\r",
        "7871000"
       ]
      },
      {
       "output_type": "stream",
       "stream": "stdout",
       "text": [
        "\r",
        "7872000\r",
        "7873000\r",
        "7874000\r",
        "7875000\r",
        "7876000\r",
        "7877000\r",
        "7878000\r",
        "7879000"
       ]
      },
      {
       "output_type": "stream",
       "stream": "stdout",
       "text": [
        "\r",
        "7880000"
       ]
      },
      {
       "output_type": "stream",
       "stream": "stdout",
       "text": [
        "\r",
        "7881000\r",
        "7882000\r",
        "7883000\r",
        "7884000\r",
        "7885000\r",
        "7886000\r",
        "7887000\r",
        "7888000"
       ]
      },
      {
       "output_type": "stream",
       "stream": "stdout",
       "text": [
        "\r",
        "7889000\r",
        "7890000\r",
        "7891000\r",
        "7892000\r",
        "7893000\r",
        "7894000\r",
        "7895000"
       ]
      },
      {
       "output_type": "stream",
       "stream": "stdout",
       "text": [
        "\r",
        "7896000\r",
        "7897000\r",
        "7898000\r",
        "7899000\r",
        "7900000\r",
        "7901000\r",
        "7902000\r",
        "7903000"
       ]
      },
      {
       "output_type": "stream",
       "stream": "stdout",
       "text": [
        "\r",
        "7904000\r",
        "7905000"
       ]
      },
      {
       "output_type": "stream",
       "stream": "stdout",
       "text": [
        "\r",
        "7906000\r",
        "7907000\r",
        "7908000\r",
        "7909000\r",
        "7910000\r",
        "7911000\r",
        "7912000\r",
        "7913000"
       ]
      },
      {
       "output_type": "stream",
       "stream": "stdout",
       "text": [
        "\r",
        "7914000\r",
        "7915000\r",
        "7916000\r",
        "7917000\r",
        "7918000\r",
        "7919000\r",
        "7920000"
       ]
      },
      {
       "output_type": "stream",
       "stream": "stdout",
       "text": [
        "\r",
        "7921000\r",
        "7922000\r",
        "7923000\r",
        "7924000\r",
        "7925000\r",
        "7926000\r",
        "7927000\r",
        "7928000"
       ]
      },
      {
       "output_type": "stream",
       "stream": "stdout",
       "text": [
        "\r",
        "7929000"
       ]
      },
      {
       "output_type": "stream",
       "stream": "stdout",
       "text": [
        "\r",
        "7930000\r",
        "7931000\r",
        "7932000\r",
        "7933000\r",
        "7934000\r",
        "7935000\r",
        "7936000\r",
        "7937000"
       ]
      },
      {
       "output_type": "stream",
       "stream": "stdout",
       "text": [
        "\r",
        "7938000\r",
        "7939000\r",
        "7940000\r",
        "7941000\r",
        "7942000\r",
        "7943000\r",
        "7944000"
       ]
      },
      {
       "output_type": "stream",
       "stream": "stdout",
       "text": [
        "\r",
        "7945000\r",
        "7946000\r",
        "7947000\r",
        "7948000\r",
        "7949000\r",
        "7950000\r",
        "7951000\r",
        "7952000"
       ]
      },
      {
       "output_type": "stream",
       "stream": "stdout",
       "text": [
        "\r",
        "7953000\r",
        "7954000"
       ]
      },
      {
       "output_type": "stream",
       "stream": "stdout",
       "text": [
        "\r",
        "7955000\r",
        "7956000\r",
        "7957000\r",
        "7958000\r",
        "7959000\r",
        "7960000\r",
        "7961000\r",
        "7962000"
       ]
      },
      {
       "output_type": "stream",
       "stream": "stdout",
       "text": [
        "\r",
        "7963000\r",
        "7964000\r",
        "7965000\r",
        "7966000\r",
        "7967000\r",
        "7968000\r",
        "7969000"
       ]
      },
      {
       "output_type": "stream",
       "stream": "stdout",
       "text": [
        "\r",
        "7970000\r",
        "7971000\r",
        "7972000\r",
        "7973000\r",
        "7974000\r",
        "7975000\r",
        "7976000\r",
        "7977000"
       ]
      },
      {
       "output_type": "stream",
       "stream": "stdout",
       "text": [
        "\r",
        "7978000"
       ]
      },
      {
       "output_type": "stream",
       "stream": "stdout",
       "text": [
        "\r",
        "7979000\r",
        "7980000\r",
        "7981000\r",
        "7982000\r",
        "7983000\r",
        "7984000\r",
        "7985000\r",
        "7986000"
       ]
      },
      {
       "output_type": "stream",
       "stream": "stdout",
       "text": [
        "\r",
        "7987000\r",
        "7988000\r",
        "7989000\r",
        "7990000\r",
        "7991000\r",
        "7992000\r",
        "7993000"
       ]
      },
      {
       "output_type": "stream",
       "stream": "stdout",
       "text": [
        "\r",
        "7994000\r",
        "7995000\r",
        "7996000\r",
        "7997000\r",
        "7998000\r",
        "7999000\r",
        "8000000\r",
        "8001000"
       ]
      },
      {
       "output_type": "stream",
       "stream": "stdout",
       "text": [
        "\r",
        "8002000\r",
        "8003000"
       ]
      },
      {
       "output_type": "stream",
       "stream": "stdout",
       "text": [
        "\r",
        "8004000\r",
        "8005000\r",
        "8006000\r",
        "8007000\r",
        "8008000\r",
        "8009000\r",
        "8010000\r",
        "8011000"
       ]
      },
      {
       "output_type": "stream",
       "stream": "stdout",
       "text": [
        "\r",
        "8012000\r",
        "8013000\r",
        "8014000\r",
        "8015000\r",
        "8016000\r",
        "8017000\r",
        "8018000"
       ]
      },
      {
       "output_type": "stream",
       "stream": "stdout",
       "text": [
        "\r",
        "8019000\r",
        "8020000\r",
        "8021000\r",
        "8022000\r",
        "8023000\r",
        "8024000\r",
        "8025000\r",
        "8026000"
       ]
      },
      {
       "output_type": "stream",
       "stream": "stdout",
       "text": [
        "\r",
        "8027000"
       ]
      },
      {
       "output_type": "stream",
       "stream": "stdout",
       "text": [
        "\r",
        "8028000\r",
        "8029000\r",
        "8030000\r",
        "8031000\r",
        "8032000\r",
        "8033000\r",
        "8034000\r",
        "8035000"
       ]
      },
      {
       "output_type": "stream",
       "stream": "stdout",
       "text": [
        "\r",
        "8036000\r",
        "8037000\r",
        "8038000\r",
        "8039000\r",
        "8040000\r",
        "8041000\r",
        "8042000"
       ]
      },
      {
       "output_type": "stream",
       "stream": "stdout",
       "text": [
        "\r",
        "8043000\r",
        "8044000\r",
        "8045000\r",
        "8046000\r",
        "8047000\r",
        "8048000\r",
        "8049000\r",
        "8050000"
       ]
      },
      {
       "output_type": "stream",
       "stream": "stdout",
       "text": [
        "\r",
        "8051000\r",
        "8052000"
       ]
      },
      {
       "output_type": "stream",
       "stream": "stdout",
       "text": [
        "\r",
        "8053000\r",
        "8054000\r",
        "8055000\r",
        "8056000\r",
        "8057000\r",
        "8058000\r",
        "8059000\r",
        "8060000"
       ]
      },
      {
       "output_type": "stream",
       "stream": "stdout",
       "text": [
        "\r",
        "8061000\r",
        "8062000\r",
        "8063000\r",
        "8064000\r",
        "8065000\r",
        "8066000\r",
        "8067000"
       ]
      },
      {
       "output_type": "stream",
       "stream": "stdout",
       "text": [
        "\r",
        "8068000\r",
        "8069000\r",
        "8070000\r",
        "8071000\r",
        "8072000\r",
        "8073000\r",
        "8074000"
       ]
      },
      {
       "output_type": "stream",
       "stream": "stdout",
       "text": [
        "\r",
        "8075000\r",
        "8076000"
       ]
      },
      {
       "output_type": "stream",
       "stream": "stdout",
       "text": [
        "\r",
        "8077000\r",
        "8078000\r",
        "8079000\r",
        "8080000\r",
        "8081000\r",
        "8082000\r",
        "8083000\r",
        "8084000"
       ]
      },
      {
       "output_type": "stream",
       "stream": "stdout",
       "text": [
        "\r",
        "8085000\r",
        "8086000\r",
        "8087000\r",
        "8088000\r",
        "8089000\r",
        "8090000\r",
        "8091000"
       ]
      },
      {
       "output_type": "stream",
       "stream": "stdout",
       "text": [
        "\r",
        "8092000\r",
        "8093000\r",
        "8094000\r",
        "8095000\r",
        "8096000\r",
        "8097000\r",
        "8098000\r",
        "8099000"
       ]
      },
      {
       "output_type": "stream",
       "stream": "stdout",
       "text": [
        "\r",
        "8100000"
       ]
      },
      {
       "output_type": "stream",
       "stream": "stdout",
       "text": [
        "\r",
        "8101000\r",
        "8102000\r",
        "8103000\r",
        "8104000\r",
        "8105000\r",
        "8106000\r",
        "8107000\r",
        "8108000"
       ]
      },
      {
       "output_type": "stream",
       "stream": "stdout",
       "text": [
        "\r",
        "8109000\r",
        "8110000\r",
        "8111000\r",
        "8112000\r",
        "8113000\r",
        "8114000\r",
        "8115000"
       ]
      },
      {
       "output_type": "stream",
       "stream": "stdout",
       "text": [
        "\r",
        "8116000\r",
        "8117000\r",
        "8118000\r",
        "8119000\r",
        "8120000\r",
        "8121000\r",
        "8122000"
       ]
      },
      {
       "output_type": "stream",
       "stream": "stdout",
       "text": [
        "\r",
        "8123000\r",
        "8124000\r",
        "8125000"
       ]
      },
      {
       "output_type": "stream",
       "stream": "stdout",
       "text": [
        "\r",
        "8126000\r",
        "8127000\r",
        "8128000\r",
        "8129000\r",
        "8130000\r",
        "8131000\r",
        "8132000\r",
        "8133000"
       ]
      },
      {
       "output_type": "stream",
       "stream": "stdout",
       "text": [
        "\r",
        "8134000\r",
        "8135000\r",
        "8136000\r",
        "8137000\r",
        "8138000\r",
        "8139000\r",
        "8140000"
       ]
      },
      {
       "output_type": "stream",
       "stream": "stdout",
       "text": [
        "\r",
        "8141000\r",
        "8142000\r",
        "8143000\r",
        "8144000\r",
        "8145000\r",
        "8146000\r",
        "8147000\r",
        "8148000"
       ]
      },
      {
       "output_type": "stream",
       "stream": "stdout",
       "text": [
        "\r",
        "8149000\r",
        "8150000"
       ]
      },
      {
       "output_type": "stream",
       "stream": "stdout",
       "text": [
        "\r",
        "8151000\r",
        "8152000\r",
        "8153000\r",
        "8154000\r",
        "8155000\r",
        "8156000\r",
        "8157000\r",
        "8158000"
       ]
      },
      {
       "output_type": "stream",
       "stream": "stdout",
       "text": [
        "\r",
        "8159000\r",
        "8160000\r",
        "8161000\r",
        "8162000\r",
        "8163000\r",
        "8164000\r",
        "8165000"
       ]
      },
      {
       "output_type": "stream",
       "stream": "stdout",
       "text": [
        "\r",
        "8166000\r",
        "8167000\r",
        "8168000\r",
        "8169000\r",
        "8170000\r",
        "8171000\r",
        "8172000"
       ]
      },
      {
       "output_type": "stream",
       "stream": "stdout",
       "text": [
        "\r",
        "8173000\r",
        "8174000"
       ]
      },
      {
       "output_type": "stream",
       "stream": "stdout",
       "text": [
        "\r",
        "8175000\r",
        "8176000\r",
        "8177000\r",
        "8178000\r",
        "8179000\r",
        "8180000\r",
        "8181000\r",
        "8182000"
       ]
      },
      {
       "output_type": "stream",
       "stream": "stdout",
       "text": [
        "\r",
        "8183000\r",
        "8184000\r",
        "8185000\r",
        "8186000\r",
        "8187000\r",
        "8188000\r",
        "8189000"
       ]
      },
      {
       "output_type": "stream",
       "stream": "stdout",
       "text": [
        "\r",
        "8190000\r",
        "8191000\r",
        "8192000\r",
        "8193000\r",
        "8194000\r",
        "8195000\r",
        "8196000"
       ]
      },
      {
       "output_type": "stream",
       "stream": "stdout",
       "text": [
        "\r",
        "8197000\r",
        "8198000\r",
        "8199000"
       ]
      },
      {
       "output_type": "stream",
       "stream": "stdout",
       "text": [
        "\r",
        "8200000\r",
        "8201000\r",
        "8202000\r",
        "8203000\r",
        "8204000\r",
        "8205000\r",
        "8206000"
       ]
      },
      {
       "output_type": "stream",
       "stream": "stdout",
       "text": [
        "\r",
        "8207000\r",
        "8208000\r",
        "8209000\r",
        "8210000\r",
        "8211000\r",
        "8212000\r",
        "8213000"
       ]
      },
      {
       "output_type": "stream",
       "stream": "stdout",
       "text": [
        "\r",
        "8214000\r",
        "8215000\r",
        "8216000\r",
        "8217000\r",
        "8218000\r",
        "8219000\r",
        "8220000\r",
        "8221000"
       ]
      },
      {
       "output_type": "stream",
       "stream": "stdout",
       "text": [
        "\r",
        "8222000\r",
        "8223000"
       ]
      },
      {
       "output_type": "stream",
       "stream": "stdout",
       "text": [
        "\r",
        "8224000\r",
        "8225000\r",
        "8226000\r",
        "8227000\r",
        "8228000\r",
        "8229000\r",
        "8230000\r",
        "8231000"
       ]
      },
      {
       "output_type": "stream",
       "stream": "stdout",
       "text": [
        "\r",
        "8232000\r",
        "8233000\r",
        "8234000\r",
        "8235000\r",
        "8236000\r",
        "8237000\r",
        "8238000"
       ]
      },
      {
       "output_type": "stream",
       "stream": "stdout",
       "text": [
        "\r",
        "8239000\r",
        "8240000\r",
        "8241000\r",
        "8242000\r",
        "8243000\r",
        "8244000\r",
        "8245000\r",
        "8246000"
       ]
      },
      {
       "output_type": "stream",
       "stream": "stdout",
       "text": [
        "\r",
        "8247000\r",
        "8248000"
       ]
      },
      {
       "output_type": "stream",
       "stream": "stdout",
       "text": [
        "\r",
        "8249000\r",
        "8250000\r",
        "8251000\r",
        "8252000\r",
        "8253000\r",
        "8254000\r",
        "8255000\r",
        "8256000"
       ]
      },
      {
       "output_type": "stream",
       "stream": "stdout",
       "text": [
        "\r",
        "8257000\r",
        "8258000\r",
        "8259000\r",
        "8260000\r",
        "8261000\r",
        "8262000\r",
        "8263000"
       ]
      },
      {
       "output_type": "stream",
       "stream": "stdout",
       "text": [
        "\r",
        "8264000\r",
        "8265000\r",
        "8266000\r",
        "8267000\r",
        "8268000\r",
        "8269000\r",
        "8270000\r",
        "8271000"
       ]
      },
      {
       "output_type": "stream",
       "stream": "stdout",
       "text": [
        "\r",
        "8272000"
       ]
      },
      {
       "output_type": "stream",
       "stream": "stdout",
       "text": [
        "\r",
        "8273000\r",
        "8274000\r",
        "8275000\r",
        "8276000\r",
        "8277000\r",
        "8278000\r",
        "8279000\r",
        "8280000"
       ]
      },
      {
       "output_type": "stream",
       "stream": "stdout",
       "text": [
        "\r",
        "8281000\r",
        "8282000\r",
        "8283000\r",
        "8284000\r",
        "8285000\r",
        "8286000\r",
        "8287000"
       ]
      },
      {
       "output_type": "stream",
       "stream": "stdout",
       "text": [
        "\r",
        "8288000\r",
        "8289000\r",
        "8290000\r",
        "8291000\r",
        "8292000\r",
        "8293000\r",
        "8294000\r",
        "8295000"
       ]
      },
      {
       "output_type": "stream",
       "stream": "stdout",
       "text": [
        "\r",
        "8296000\r",
        "8297000"
       ]
      },
      {
       "output_type": "stream",
       "stream": "stdout",
       "text": [
        "\r",
        "8298000\r",
        "8299000\r",
        "8300000\r",
        "8301000\r",
        "8302000\r",
        "8303000\r",
        "8304000\r",
        "8305000"
       ]
      },
      {
       "output_type": "stream",
       "stream": "stdout",
       "text": [
        "\r",
        "8306000\r",
        "8307000\r",
        "8308000\r",
        "8309000\r",
        "8310000\r",
        "8311000\r",
        "8312000"
       ]
      },
      {
       "output_type": "stream",
       "stream": "stdout",
       "text": [
        "\r",
        "8313000\r",
        "8314000\r",
        "8315000\r",
        "8316000\r",
        "8317000\r",
        "8318000\r",
        "8319000\r",
        "8320000"
       ]
      },
      {
       "output_type": "stream",
       "stream": "stdout",
       "text": [
        "\r",
        "8321000"
       ]
      },
      {
       "output_type": "stream",
       "stream": "stdout",
       "text": [
        "\r",
        "8322000\r",
        "8323000\r",
        "8324000\r",
        "8325000\r",
        "8326000\r",
        "8327000\r",
        "8328000\r",
        "8329000"
       ]
      },
      {
       "output_type": "stream",
       "stream": "stdout",
       "text": [
        "\r",
        "8330000\r",
        "8331000\r",
        "8332000\r",
        "8333000\r",
        "8334000\r",
        "8335000\r",
        "8336000"
       ]
      },
      {
       "output_type": "stream",
       "stream": "stdout",
       "text": [
        "\r",
        "8337000\r",
        "8338000\r",
        "8339000\r",
        "8340000\r",
        "8341000\r",
        "8342000\r",
        "8343000\r",
        "8344000"
       ]
      },
      {
       "output_type": "stream",
       "stream": "stdout",
       "text": [
        "\r",
        "8345000\r",
        "8346000"
       ]
      },
      {
       "output_type": "stream",
       "stream": "stdout",
       "text": [
        "\r",
        "8347000\r",
        "8348000\r",
        "8349000\r",
        "8350000\r",
        "8351000\r",
        "8352000\r",
        "8353000\r",
        "8354000"
       ]
      },
      {
       "output_type": "stream",
       "stream": "stdout",
       "text": [
        "\r",
        "8355000\r",
        "8356000\r",
        "8357000\r",
        "8358000\r",
        "8359000\r",
        "8360000\r",
        "8361000"
       ]
      },
      {
       "output_type": "stream",
       "stream": "stdout",
       "text": [
        "\r",
        "8362000\r",
        "8363000\r",
        "8364000\r",
        "8365000\r",
        "8366000\r",
        "8367000\r",
        "8368000\r",
        "8369000"
       ]
      },
      {
       "output_type": "stream",
       "stream": "stdout",
       "text": [
        "\r",
        "8370000"
       ]
      },
      {
       "output_type": "stream",
       "stream": "stdout",
       "text": [
        "\r",
        "8371000\r",
        "8372000\r",
        "8373000\r",
        "8374000\r",
        "8375000\r",
        "8376000\r",
        "8377000\r",
        "8378000"
       ]
      },
      {
       "output_type": "stream",
       "stream": "stdout",
       "text": [
        "\r",
        "8379000\r",
        "8380000\r",
        "8381000\r",
        "8382000\r",
        "8383000\r",
        "8384000\r",
        "8385000"
       ]
      },
      {
       "output_type": "stream",
       "stream": "stdout",
       "text": [
        "\r",
        "8386000\r",
        "8387000\r",
        "8388000\r",
        "8389000\r",
        "8390000\r",
        "8391000\r",
        "8392000\r",
        "8393000"
       ]
      },
      {
       "output_type": "stream",
       "stream": "stdout",
       "text": [
        "\r",
        "8394000\r",
        "8395000"
       ]
      },
      {
       "output_type": "stream",
       "stream": "stdout",
       "text": [
        "\r",
        "8396000\r",
        "8397000\r",
        "8398000\r",
        "8399000\r",
        "8400000\r",
        "8401000\r",
        "8402000\r",
        "8403000"
       ]
      },
      {
       "output_type": "stream",
       "stream": "stdout",
       "text": [
        "\r",
        "8404000\r",
        "8405000\r",
        "8406000\r",
        "8407000\r",
        "8408000\r",
        "8409000\r",
        "8410000"
       ]
      },
      {
       "output_type": "stream",
       "stream": "stdout",
       "text": [
        "\r",
        "8411000\r",
        "8412000\r",
        "8413000\r",
        "8414000\r",
        "8415000\r",
        "8416000\r",
        "8417000\r",
        "8418000"
       ]
      },
      {
       "output_type": "stream",
       "stream": "stdout",
       "text": [
        "\r",
        "8419000"
       ]
      },
      {
       "output_type": "stream",
       "stream": "stdout",
       "text": [
        "\r",
        "8420000\r",
        "8421000\r",
        "8422000\r",
        "8423000\r",
        "8424000\r",
        "8425000\r",
        "8426000\r",
        "8427000"
       ]
      },
      {
       "output_type": "stream",
       "stream": "stdout",
       "text": [
        "\r",
        "8428000\r",
        "8429000\r",
        "8430000\r",
        "8431000\r",
        "8432000\r",
        "8433000\r",
        "8434000"
       ]
      },
      {
       "output_type": "stream",
       "stream": "stdout",
       "text": [
        "\r",
        "8435000\r",
        "8436000\r",
        "8437000\r",
        "8438000\r",
        "8439000\r",
        "8440000\r",
        "8441000\r",
        "8442000"
       ]
      },
      {
       "output_type": "stream",
       "stream": "stdout",
       "text": [
        "\r",
        "8443000\r",
        "8444000"
       ]
      },
      {
       "output_type": "stream",
       "stream": "stdout",
       "text": [
        "\r",
        "8445000\r",
        "8446000\r",
        "8447000\r",
        "8448000\r",
        "8449000\r",
        "8450000\r",
        "8451000\r",
        "8452000"
       ]
      },
      {
       "output_type": "stream",
       "stream": "stdout",
       "text": [
        "\r",
        "8453000\r",
        "8454000\r",
        "8455000\r",
        "8456000\r",
        "8457000\r",
        "8458000\r",
        "8459000"
       ]
      },
      {
       "output_type": "stream",
       "stream": "stdout",
       "text": [
        "\r",
        "8460000\r",
        "8461000\r",
        "8462000\r",
        "8463000\r",
        "8464000\r",
        "8465000\r",
        "8466000"
       ]
      },
      {
       "output_type": "stream",
       "stream": "stdout",
       "text": [
        "\r",
        "8467000\r",
        "8468000\r",
        "8469000"
       ]
      },
      {
       "output_type": "stream",
       "stream": "stdout",
       "text": [
        "\r",
        "8470000\r",
        "8471000\r",
        "8472000\r",
        "8473000\r",
        "8474000\r",
        "8475000\r",
        "8476000\r",
        "8477000"
       ]
      },
      {
       "output_type": "stream",
       "stream": "stdout",
       "text": [
        "\r",
        "8478000\r",
        "8479000\r",
        "8480000\r",
        "8481000\r",
        "8482000\r",
        "8483000\r",
        "8484000"
       ]
      },
      {
       "output_type": "stream",
       "stream": "stdout",
       "text": [
        "\r",
        "8485000\r",
        "8486000\r",
        "8487000\r",
        "8488000\r",
        "8489000\r",
        "8490000\r",
        "8491000"
       ]
      },
      {
       "output_type": "stream",
       "stream": "stdout",
       "text": [
        "\r",
        "8492000\r",
        "8493000"
       ]
      },
      {
       "output_type": "stream",
       "stream": "stdout",
       "text": [
        "\r",
        "8494000\r",
        "8495000\r",
        "8496000\r",
        "8497000\r",
        "8498000\r",
        "8499000\r",
        "8500000\r",
        "8501000"
       ]
      },
      {
       "output_type": "stream",
       "stream": "stdout",
       "text": [
        "\r",
        "8502000\r",
        "8503000\r",
        "8504000\r",
        "8505000\r",
        "8506000\r",
        "8507000\r",
        "8508000"
       ]
      },
      {
       "output_type": "stream",
       "stream": "stdout",
       "text": [
        "\r",
        "8509000\r",
        "8510000\r",
        "8511000\r",
        "8512000\r",
        "8513000\r",
        "8514000\r",
        "8515000\r",
        "8516000"
       ]
      },
      {
       "output_type": "stream",
       "stream": "stdout",
       "text": [
        "\r",
        "8517000\r",
        "8518000"
       ]
      },
      {
       "output_type": "stream",
       "stream": "stdout",
       "text": [
        "\r",
        "8519000\r",
        "8520000\r",
        "8521000\r",
        "8522000\r",
        "8523000\r",
        "8524000\r",
        "8525000\r",
        "8526000"
       ]
      },
      {
       "output_type": "stream",
       "stream": "stdout",
       "text": [
        "\r",
        "8527000\r",
        "8528000\r",
        "8529000\r",
        "8530000\r",
        "8531000\r",
        "8532000\r",
        "8533000"
       ]
      },
      {
       "output_type": "stream",
       "stream": "stdout",
       "text": [
        "\r",
        "8534000\r",
        "8535000\r",
        "8536000\r",
        "8537000\r",
        "8538000\r",
        "8539000\r",
        "8540000\r",
        "8541000"
       ]
      },
      {
       "output_type": "stream",
       "stream": "stdout",
       "text": [
        "\r",
        "8542000"
       ]
      },
      {
       "output_type": "stream",
       "stream": "stdout",
       "text": [
        "\r",
        "8543000\r",
        "8544000\r",
        "8545000\r",
        "8546000\r",
        "8547000\r",
        "8548000\r",
        "8549000\r",
        "8550000"
       ]
      },
      {
       "output_type": "stream",
       "stream": "stdout",
       "text": [
        "\r",
        "8551000\r",
        "8552000\r",
        "8553000\r",
        "8554000\r",
        "8555000\r",
        "8556000\r",
        "8557000"
       ]
      },
      {
       "output_type": "stream",
       "stream": "stdout",
       "text": [
        "\r",
        "8558000\r",
        "8559000\r",
        "8560000\r",
        "8561000\r",
        "8562000\r",
        "8563000\r",
        "8564000\r",
        "8565000"
       ]
      },
      {
       "output_type": "stream",
       "stream": "stdout",
       "text": [
        "\r",
        "8566000\r",
        "8567000"
       ]
      },
      {
       "output_type": "stream",
       "stream": "stdout",
       "text": [
        "\r",
        "8568000\r",
        "8569000\r",
        "8570000\r",
        "8571000\r",
        "8572000\r",
        "8573000\r",
        "8574000\r",
        "8575000"
       ]
      },
      {
       "output_type": "stream",
       "stream": "stdout",
       "text": [
        "\r",
        "8576000\r",
        "8577000\r",
        "8578000\r",
        "8579000\r",
        "8580000\r",
        "8581000\r",
        "8582000"
       ]
      },
      {
       "output_type": "stream",
       "stream": "stdout",
       "text": [
        "\r",
        "8583000\r",
        "8584000\r",
        "8585000\r",
        "8586000\r",
        "8587000\r",
        "8588000\r",
        "8589000\r",
        "8590000"
       ]
      },
      {
       "output_type": "stream",
       "stream": "stdout",
       "text": [
        "\r",
        "8591000"
       ]
      },
      {
       "output_type": "stream",
       "stream": "stdout",
       "text": [
        "\r",
        "8592000\r",
        "8593000\r",
        "8594000\r",
        "8595000\r",
        "8596000\r",
        "8597000\r",
        "8598000\r",
        "8599000"
       ]
      },
      {
       "output_type": "stream",
       "stream": "stdout",
       "text": [
        "\r",
        "8600000\r",
        "8601000\r",
        "8602000\r",
        "8603000\r",
        "8604000\r",
        "8605000\r",
        "8606000"
       ]
      },
      {
       "output_type": "stream",
       "stream": "stdout",
       "text": [
        "\r",
        "8607000\r",
        "8608000\r",
        "8609000\r",
        "8610000\r",
        "8611000\r",
        "8612000\r",
        "8613000\r",
        "8614000"
       ]
      },
      {
       "output_type": "stream",
       "stream": "stdout",
       "text": [
        "\r",
        "8615000\r",
        "8616000"
       ]
      },
      {
       "output_type": "stream",
       "stream": "stdout",
       "text": [
        "\r",
        "8617000\r",
        "8618000\r",
        "8619000\r",
        "8620000\r",
        "8621000\r",
        "8622000\r",
        "8623000\r",
        "8624000"
       ]
      },
      {
       "output_type": "stream",
       "stream": "stdout",
       "text": [
        "\r",
        "8625000\r",
        "8626000\r",
        "8627000\r",
        "8628000\r",
        "8629000\r",
        "8630000\r",
        "8631000"
       ]
      },
      {
       "output_type": "stream",
       "stream": "stdout",
       "text": [
        "\r",
        "8632000\r",
        "8633000\r",
        "8634000\r",
        "8635000\r",
        "8636000\r",
        "8637000\r",
        "8638000\r",
        "8639000"
       ]
      },
      {
       "output_type": "stream",
       "stream": "stdout",
       "text": [
        "\r",
        "8640000"
       ]
      },
      {
       "output_type": "stream",
       "stream": "stdout",
       "text": [
        "\r",
        "8641000\r",
        "8642000\r",
        "8643000\r",
        "8644000\r",
        "8645000\r",
        "8646000\r",
        "8647000\r",
        "8648000"
       ]
      },
      {
       "output_type": "stream",
       "stream": "stdout",
       "text": [
        "\r",
        "8649000\r",
        "8650000\r",
        "8651000\r",
        "8652000\r",
        "8653000\r",
        "8654000\r",
        "8655000"
       ]
      },
      {
       "output_type": "stream",
       "stream": "stdout",
       "text": [
        "\r",
        "8656000\r",
        "8657000\r",
        "8658000\r",
        "8659000\r",
        "8660000\r",
        "8661000\r",
        "8662000\r",
        "8663000"
       ]
      },
      {
       "output_type": "stream",
       "stream": "stdout",
       "text": [
        "\r",
        "8664000"
       ]
      },
      {
       "output_type": "stream",
       "stream": "stdout",
       "text": [
        "\r",
        "8665000\r",
        "8666000\r",
        "8667000\r",
        "8668000\r",
        "8669000\r",
        "8670000\r",
        "8671000\r",
        "8672000"
       ]
      },
      {
       "output_type": "stream",
       "stream": "stdout",
       "text": [
        "\r",
        "8673000\r",
        "8674000\r",
        "8675000\r",
        "8676000\r",
        "8677000\r",
        "8678000\r",
        "8679000"
       ]
      },
      {
       "output_type": "stream",
       "stream": "stdout",
       "text": [
        "\r",
        "8680000\r",
        "8681000\r",
        "8682000\r",
        "8683000\r",
        "8684000\r",
        "8685000\r",
        "8686000\r",
        "8687000"
       ]
      },
      {
       "output_type": "stream",
       "stream": "stdout",
       "text": [
        "\r",
        "8688000\r",
        "8689000"
       ]
      },
      {
       "output_type": "stream",
       "stream": "stdout",
       "text": [
        "\r",
        "8690000\r",
        "8691000\r",
        "8692000\r",
        "8693000\r",
        "8694000\r",
        "8695000\r",
        "8696000\r",
        "8697000"
       ]
      },
      {
       "output_type": "stream",
       "stream": "stdout",
       "text": [
        "\r",
        "8698000\r",
        "8699000\r",
        "8700000\r",
        "8701000\r",
        "8702000\r",
        "8703000\r",
        "8704000"
       ]
      },
      {
       "output_type": "stream",
       "stream": "stdout",
       "text": [
        "\r",
        "8705000\r",
        "8706000\r",
        "8707000\r",
        "8708000\r",
        "8709000\r",
        "8710000\r",
        "8711000\r",
        "8712000"
       ]
      },
      {
       "output_type": "stream",
       "stream": "stdout",
       "text": [
        "\r",
        "8713000"
       ]
      },
      {
       "output_type": "stream",
       "stream": "stdout",
       "text": [
        "\r",
        "8714000\r",
        "8715000\r",
        "8716000\r",
        "8717000\r",
        "8718000\r",
        "8719000\r",
        "8720000\r",
        "8721000"
       ]
      },
      {
       "output_type": "stream",
       "stream": "stdout",
       "text": [
        "\r",
        "8722000\r",
        "8723000\r",
        "8724000\r",
        "8725000\r",
        "8726000\r",
        "8727000\r",
        "8728000"
       ]
      },
      {
       "output_type": "stream",
       "stream": "stdout",
       "text": [
        "\r",
        "8729000\r",
        "8730000\r",
        "8731000\r",
        "8732000\r",
        "8733000\r",
        "8734000\r",
        "8735000\r"
       ]
      }
     ],
     "prompt_number": 66
    },
    {
     "cell_type": "code",
     "collapsed": false,
     "input": [
      "with open('velocities.pkl', 'rb') as velocities_file:\n",
      "    velocities = pickle.load(velocities_file)\n",
      "\n",
      "date_times, dist = zip(*velocities)\n",
      "del velocities"
     ],
     "language": "python",
     "metadata": {},
     "outputs": [],
     "prompt_number": 4
    },
    {
     "cell_type": "code",
     "collapsed": false,
     "input": [
      "n, bins, patchs = plt.hist(dist, bins=25, range=(0,20))\n",
      "t = plt.title('Aggregated TTC Vehicles Velocities')\n",
      "plt.xlabel('Velocity (m/s)')\n",
      "plt.ylabel(\"Number of Vehicle-Time Points\")"
     ],
     "language": "python",
     "metadata": {},
     "outputs": [
      {
       "metadata": {},
       "output_type": "pyout",
       "prompt_number": 27,
       "text": [
        "<matplotlib.text.Text at 0x7f8d425400f0>"
       ]
      },
      {
       "metadata": {},
       "output_type": "display_data",
       "png": "[encoded data removed]",
       "text": [
        "<matplotlib.figure.Figure at 0x7f8d3cbffba8>"
       ]
      }
     ],
     "prompt_number": 27
    },
    {
     "cell_type": "code",
     "collapsed": true,
     "input": [
      "velocities_pd = pd.DataFrame({'date_times': date_times,\n",
      "                              'velocity': dist})\n",
      "print(velocities_pd['velocity'].describe())\n",
      "print(\"IQR:\", interquartile_range(velocities_pd['velocity']))\n",
      "print(\"Pearson's Index: \", pearsons_index(velocities_pd['velocity']))\n",
      "print(\"Range: \", data_range(velocities_pd['velocity']))"
     ],
     "language": "python",
     "metadata": {},
     "outputs": [
      {
       "output_type": "stream",
       "stream": "stdout",
       "text": [
        "count    8735310.000000\n",
        "mean           5.363947\n",
        "std           19.412805\n",
        "min            0.000000\n",
        "25%            2.230395\n",
        "50%            4.529046\n",
        "75%            6.747218\n",
        "max        11713.119951\n",
        "Name: velocity, dtype: float64\n",
        "IQR:"
       ]
      },
      {
       "output_type": "stream",
       "stream": "stdout",
       "text": [
        " 4.51682350164\n",
        "Pearson's Index: "
       ]
      },
      {
       "output_type": "stream",
       "stream": "stdout",
       "text": [
        " 0.129023176137\n",
        "Range: "
       ]
      },
      {
       "output_type": "stream",
       "stream": "stdout",
       "text": [
        " 11713.1199507\n"
       ]
      }
     ],
     "prompt_number": 31
    },
    {
     "cell_type": "markdown",
     "metadata": {},
     "source": [
      "Clearly, a vehicle with a velocity of 11,713 m/s makes no sense (unless the TTC has a space program. For comparison, the ISS orbits at 7,000 m/s). Like before, let's take out the outliers."
     ]
    },
    {
     "cell_type": "code",
     "collapsed": false,
     "input": [
      "outlier_b, outlier_t = outlier_range(velocities_pd['velocity'])\n",
      "velocities_series = pd.Series(\n",
      "    [x for x in velocities_pd['velocity'] if x >= outlier_b and x <= outlier_t])\n",
      "\n",
      "n, bins, patchs = plt.hist(velocities_series, bins=25, range=(0,20))\n",
      "t = plt.title('Aggregated TTC Vehicles Velocities')\n",
      "plt.xlabel('Velocity (m/s)')\n",
      "plt.ylabel(\"Number of Vehicle-Time Points\")\n",
      "\n",
      "print(velocities_series.describe())\n",
      "print(\"IQR:\", interquartile_range(velocities_series))\n",
      "print(\"Pearson's Index: \", pearsons_index(velocities_series))\n",
      "print(\"Range: \", data_range(velocities_series))"
     ],
     "language": "python",
     "metadata": {},
     "outputs": [
      {
       "output_type": "stream",
       "stream": "stdout",
       "text": [
        "count    8617369.000000\n",
        "mean           4.550967\n",
        "std            3.079863\n",
        "min            0.000000\n",
        "25%            2.187578\n",
        "50%            4.475319\n",
        "75%            6.643428\n",
        "max           13.522408\n",
        "dtype: float64\n",
        "IQR:"
       ]
      },
      {
       "output_type": "stream",
       "stream": "stdout",
       "text": [
        " 4.45584987475\n",
        "Pearson's Index: "
       ]
      },
      {
       "output_type": "stream",
       "stream": "stdout",
       "text": [
        " 0.0736866892983\n",
        "Range: "
       ]
      },
      {
       "output_type": "stream",
       "stream": "stdout",
       "text": [
        " 13.5224079069\n"
       ]
      },
      {
       "metadata": {},
       "output_type": "display_data",
       "png": "[encoded data removed]",
       "text": [
        "<matplotlib.figure.Figure at 0x7f8d42638dd8>"
       ]
      }
     ],
     "prompt_number": 35
    },
    {
     "cell_type": "markdown",
     "metadata": {},
     "source": [
      "As Pearson's Index indicates, there is slight right-skewing, but not very much. The range of the data is surprisingly small (after outliers were removed), from 0m/s (0km/h) to 13.5m/s (48.6km/h). Overall, the data is mostly mound-shaped and normal, except for a strong mode at 0 (likely due to resting vehicles / drivers) and a slight right skew."
     ]
    },
    {
     "cell_type": "code",
     "collapsed": false,
     "input": [
      "velocity_moving_average = ([],[])\n",
      "i = 0\n",
      "while i < len(velocities_pd):\n",
      "    start_point = velocities_pd.iloc[i]\n",
      "    t_start = start_point['date_times']\n",
      "    t_end = t_start + 1000 * 60 * 15  # fifteen minute moving averages\n",
      "    s = 0\n",
      "    n = 0\n",
      "    while i < len(velocities_pd) and velocities_pd['date_times'][i] < t_end:\n",
      "        this_point = velocities_pd.iloc[i]\n",
      "        v = this_point['velocity']\n",
      "        if v <= outlier_t and v >= outlier_b:\n",
      "            s += v\n",
      "            n += 1\n",
      "        i += 100  # sample every 100th point for speed\n",
      "    if n != 0:\n",
      "        avg_vel = s / n\n",
      "        velocity_moving_average[0].append(t_start)\n",
      "        velocity_moving_average[1].append(avg_vel)\n",
      "    i += 1    "
     ],
     "language": "python",
     "metadata": {},
     "outputs": [],
     "prompt_number": 36
    },
    {
     "cell_type": "code",
     "collapsed": false,
     "input": [
      "date_times_gen = [datetime.fromtimestamp(x // 1000, tz=tz) for x in velocity_moving_average[0]]\n",
      "\n",
      "fig, axes = plt.subplots()\n",
      "fig.set_size_inches(8,6)\n",
      "days = DayLocator(interval=2)\n",
      "formatter = DateFormatter('%b %d')\n",
      "axes.plot_date(date_times_gen,velocity_moving_average[1], 'b.')\n",
      "axes.xaxis.set_major_locator(days)\n",
      "axes.xaxis.set_major_formatter(formatter)\n",
      "axes.set_xlabel('Date')\n",
      "axes.set_ylabel('Average Velocity (m/s)')\n",
      "axes.set_title('Velocity of TTC Vehicles Measured Over Time')\n",
      "plt.show()"
     ],
     "language": "python",
     "metadata": {},
     "outputs": [
      {
       "metadata": {},
       "output_type": "display_data",
       "png": "[encoded data removed]",
       "text": [
        "<matplotlib.figure.Figure at 0x7f8d41dc07b8>"
       ]
      }
     ],
     "prompt_number": 62
    },
    {
     "cell_type": "markdown",
     "metadata": {},
     "source": [
      "This clearly shows that the moving average velocity of vehicles is periodic, but it's hard to see from this plot when. Let's look specifically at the time of day and ignore the date."
     ]
    },
    {
     "cell_type": "code",
     "collapsed": false,
     "input": [
      "times_gen = [x.timetz() for x in date_times_gen]\n",
      "fig, axes = plt.subplots()\n",
      "fig.set_size_inches(8,6)\n",
      "axes.plot(times_gen,velocity_moving_average[1], 'b.')\n",
      "axes.set_xlabel('Time')\n",
      "axes.set_ylabel('Average Velocity (m/s)')\n",
      "axes.set_title('Velocity of TTC Vehicles Measured Over a Day')\n",
      "plt.show()"
     ],
     "language": "python",
     "metadata": {},
     "outputs": [
      {
       "metadata": {},
       "output_type": "display_data",
       "png": "[encoded data removed]",
       "text": [
        "<matplotlib.figure.Figure at 0x7f8d4204cf98>"
       ]
      }
     ],
     "prompt_number": 63
    },
    {
     "cell_type": "markdown",
     "metadata": {},
     "source": [
      "Interestingly, the TTC has its vehicles at the fastest very late at night. This is likely because there is little traffic and also much fewer other TTC vehicles, so they do not have to maintain as far of a spacing. As well, there are much fewer people at these hours, so vehicles do not have to make as frequent stops. However, there is also much higher variance, likely due to vehicles being ahead of schedule and making long stops in order to synchronize.\n",
      "\n",
      "Overall through the day, TTC vehicles appear to be mostly uniform in speed, with an overall median speed of 4.5 m/s, or approximately 16km/h. This is remarkably slower than expected, since most streets have a speed limit of between 40km/h and 80km/h. "
     ]
    },
    {
     "cell_type": "heading",
     "level": 3,
     "metadata": {},
     "source": [
      "Correlating Velocities and Busyness"
     ]
    },
    {
     "cell_type": "markdown",
     "metadata": {},
     "source": [
      "Finally, let's see if there are any correlations between velocity and busyness (measured by number of buses.)"
     ]
    },
    {
     "cell_type": "code",
     "collapsed": false,
     "input": [
      "for i in range(len(velocity_moving_average[0])):\n",
      "    ts = velocity_moving_average[0][i]\n",
      "    vel = velocity_moving_average[1][i]\n",
      "    "
     ],
     "language": "python",
     "metadata": {},
     "outputs": []
    }
   ],
   "metadata": {}
  }
 ]
}
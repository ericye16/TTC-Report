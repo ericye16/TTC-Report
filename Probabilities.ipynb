{
 "metadata": {
  "name": "",
  "signature": "sha256:dacc0adcbecaa48ac358be1f61d377eab434f4d0c3a774e71d482871b9ae64ac"
 },
 "nbformat": 3,
 "nbformat_minor": 0,
 "worksheets": [
  {
   "cells": [
    {
     "cell_type": "heading",
     "level": 1,
     "metadata": {},
     "source": [
      "Probabilities"
     ]
    },
    {
     "cell_type": "markdown",
     "metadata": {},
     "source": [
      "By: Eric Ye"
     ]
    },
    {
     "cell_type": "heading",
     "level": 2,
     "metadata": {},
     "source": [
      "1."
     ]
    },
    {
     "cell_type": "markdown",
     "metadata": {},
     "source": [
      "You are trying to make a trip to the Toronto Island. You realize you forgot to look up the exact set of routes to get there, but you know that it involves two transfers (three routes). You also know that each route has equal probability of occuring. If the probability of having a bus route is 80.8%, the probability of a subway route is 6.0% and the probability of a streetcar route is 13.2%, what is the probability that your final trip involves one or more streetcars?"
     ]
    },
    {
     "cell_type": "markdown",
     "metadata": {},
     "source": [
      "Solution: Since the probability of having one or more streetcars is equal to 1 - the probability of having zero streetcars, we can find the probabilility of having zero streetcars. This is equal to $P(\\textrm{streetcars}) = (P(subway) + P(bus))^3 = 65.4\\%$. So $P(\\textrm{one or more streetcars}) = 1 - P(\\textrm{no streetcars}) = 34.6\\%$."
     ]
    },
    {
     "cell_type": "heading",
     "level": 2,
     "metadata": {},
     "source": [
      "2."
     ]
    },
    {
     "cell_type": "markdown",
     "metadata": {},
     "source": [
      "You realize that you missed the bus/streetcar that you were trying to catch, but the likelihood that you'll be late is inversely proportional to the number of trips the route has (since the more trips a route has, the more frequently they come.) If the number of trips per route is normally distributed with $\\mu = 597.156069$ and $\\sigma = 445.952944$, what is the probability that the route has 700 or more trips?"
     ]
    },
    {
     "cell_type": "markdown",
     "metadata": {},
     "source": [
      "Solution: First, we find the z-score.\n",
      "$z = \\frac{x - \\mu}{\\sigma}$\n",
      "\n",
      "Thus, $P(x \\ge 700) = P(x \\gt 699.5)$. Then the z-score is equal to 0.2295.\n",
      "Looking at the z-score table, we find that a z-score of 0.2306 corresponds to $P(z>0.2285) = 40.92\\%$."
     ]
    },
    {
     "cell_type": "heading",
     "level": 2,
     "metadata": {},
     "source": [
      "3."
     ]
    },
    {
     "cell_type": "markdown",
     "metadata": {},
     "source": [
      "Using the same probabilities as in question 1, if 400 Torontonians used one route on TTC, how many would you expect to have gone on a subway route? Assume (perhaps incorrectly) that Torontonians use all routes with an equal probability."
     ]
    },
    {
     "cell_type": "markdown",
     "metadata": {},
     "source": [
      "Solution:\n",
      "\n",
      "$$E(x) = np$$\n",
      "\n",
      "Since we are looking for the probability of a subway route, $p = 6.0\\%$. Then $E(x) = (400)(0.060) = 24$.\n",
      "\n",
      "We would expect 24 people to have ridden on a subway route."
     ]
    },
    {
     "cell_type": "heading",
     "level": 2,
     "metadata": {},
     "source": [
      "4."
     ]
    },
    {
     "cell_type": "markdown",
     "metadata": {},
     "source": [
      "Using the same probabilities and assumptions as in questions 1 and 3, how many routes would you have to go on before you'd expect to ride the subway?"
     ]
    },
    {
     "cell_type": "markdown",
     "metadata": {},
     "source": [
      "Solution: Since waiting time $E(x) = \\frac{q}{p}$, then $E(x) = \\frac{94.0\\%}{6.0\\%} \\approx 16$. You'd expect to go on 16 routes before riding on the subway."
     ]
    }
   ],
   "metadata": {}
  }
 ]
}
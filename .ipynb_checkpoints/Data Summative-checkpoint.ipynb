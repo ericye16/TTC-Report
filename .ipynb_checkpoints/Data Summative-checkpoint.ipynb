{
 "metadata": {
  "name": "",
  "signature": "sha256:325eea9e00fc77bbb60266bf0681fcb6d02a574ad8701c66e8fc113aa5f08630"
 },
 "nbformat": 3,
 "nbformat_minor": 0,
 "worksheets": [
  {
   "cells": [
    {
     "cell_type": "heading",
     "level": 1,
     "metadata": {},
     "source": [
      "IPython Notebook to Analyze Static and Real-Time Data on Toronto's Public Transportation System"
     ]
    },
    {
     "cell_type": "markdown",
     "metadata": {},
     "source": [
      "This is a project by [Eric Ye](https://ericye16.com/). (c) 2014, All Rights Reserved until further notice."
     ]
    },
    {
     "cell_type": "markdown",
     "metadata": {},
     "source": [
      "A nice thing about living in Toronto is that the TTC (Toronto Transit Commission) offers data on their bus and streetcar schedules, stops, and routes to the general public. They offer it both in static, six-week-block form in [Google Transit Feed Specification format](https://developers.google.com/transit/gtfs/) [here](http://www1.toronto.ca/wps/portal/contentonly?vgnextoid=96f236899e02b210VgnVCM1000003dd60f89RCRD&vgnextchannel=1a66e03bb8d1e310VgnVCM10000071d60f89RCRD), as well as real-time data from their Next Vehicle Arrival System [here](http://www1.toronto.ca/wps/portal/contentonly?vgnextoid=4427790e6f21d210VgnVCM1000003dd60f89RCRD&vgnextchannel=1a66e03bb8d1e310VgnVCM10000071d60f89RCRD).\n",
      "\n",
      "Combining the two, a good deal of data could be collected and analyzed."
     ]
    },
    {
     "cell_type": "heading",
     "level": 2,
     "metadata": {},
     "source": [
      "Routes and Trips"
     ]
    },
    {
     "cell_type": "markdown",
     "metadata": {},
     "source": [
      "The first thing that I wanted to do was to see which routes have more trips, which would give us a rough estimate of which routes are most busy. Of course, this has a few issues (some routes with more trips may simply be shorter in length) but it's a good start. We don't need `Stops` yet, technically, but it's nice to get our class definitions out of the way."
     ]
    },
    {
     "cell_type": "markdown",
     "metadata": {},
     "source": [
      "Let's get our imports out of the way, and define what routes, trips, and stops are."
     ]
    },
    {
     "cell_type": "code",
     "collapsed": false,
     "input": [
      "%matplotlib inline\n",
      "import csv\n",
      "import pandas as pd\n",
      "import numpy as np\n",
      "import matplotlib.pyplot as plt\n",
      "\n",
      "class Route:\n",
      "    def __init__(self, route_id, route_short_name, route_long_name, route_type):\n",
      "        self.route_id = route_id\n",
      "        self.route_short_name = route_short_name\n",
      "        self.route_long_name = route_long_name\n",
      "        self.route_type = route_type\n",
      "        self.trips = {}\n",
      "\n",
      "    def __repr__(self):\n",
      "        return \"Route(%s,%s,%s,%s)\" % (self.route_id, self.route_short_name,\n",
      "                                       self.route_long_name, self.route_type)\n",
      "\n",
      "\n",
      "class Trip:\n",
      "    def __init__(self, trip_id, service_id, trip_headsign):\n",
      "        self.trip_id = trip_id\n",
      "        self.service_id = service_id\n",
      "        self.trip_headsign = trip_headsign\n",
      "        self.stops = {}\n",
      "\n",
      "    def __repr__(self):\n",
      "        return \"Trip(%s,%s,%s)\" % (self.trip_id, self.service_id,\n",
      "                                   self.trip_headsign)\n",
      "\n",
      "\n",
      "class Stop:\n",
      "    def __init__(self, stop_id, stop_name, stop_lat, stop_lon):\n",
      "        self.stop_id = stop_id\n",
      "        self.stop_name = stop_name\n",
      "        self.stop_lat = stop_lat\n",
      "        self.stop_lon = stop_lon\n",
      "\n",
      "    def __repr__(self):\n",
      "        return \"Stop(%s,%s,%s,%s)\" % (self.stop_id, self.stop_name, self.stop_lat,\n",
      "                                      self.stop_lon)"
     ],
     "language": "python",
     "metadata": {},
     "outputs": [],
     "prompt_number": 2
    },
    {
     "cell_type": "markdown",
     "metadata": {},
     "source": [
      "Download the data from [here](http://www1.toronto.ca/wps/portal/contentonly?vgnextoid=96f236899e02b210VgnVCM1000003dd60f89RCRD&vgnextchannel=1a66e03bb8d1e310VgnVCM10000071d60f89RCRD), extract, and place the files in a folder called \"schedules\". In it, you should see the files:\n",
      "\n",
      "    $ ls schedules/\n",
      "    agency.txt    routes.txt  stops.txt       trips.txt\n",
      "    calendar.txt  shapes.txt  stop_times.txt\n",
      "\n",
      "We don't use all of these files, but it's good to have them nonetheless."
     ]
    },
    {
     "cell_type": "markdown",
     "metadata": {},
     "source": [
      "Let's start by opening and parsing the `routes.txt` file. This should give us a list of all the routes in the TTC, which we can use for later analysis."
     ]
    },
    {
     "cell_type": "code",
     "collapsed": false,
     "input": [
      "routes_list = {}\n",
      "with open('schedules/routes.txt') as routes_file: \n",
      "    routes_csv = csv.reader(routes_file)\n",
      "    next(routes_csv)  # skip header\n",
      "    for route in routes_csv:\n",
      "        route_id =int(route[0])\n",
      "        route_short_name = route[2]\n",
      "        route_long_name = route[3]\n",
      "        route_type = int(route[5])\n",
      "        routes_list[route_id] = Route(route_id, route_short_name,\n",
      "                                      route_long_name, route_type)"
     ],
     "language": "python",
     "metadata": {},
     "outputs": [],
     "prompt_number": 3
    },
    {
     "cell_type": "markdown",
     "metadata": {},
     "source": [
      "Next the `trips.txt` file. This'll tell us what trips each route has. For each trip we find, we'll attach it to a list associated with the route it belongs to."
     ]
    },
    {
     "cell_type": "code",
     "collapsed": false,
     "input": [
      "with open('schedules/trips.txt') as trips_file:\n",
      "    trips_csv = csv.reader(trips_file)\n",
      "    next(trips_file)\n",
      "    for trip in trips_csv:\n",
      "        route_id = int(trip[0])\n",
      "        service_id =int(trip[1])\n",
      "        trip_id = int(trip[2])\n",
      "        trip_headsign = trip[3]\n",
      "        route = routes_list[route_id]\n",
      "        route.trips[trip_id] = Trip(trip_id, service_id, trip_headsign)"
     ],
     "language": "python",
     "metadata": {},
     "outputs": [],
     "prompt_number": 4
    },
    {
     "cell_type": "markdown",
     "metadata": {},
     "source": [
      "Now let's go ahead and analyze the data we have. We'll start by putting together tuples of routes and the number of trips they have, then plotting them to see their frequencies."
     ]
    },
    {
     "cell_type": "code",
     "collapsed": false,
     "input": [
      "## Distribution of trips vs routes\n",
      "trips_freq = []\n",
      "for route in routes_list.values():\n",
      "    trips_freq.append((route.route_short_name, len(route.trips)))\n",
      "trips_series = pd.Series([x[1] for x in trips_freq])\n",
      "print(trips_series.describe())"
     ],
     "language": "python",
     "metadata": {},
     "outputs": [
      {
       "output_type": "stream",
       "stream": "stdout",
       "text": [
        "count     182.000000\n",
        "mean      689.664835\n",
        "std       622.333137\n",
        "min        13.000000\n",
        "25%       275.750000\n",
        "50%       554.000000\n",
        "75%       945.000000\n",
        "max      4696.000000\n",
        "dtype: float64\n"
       ]
      }
     ],
     "prompt_number": 5
    },
    {
     "cell_type": "markdown",
     "metadata": {},
     "source": [
      "That's pretty interesting, but still doesn't give us very much. Let's add in the definition of Pearson's Index, according to our data class."
     ]
    },
    {
     "cell_type": "code",
     "collapsed": false,
     "input": [
      "def pearsons_index(series):\n",
      "    return 3 * (series.mean() - series.median()) / series.std()"
     ],
     "language": "python",
     "metadata": {},
     "outputs": [],
     "prompt_number": 6
    },
    {
     "cell_type": "code",
     "collapsed": false,
     "input": [
      "print(\"Pearson's: %s\" % pearsons_index(trips_series))"
     ],
     "language": "python",
     "metadata": {},
     "outputs": [
      {
       "output_type": "stream",
       "stream": "stdout",
       "text": [
        "Pearson's: 0.653981736266\n"
       ]
      }
     ],
     "prompt_number": 7
    },
    {
     "cell_type": "markdown",
     "metadata": {},
     "source": [
      "According to the Pearson's Index, it would appear that the distribution of trips over routes is right-skewed, but not very much. Let's see the plot to make sure."
     ]
    },
    {
     "cell_type": "code",
     "collapsed": false,
     "input": [
      "fig, ax = plt.subplots(1,1)\n",
      "n, bins, patches = ax.hist([x[1] for x in trips_freq], bins=25,\n",
      "                            align='mid', range=(0, 5000))\n",
      "plt.xlabel('Number of Trips')\n",
      "plt.ylabel('Number of Routes')\n",
      "plt.title('Distribution of trips over routes')\n",
      "plt.xticks(rotation=70)\n",
      "ax.set_xticks(bins[:-1])\n",
      "plt.subplots_adjust(bottom=0.2)"
     ],
     "language": "python",
     "metadata": {},
     "outputs": [
      {
       "metadata": {},
       "output_type": "display_data",
       "png": "[encoded data removed]",
       "text": [
        "<matplotlib.figure.Figure at 0x7fa9a1c7d2e8>"
       ]
      }
     ],
     "prompt_number": 8
    },
    {
     "cell_type": "markdown",
     "metadata": {},
     "source": [
      "There appears to be an outlier, and it also appears to be obviously skewed."
     ]
    },
    {
     "cell_type": "code",
     "collapsed": false,
     "input": [],
     "language": "python",
     "metadata": {},
     "outputs": []
    }
   ],
   "metadata": {}
  }
 ]
}
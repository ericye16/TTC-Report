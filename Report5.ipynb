{
 "metadata": {
  "celltoolbar": "Slideshow",
  "name": "",
  "signature": "sha256:68309d99c0139b18c7c15b4be37b999808f1b2d2df1028b0d0a73ff46512f8c2"
 },
 "nbformat": 3,
 "nbformat_minor": 0,
 "worksheets": [
  {
   "cells": [
    {
     "cell_type": "markdown",
     "metadata": {
      "slideshow": {
       "slide_type": "slide"
      }
     },
     "source": [
      "## Conclusions\n",
      "* Most routes are mostly punctual\n",
      "* Faster routes **don't** correlate with more punctual routes\n",
      "* Higher frequency routes **do** correlate with more punctual routes\n",
      "* Routes with higher ridership **do** correlate with higher punctuality\n",
      "* Faster routes **don't** correlate with ridership\n",
      "* Weather **does not** correlate with punctuality"
     ]
    },
    {
     "cell_type": "markdown",
     "metadata": {
      "slideshow": {
       "slide_type": "slide"
      }
     },
     "source": [
      "## Sources of Error\n",
      "* Time zones were ambiguous from the documentation\n",
      "* Time of arrival at stops is very noisy\n",
      "* Method for finding time of arrival could be much better\n",
      "* Server downtime occured (once)\n",
      "* Different formats (\"100_1_100\", \"100_0_100Acon\") were hard to match, largely ignored"
     ]
    },
    {
     "cell_type": "markdown",
     "metadata": {
      "slideshow": {
       "slide_type": "subslide"
      }
     },
     "source": [
      "## Further Research\n",
      "* Is NextBus very accurate?\n",
      "* Punctuality, ridership, etc. with subways\n",
      "* (Better) prediction service"
     ]
    },
    {
     "cell_type": "markdown",
     "metadata": {
      "slideshow": {
       "slide_type": "slide"
      }
     },
     "source": [
      "## References\n",
      "City of Toronto Open Data (March 2014). TTC Routes and Schedules. Retrieved from http://www1.toronto.ca/wps/portal/contentonly?vgnextoid=96f236899e02b210VgnVCM1000003dd60f89RCRD\n",
      "\n",
      "City of Toronto Open Data (April 2014). Next Vehicle Arrival System. Retrieved from https://www1.toronto.ca/wps/portal/contentonly?vgnextoid=4427790e6f21d210VgnVCM1000003dd60f89RCRD\n",
      "\n",
      "Toronto Transit Commission (n.d.). TTC Transit Planning. Retrieved from http://www.ttc.ca/About_the_TTC/Transit_Planning/index.jsp\n",
      "\n",
      "Toronto Transit Commission (2012). Surface Ridership. Retrieved from http://www.ttc.ca/About_the_TTC/Transit_Planning/Surface_Ridership_2012.jsp\n",
      "\n",
      "Toronto Transit Commission (2013). TTC Subway Ridership 2012-2013. Retrieved from http://www.ttc.ca/PDF/Transit_Planning/Subway_ridership_2012-2013.pdf\n",
      "\n",
      "Statistics Canada (2011). Commuting to Work. Retrieved from http://www12.statcan.gc.ca/nhs-enm/2011/as-sa/99-012-x/99-012-x2011003_1-eng.cfm"
     ]
    },
    {
     "cell_type": "markdown",
     "metadata": {
      "slideshow": {
       "slide_type": "slide"
      }
     },
     "source": [
      "* Code: [https://github.com/ericye16/TTC-Report](https://github.com/ericye16/TTC-Report)\n",
      "![qr code](http://zxing.org/w/chart?cht=qr&chs=350x350&chld=L&choe=UTF-8&chl=https%3A%2F%2Fgithub.com%2Fericye16%2FTTC-Report)\n",
      "\n",
      "<a rel=\"license\" href=\"http://creativecommons.org/licenses/by-sa/4.0/\"><img alt=\"Creative Commons License\" style=\"border-width:0\" src=\"http://i.creativecommons.org/l/by-sa/4.0/88x31.png\" /></a><br />This work is licensed under a <a rel=\"license\" href=\"http://creativecommons.org/licenses/by-sa/4.0/\">Creative Commons Attribution-ShareAlike 4.0 International License</a>."
     ]
    }
   ],
   "metadata": {}
  }
 ]
}
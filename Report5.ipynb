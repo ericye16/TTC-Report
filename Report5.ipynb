{
 "metadata": {
  "celltoolbar": "Slideshow",
  "name": "",
  "signature": "sha256:1322cee274c8d6d03d6b86f618637e4538937da57c14dd422fbd61dcea4f1529"
 },
 "nbformat": 3,
 "nbformat_minor": 0,
 "worksheets": [
  {
   "cells": [
    {
     "cell_type": "markdown",
     "metadata": {
      "slideshow": {
       "slide_type": "slide"
      }
     },
     "source": [
      "## Sources of Error\n",
      "* Time zones were ambiguous from the documentation\n",
      "* Time of arrival at stops is very noisy\n",
      "* Method for finding time of arrival could be much better\n",
      "* Server downtime occured (once)\n",
      "* Different formats (\"100_1_100\", \"100_0_100Acon\") were hard to match, largely ignored"
     ]
    },
    {
     "cell_type": "markdown",
     "metadata": {
      "slideshow": {
       "slide_type": "subslide"
      }
     },
     "source": [
      "## Further Research\n",
      "* Is NextBus very accurate?\n",
      "* Punctuality, ridership, etc. with subways\n",
      "* (Better) prediction service\n",
      "* Relationship to meteorological phenomena (i.e. the weather)"
     ]
    },
    {
     "cell_type": "markdown",
     "metadata": {
      "slideshow": {
       "slide_type": "slide"
      }
     },
     "source": [
      "## References\n",
      "City of Toronto Open Data (March 2014). TTC Routes and Schedules. Retrieved from http://www1.toronto.ca/wps/portal/contentonly?vgnextoid=96f236899e02b210VgnVCM1000003dd60f89RCRD\n",
      "\n",
      "City of Toronto Open Data (April 2014). Next Vehicle Arrival System. Retrieved from https://www1.toronto.ca/wps/portal/contentonly?vgnextoid=4427790e6f21d210VgnVCM1000003dd60f89RCRD\n",
      "\n",
      "Toronto Transit Commission (n.d.). TTC Transit Planning. Retrieved from http://www.ttc.ca/About_the_TTC/Transit_Planning/index.jsp\n",
      "\n",
      "Toronto Transit Commission (2012). Surface Ridership. Retrieved from http://www.ttc.ca/About_the_TTC/Transit_Planning/Surface_Ridership_2012.jsp\n",
      "\n",
      "Toronto Transit Commission (2013). TTC Subway Ridership 2012-2013. Retrieved from http://www.ttc.ca/PDF/Transit_Planning/Subway_ridership_2012-2013.pdf\n",
      "\n",
      "Statistics Canada (2011). Commuting to Work. Retrieved from http://www12.statcan.gc.ca/nhs-enm/2011/as-sa/99-012-x/99-012-x2011003_1-eng.cfm"
     ]
    },
    {
     "cell_type": "code",
     "collapsed": false,
     "input": [],
     "language": "python",
     "metadata": {},
     "outputs": []
    }
   ],
   "metadata": {}
  }
 ]
}